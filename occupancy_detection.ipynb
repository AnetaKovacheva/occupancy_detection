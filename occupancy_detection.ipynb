{
 "cells": [
  {
   "cell_type": "code",
   "execution_count": 1,
   "metadata": {},
   "outputs": [],
   "source": [
    "%matplotlib inline"
   ]
  },
  {
   "cell_type": "code",
   "execution_count": 2,
   "metadata": {},
   "outputs": [],
   "source": [
    "import numpy as np\n",
    "import pandas as pd\n",
    "import matplotlib.pyplot as plt \n",
    "import seaborn as sns\n",
    "sns.set()\n",
    "\n",
    "import warnings\n",
    "warnings.filterwarnings(\"ignore\")"
   ]
  },
  {
   "cell_type": "code",
   "execution_count": 3,
   "metadata": {},
   "outputs": [
    {
     "data": {
      "text/html": [
       "        <script type=\"text/javascript\">\n",
       "        window.PlotlyConfig = {MathJaxConfig: 'local'};\n",
       "        if (window.MathJax) {MathJax.Hub.Config({SVG: {font: \"STIX-Web\"}});}\n",
       "        if (typeof require !== 'undefined') {\n",
       "        require.undef(\"plotly\");\n",
       "        requirejs.config({\n",
       "            paths: {\n",
       "                'plotly': ['https://cdn.plot.ly/plotly-2.8.3.min']\n",
       "            }\n",
       "        });\n",
       "        require(['plotly'], function(Plotly) {\n",
       "            window._Plotly = Plotly;\n",
       "        });\n",
       "        }\n",
       "        </script>\n",
       "        "
      ]
     },
     "metadata": {},
     "output_type": "display_data"
    }
   ],
   "source": [
    "from plotly.offline import init_notebook_mode, iplot, plot\n",
    "init_notebook_mode(connected = True)\n",
    "import plotly.express as px\n",
    "import plotly.graph_objects as go"
   ]
  },
  {
   "cell_type": "code",
   "execution_count": 4,
   "metadata": {},
   "outputs": [],
   "source": [
    "from sklearn.preprocessing import MinMaxScaler\n",
    "from sklearn.model_selection import train_test_split\n",
    "from sklearn.neighbors import KNeighborsClassifier\n",
    "from sklearn.svm import SVC\n",
    "from sklearn.metrics import confusion_matrix"
   ]
  },
  {
   "cell_type": "code",
   "execution_count": 5,
   "metadata": {},
   "outputs": [],
   "source": [
    "import tensorflow as tf"
   ]
  },
  {
   "cell_type": "code",
   "execution_count": 6,
   "metadata": {},
   "outputs": [],
   "source": [
    "from tensorflow.keras.models import Sequential\n",
    "from tensorflow.keras.layers import Dense, Activation, Dropout\n",
    "from tensorflow.keras.regularizers import l2, l1\n",
    "from tensorflow.keras.metrics import BinaryAccuracy"
   ]
  },
  {
   "cell_type": "markdown",
   "metadata": {},
   "source": [
    "## 1. Load data"
   ]
  },
  {
   "cell_type": "code",
   "execution_count": 7,
   "metadata": {},
   "outputs": [
    {
     "data": {
      "text/html": [
       "<div>\n",
       "<style scoped>\n",
       "    .dataframe tbody tr th:only-of-type {\n",
       "        vertical-align: middle;\n",
       "    }\n",
       "\n",
       "    .dataframe tbody tr th {\n",
       "        vertical-align: top;\n",
       "    }\n",
       "\n",
       "    .dataframe thead th {\n",
       "        text-align: right;\n",
       "    }\n",
       "</style>\n",
       "<table border=\"1\" class=\"dataframe\">\n",
       "  <thead>\n",
       "    <tr style=\"text-align: right;\">\n",
       "      <th></th>\n",
       "      <th>date</th>\n",
       "      <th>Temperature</th>\n",
       "      <th>Humidity</th>\n",
       "      <th>Light</th>\n",
       "      <th>CO2</th>\n",
       "      <th>HumidityRatio</th>\n",
       "      <th>Occupancy</th>\n",
       "    </tr>\n",
       "  </thead>\n",
       "  <tbody>\n",
       "    <tr>\n",
       "      <th>140</th>\n",
       "      <td>2015-02-02 14:19:00</td>\n",
       "      <td>23.7000</td>\n",
       "      <td>26.272</td>\n",
       "      <td>585.200000</td>\n",
       "      <td>749.200000</td>\n",
       "      <td>0.004764</td>\n",
       "      <td>1</td>\n",
       "    </tr>\n",
       "    <tr>\n",
       "      <th>141</th>\n",
       "      <td>2015-02-02 14:19:59</td>\n",
       "      <td>23.7180</td>\n",
       "      <td>26.290</td>\n",
       "      <td>578.400000</td>\n",
       "      <td>760.400000</td>\n",
       "      <td>0.004773</td>\n",
       "      <td>1</td>\n",
       "    </tr>\n",
       "    <tr>\n",
       "      <th>142</th>\n",
       "      <td>2015-02-02 14:21:00</td>\n",
       "      <td>23.7300</td>\n",
       "      <td>26.230</td>\n",
       "      <td>572.666667</td>\n",
       "      <td>769.666667</td>\n",
       "      <td>0.004765</td>\n",
       "      <td>1</td>\n",
       "    </tr>\n",
       "    <tr>\n",
       "      <th>143</th>\n",
       "      <td>2015-02-02 14:22:00</td>\n",
       "      <td>23.7225</td>\n",
       "      <td>26.125</td>\n",
       "      <td>493.750000</td>\n",
       "      <td>774.750000</td>\n",
       "      <td>0.004744</td>\n",
       "      <td>1</td>\n",
       "    </tr>\n",
       "    <tr>\n",
       "      <th>144</th>\n",
       "      <td>2015-02-02 14:23:00</td>\n",
       "      <td>23.7540</td>\n",
       "      <td>26.200</td>\n",
       "      <td>488.600000</td>\n",
       "      <td>779.000000</td>\n",
       "      <td>0.004767</td>\n",
       "      <td>1</td>\n",
       "    </tr>\n",
       "  </tbody>\n",
       "</table>\n",
       "</div>"
      ],
      "text/plain": [
       "                    date  Temperature  Humidity       Light         CO2  \\\n",
       "140  2015-02-02 14:19:00      23.7000    26.272  585.200000  749.200000   \n",
       "141  2015-02-02 14:19:59      23.7180    26.290  578.400000  760.400000   \n",
       "142  2015-02-02 14:21:00      23.7300    26.230  572.666667  769.666667   \n",
       "143  2015-02-02 14:22:00      23.7225    26.125  493.750000  774.750000   \n",
       "144  2015-02-02 14:23:00      23.7540    26.200  488.600000  779.000000   \n",
       "\n",
       "     HumidityRatio  Occupancy  \n",
       "140       0.004764          1  \n",
       "141       0.004773          1  \n",
       "142       0.004765          1  \n",
       "143       0.004744          1  \n",
       "144       0.004767          1  "
      ]
     },
     "execution_count": 7,
     "metadata": {},
     "output_type": "execute_result"
    }
   ],
   "source": [
    "dataset = pd.read_csv(\"data\\datatest.txt\")\n",
    "dataset.head()"
   ]
  },
  {
   "cell_type": "code",
   "execution_count": 8,
   "metadata": {},
   "outputs": [
    {
     "data": {
      "text/html": [
       "<div>\n",
       "<style scoped>\n",
       "    .dataframe tbody tr th:only-of-type {\n",
       "        vertical-align: middle;\n",
       "    }\n",
       "\n",
       "    .dataframe tbody tr th {\n",
       "        vertical-align: top;\n",
       "    }\n",
       "\n",
       "    .dataframe thead th {\n",
       "        text-align: right;\n",
       "    }\n",
       "</style>\n",
       "<table border=\"1\" class=\"dataframe\">\n",
       "  <thead>\n",
       "    <tr style=\"text-align: right;\">\n",
       "      <th></th>\n",
       "      <th>date</th>\n",
       "      <th>Temperature</th>\n",
       "      <th>Humidity</th>\n",
       "      <th>Light</th>\n",
       "      <th>CO2</th>\n",
       "      <th>HumidityRatio</th>\n",
       "      <th>Occupancy</th>\n",
       "    </tr>\n",
       "  </thead>\n",
       "  <tbody>\n",
       "    <tr>\n",
       "      <th>1</th>\n",
       "      <td>2015-02-11 14:48:00</td>\n",
       "      <td>21.7600</td>\n",
       "      <td>31.133333</td>\n",
       "      <td>437.333333</td>\n",
       "      <td>1029.666667</td>\n",
       "      <td>0.005021</td>\n",
       "      <td>1</td>\n",
       "    </tr>\n",
       "    <tr>\n",
       "      <th>2</th>\n",
       "      <td>2015-02-11 14:49:00</td>\n",
       "      <td>21.7900</td>\n",
       "      <td>31.000000</td>\n",
       "      <td>437.333333</td>\n",
       "      <td>1000.000000</td>\n",
       "      <td>0.005009</td>\n",
       "      <td>1</td>\n",
       "    </tr>\n",
       "    <tr>\n",
       "      <th>3</th>\n",
       "      <td>2015-02-11 14:50:00</td>\n",
       "      <td>21.7675</td>\n",
       "      <td>31.122500</td>\n",
       "      <td>434.000000</td>\n",
       "      <td>1003.750000</td>\n",
       "      <td>0.005022</td>\n",
       "      <td>1</td>\n",
       "    </tr>\n",
       "    <tr>\n",
       "      <th>4</th>\n",
       "      <td>2015-02-11 14:51:00</td>\n",
       "      <td>21.7675</td>\n",
       "      <td>31.122500</td>\n",
       "      <td>439.000000</td>\n",
       "      <td>1009.500000</td>\n",
       "      <td>0.005022</td>\n",
       "      <td>1</td>\n",
       "    </tr>\n",
       "    <tr>\n",
       "      <th>5</th>\n",
       "      <td>2015-02-11 14:51:59</td>\n",
       "      <td>21.7900</td>\n",
       "      <td>31.133333</td>\n",
       "      <td>437.333333</td>\n",
       "      <td>1005.666667</td>\n",
       "      <td>0.005030</td>\n",
       "      <td>1</td>\n",
       "    </tr>\n",
       "  </tbody>\n",
       "</table>\n",
       "</div>"
      ],
      "text/plain": [
       "                  date  Temperature   Humidity       Light          CO2  \\\n",
       "1  2015-02-11 14:48:00      21.7600  31.133333  437.333333  1029.666667   \n",
       "2  2015-02-11 14:49:00      21.7900  31.000000  437.333333  1000.000000   \n",
       "3  2015-02-11 14:50:00      21.7675  31.122500  434.000000  1003.750000   \n",
       "4  2015-02-11 14:51:00      21.7675  31.122500  439.000000  1009.500000   \n",
       "5  2015-02-11 14:51:59      21.7900  31.133333  437.333333  1005.666667   \n",
       "\n",
       "   HumidityRatio  Occupancy  \n",
       "1       0.005021          1  \n",
       "2       0.005009          1  \n",
       "3       0.005022          1  \n",
       "4       0.005022          1  \n",
       "5       0.005030          1  "
      ]
     },
     "execution_count": 8,
     "metadata": {},
     "output_type": "execute_result"
    }
   ],
   "source": [
    "dataset2 = pd.read_csv(\"data\\datatest2.txt\")\n",
    "dataset2.head()"
   ]
  },
  {
   "cell_type": "code",
   "execution_count": 9,
   "metadata": {},
   "outputs": [
    {
     "data": {
      "text/html": [
       "<div>\n",
       "<style scoped>\n",
       "    .dataframe tbody tr th:only-of-type {\n",
       "        vertical-align: middle;\n",
       "    }\n",
       "\n",
       "    .dataframe tbody tr th {\n",
       "        vertical-align: top;\n",
       "    }\n",
       "\n",
       "    .dataframe thead th {\n",
       "        text-align: right;\n",
       "    }\n",
       "</style>\n",
       "<table border=\"1\" class=\"dataframe\">\n",
       "  <thead>\n",
       "    <tr style=\"text-align: right;\">\n",
       "      <th></th>\n",
       "      <th>date</th>\n",
       "      <th>Temperature</th>\n",
       "      <th>Humidity</th>\n",
       "      <th>Light</th>\n",
       "      <th>CO2</th>\n",
       "      <th>HumidityRatio</th>\n",
       "      <th>Occupancy</th>\n",
       "    </tr>\n",
       "  </thead>\n",
       "  <tbody>\n",
       "    <tr>\n",
       "      <th>1</th>\n",
       "      <td>2015-02-04 17:51:00</td>\n",
       "      <td>23.18</td>\n",
       "      <td>27.2720</td>\n",
       "      <td>426.0</td>\n",
       "      <td>721.25</td>\n",
       "      <td>0.004793</td>\n",
       "      <td>1</td>\n",
       "    </tr>\n",
       "    <tr>\n",
       "      <th>2</th>\n",
       "      <td>2015-02-04 17:51:59</td>\n",
       "      <td>23.15</td>\n",
       "      <td>27.2675</td>\n",
       "      <td>429.5</td>\n",
       "      <td>714.00</td>\n",
       "      <td>0.004783</td>\n",
       "      <td>1</td>\n",
       "    </tr>\n",
       "    <tr>\n",
       "      <th>3</th>\n",
       "      <td>2015-02-04 17:53:00</td>\n",
       "      <td>23.15</td>\n",
       "      <td>27.2450</td>\n",
       "      <td>426.0</td>\n",
       "      <td>713.50</td>\n",
       "      <td>0.004779</td>\n",
       "      <td>1</td>\n",
       "    </tr>\n",
       "    <tr>\n",
       "      <th>4</th>\n",
       "      <td>2015-02-04 17:54:00</td>\n",
       "      <td>23.15</td>\n",
       "      <td>27.2000</td>\n",
       "      <td>426.0</td>\n",
       "      <td>708.25</td>\n",
       "      <td>0.004772</td>\n",
       "      <td>1</td>\n",
       "    </tr>\n",
       "    <tr>\n",
       "      <th>5</th>\n",
       "      <td>2015-02-04 17:55:00</td>\n",
       "      <td>23.10</td>\n",
       "      <td>27.2000</td>\n",
       "      <td>426.0</td>\n",
       "      <td>704.50</td>\n",
       "      <td>0.004757</td>\n",
       "      <td>1</td>\n",
       "    </tr>\n",
       "  </tbody>\n",
       "</table>\n",
       "</div>"
      ],
      "text/plain": [
       "                  date  Temperature  Humidity  Light     CO2  HumidityRatio  \\\n",
       "1  2015-02-04 17:51:00        23.18   27.2720  426.0  721.25       0.004793   \n",
       "2  2015-02-04 17:51:59        23.15   27.2675  429.5  714.00       0.004783   \n",
       "3  2015-02-04 17:53:00        23.15   27.2450  426.0  713.50       0.004779   \n",
       "4  2015-02-04 17:54:00        23.15   27.2000  426.0  708.25       0.004772   \n",
       "5  2015-02-04 17:55:00        23.10   27.2000  426.0  704.50       0.004757   \n",
       "\n",
       "   Occupancy  \n",
       "1          1  \n",
       "2          1  \n",
       "3          1  \n",
       "4          1  \n",
       "5          1  "
      ]
     },
     "execution_count": 9,
     "metadata": {},
     "output_type": "execute_result"
    }
   ],
   "source": [
    "datatraining = pd.read_csv(\"data\\datatraining.txt\")\n",
    "datatraining.head()"
   ]
  },
  {
   "cell_type": "markdown",
   "metadata": {},
   "source": [
    "## 2. EDA"
   ]
  },
  {
   "cell_type": "code",
   "execution_count": 10,
   "metadata": {},
   "outputs": [
    {
     "name": "stdout",
     "output_type": "stream",
     "text": [
      "<class 'pandas.core.frame.DataFrame'>\n",
      "Int64Index: 2665 entries, 140 to 2804\n",
      "Data columns (total 7 columns):\n",
      " #   Column         Non-Null Count  Dtype  \n",
      "---  ------         --------------  -----  \n",
      " 0   date           2665 non-null   object \n",
      " 1   Temperature    2665 non-null   float64\n",
      " 2   Humidity       2665 non-null   float64\n",
      " 3   Light          2665 non-null   float64\n",
      " 4   CO2            2665 non-null   float64\n",
      " 5   HumidityRatio  2665 non-null   float64\n",
      " 6   Occupancy      2665 non-null   int64  \n",
      "dtypes: float64(5), int64(1), object(1)\n",
      "memory usage: 166.6+ KB\n"
     ]
    }
   ],
   "source": [
    "dataset.info()"
   ]
  },
  {
   "cell_type": "code",
   "execution_count": 11,
   "metadata": {},
   "outputs": [
    {
     "name": "stdout",
     "output_type": "stream",
     "text": [
      "<class 'pandas.core.frame.DataFrame'>\n",
      "Int64Index: 9752 entries, 1 to 9752\n",
      "Data columns (total 7 columns):\n",
      " #   Column         Non-Null Count  Dtype  \n",
      "---  ------         --------------  -----  \n",
      " 0   date           9752 non-null   object \n",
      " 1   Temperature    9752 non-null   float64\n",
      " 2   Humidity       9752 non-null   float64\n",
      " 3   Light          9752 non-null   float64\n",
      " 4   CO2            9752 non-null   float64\n",
      " 5   HumidityRatio  9752 non-null   float64\n",
      " 6   Occupancy      9752 non-null   int64  \n",
      "dtypes: float64(5), int64(1), object(1)\n",
      "memory usage: 609.5+ KB\n"
     ]
    }
   ],
   "source": [
    "dataset2.info()"
   ]
  },
  {
   "cell_type": "code",
   "execution_count": 12,
   "metadata": {},
   "outputs": [
    {
     "name": "stdout",
     "output_type": "stream",
     "text": [
      "<class 'pandas.core.frame.DataFrame'>\n",
      "Int64Index: 8143 entries, 1 to 8143\n",
      "Data columns (total 7 columns):\n",
      " #   Column         Non-Null Count  Dtype  \n",
      "---  ------         --------------  -----  \n",
      " 0   date           8143 non-null   object \n",
      " 1   Temperature    8143 non-null   float64\n",
      " 2   Humidity       8143 non-null   float64\n",
      " 3   Light          8143 non-null   float64\n",
      " 4   CO2            8143 non-null   float64\n",
      " 5   HumidityRatio  8143 non-null   float64\n",
      " 6   Occupancy      8143 non-null   int64  \n",
      "dtypes: float64(5), int64(1), object(1)\n",
      "memory usage: 508.9+ KB\n"
     ]
    }
   ],
   "source": [
    "datatraining.info()"
   ]
  },
  {
   "cell_type": "markdown",
   "metadata": {},
   "source": [
    "All text files has seven columns as date, temperature, humidity, light, CO2, humidity ratio and occupancy.\n",
    "\n",
    "    Temperature in Celsius.\n",
    "    Relative humidity as a percentage.\n",
    "    Light measured in lux.\n",
    "    Carbon dioxide measured in parts per million.\n",
    "    Humidity ratio, derived from temperature and relative humidity measured in kilograms of water vapor per kilogram of air.\n",
    "    Occupancy as either 1 for occupied or 0 for not occupied.\n",
    "\n",
    "For training and testing the models, I will use I will use datatraining(8143 instances) as training, datatest(2665 instances) as validation and datatest2(9752 instances) as test data."
   ]
  },
  {
   "cell_type": "code",
   "execution_count": 13,
   "metadata": {},
   "outputs": [],
   "source": [
    "def convert_to_datetime(dataset):\n",
    "    dataset[\"date\"] = pd.to_datetime(dataset[\"date\"])\n",
    "    dataset.reset_index(drop = True, inplace = True)\n",
    "    return dataset"
   ]
  },
  {
   "cell_type": "code",
   "execution_count": 14,
   "metadata": {},
   "outputs": [],
   "source": [
    "dataset = convert_to_datetime(dataset)\n",
    "dataset2 = convert_to_datetime(dataset2)\n",
    "datatraining = convert_to_datetime(datatraining)"
   ]
  },
  {
   "cell_type": "code",
   "execution_count": 15,
   "metadata": {},
   "outputs": [
    {
     "data": {
      "text/html": [
       "<div>\n",
       "<style scoped>\n",
       "    .dataframe tbody tr th:only-of-type {\n",
       "        vertical-align: middle;\n",
       "    }\n",
       "\n",
       "    .dataframe tbody tr th {\n",
       "        vertical-align: top;\n",
       "    }\n",
       "\n",
       "    .dataframe thead th {\n",
       "        text-align: right;\n",
       "    }\n",
       "</style>\n",
       "<table border=\"1\" class=\"dataframe\">\n",
       "  <thead>\n",
       "    <tr style=\"text-align: right;\">\n",
       "      <th></th>\n",
       "      <th>count</th>\n",
       "      <th>mean</th>\n",
       "      <th>std</th>\n",
       "      <th>min</th>\n",
       "      <th>25%</th>\n",
       "      <th>50%</th>\n",
       "      <th>75%</th>\n",
       "      <th>max</th>\n",
       "    </tr>\n",
       "  </thead>\n",
       "  <tbody>\n",
       "    <tr>\n",
       "      <th>Temperature</th>\n",
       "      <td>8143.0</td>\n",
       "      <td>20.619084</td>\n",
       "      <td>1.016916</td>\n",
       "      <td>19.000000</td>\n",
       "      <td>19.700000</td>\n",
       "      <td>20.390000</td>\n",
       "      <td>21.390000</td>\n",
       "      <td>23.180000</td>\n",
       "    </tr>\n",
       "    <tr>\n",
       "      <th>Humidity</th>\n",
       "      <td>8143.0</td>\n",
       "      <td>25.731507</td>\n",
       "      <td>5.531211</td>\n",
       "      <td>16.745000</td>\n",
       "      <td>20.200000</td>\n",
       "      <td>26.222500</td>\n",
       "      <td>30.533333</td>\n",
       "      <td>39.117500</td>\n",
       "    </tr>\n",
       "    <tr>\n",
       "      <th>Light</th>\n",
       "      <td>8143.0</td>\n",
       "      <td>119.519375</td>\n",
       "      <td>194.755805</td>\n",
       "      <td>0.000000</td>\n",
       "      <td>0.000000</td>\n",
       "      <td>0.000000</td>\n",
       "      <td>256.375000</td>\n",
       "      <td>1546.333333</td>\n",
       "    </tr>\n",
       "    <tr>\n",
       "      <th>CO2</th>\n",
       "      <td>8143.0</td>\n",
       "      <td>606.546243</td>\n",
       "      <td>314.320877</td>\n",
       "      <td>412.750000</td>\n",
       "      <td>439.000000</td>\n",
       "      <td>453.500000</td>\n",
       "      <td>638.833333</td>\n",
       "      <td>2028.500000</td>\n",
       "    </tr>\n",
       "    <tr>\n",
       "      <th>HumidityRatio</th>\n",
       "      <td>8143.0</td>\n",
       "      <td>0.003863</td>\n",
       "      <td>0.000852</td>\n",
       "      <td>0.002674</td>\n",
       "      <td>0.003078</td>\n",
       "      <td>0.003801</td>\n",
       "      <td>0.004352</td>\n",
       "      <td>0.006476</td>\n",
       "    </tr>\n",
       "    <tr>\n",
       "      <th>Occupancy</th>\n",
       "      <td>8143.0</td>\n",
       "      <td>0.212330</td>\n",
       "      <td>0.408982</td>\n",
       "      <td>0.000000</td>\n",
       "      <td>0.000000</td>\n",
       "      <td>0.000000</td>\n",
       "      <td>0.000000</td>\n",
       "      <td>1.000000</td>\n",
       "    </tr>\n",
       "  </tbody>\n",
       "</table>\n",
       "</div>"
      ],
      "text/plain": [
       "                count        mean         std         min         25%  \\\n",
       "Temperature    8143.0   20.619084    1.016916   19.000000   19.700000   \n",
       "Humidity       8143.0   25.731507    5.531211   16.745000   20.200000   \n",
       "Light          8143.0  119.519375  194.755805    0.000000    0.000000   \n",
       "CO2            8143.0  606.546243  314.320877  412.750000  439.000000   \n",
       "HumidityRatio  8143.0    0.003863    0.000852    0.002674    0.003078   \n",
       "Occupancy      8143.0    0.212330    0.408982    0.000000    0.000000   \n",
       "\n",
       "                      50%         75%          max  \n",
       "Temperature     20.390000   21.390000    23.180000  \n",
       "Humidity        26.222500   30.533333    39.117500  \n",
       "Light            0.000000  256.375000  1546.333333  \n",
       "CO2            453.500000  638.833333  2028.500000  \n",
       "HumidityRatio    0.003801    0.004352     0.006476  \n",
       "Occupancy        0.000000    0.000000     1.000000  "
      ]
     },
     "execution_count": 15,
     "metadata": {},
     "output_type": "execute_result"
    }
   ],
   "source": [
    "datatraining.describe().T"
   ]
  },
  {
   "cell_type": "code",
   "execution_count": 17,
   "metadata": {},
   "outputs": [],
   "source": [
    "dataset = dataset.set_index(\"date\")\n",
    "dataset2 = dataset2.set_index(\"date\")\n",
    "datatraining = datatraining.set_index(\"date\")"
   ]
  },
  {
   "cell_type": "code",
   "execution_count": 21,
   "metadata": {},
   "outputs": [
    {
     "data": {
      "text/plain": [
       "(Timestamp('2015-02-02 14:19:00'), Timestamp('2015-02-04 10:43:00'))"
      ]
     },
     "execution_count": 21,
     "metadata": {},
     "output_type": "execute_result"
    }
   ],
   "source": [
    "dataset.index.min(), dataset.index.max()"
   ]
  },
  {
   "cell_type": "code",
   "execution_count": 23,
   "metadata": {},
   "outputs": [
    {
     "data": {
      "text/plain": [
       "(Timestamp('2015-02-11 14:48:00'), Timestamp('2015-02-18 09:19:00'))"
      ]
     },
     "execution_count": 23,
     "metadata": {},
     "output_type": "execute_result"
    }
   ],
   "source": [
    "dataset2.index.min(), dataset2.index.max()"
   ]
  },
  {
   "cell_type": "code",
   "execution_count": 24,
   "metadata": {},
   "outputs": [
    {
     "data": {
      "text/plain": [
       "(Timestamp('2015-02-04 17:51:00'), Timestamp('2015-02-10 09:33:00'))"
      ]
     },
     "execution_count": 24,
     "metadata": {},
     "output_type": "execute_result"
    }
   ],
   "source": [
    "datatraining.index.min(), datatraining.index.max()"
   ]
  },
  {
   "cell_type": "code",
   "execution_count": 28,
   "metadata": {},
   "outputs": [],
   "source": [
    "cols_plot = [\"Temperature\", \"Humidity\", \"Light\", \"CO2\", \"HumidityRatio\"]"
   ]
  },
  {
   "cell_type": "code",
   "execution_count": 29,
   "metadata": {},
   "outputs": [],
   "source": [
    "def plot_params_against_time(dataframe):\n",
    "    axes = dataframe[cols_plot].plot(marker=',', alpha=0.5, linestyle='None', linewidth = 0.1, figsize=(14, 9), subplots=True)\n",
    "    for ax in axes:\n",
    "        ax.set_ylabel('Measure')"
   ]
  },
  {
   "cell_type": "code",
   "execution_count": 30,
   "metadata": {},
   "outputs": [
    {
     "data": {
      "image/png": "[encoded data removed]",
      "text/plain": [
       "<Figure size 1008x648 with 5 Axes>"
      ]
     },
     "metadata": {},
     "output_type": "display_data"
    }
   ],
   "source": [
    "plot_params_against_time(datatraining)"
   ]
  },
  {
   "cell_type": "code",
   "execution_count": 31,
   "metadata": {},
   "outputs": [
    {
     "data": {
      "image/png": "[encoded data removed]",
      "text/plain": [
       "<Figure size 1008x648 with 5 Axes>"
      ]
     },
     "metadata": {},
     "output_type": "display_data"
    }
   ],
   "source": [
    "plot_params_against_time(dataset)"
   ]
  },
  {
   "cell_type": "code",
   "execution_count": 32,
   "metadata": {},
   "outputs": [
    {
     "data": {
      "image/png": "[encoded data removed]",
      "text/plain": [
       "<Figure size 1008x648 with 5 Axes>"
      ]
     },
     "metadata": {},
     "output_type": "display_data"
    }
   ],
   "source": [
    "plot_params_against_time(dataset2)"
   ]
  },
  {
   "cell_type": "code",
   "execution_count": null,
   "metadata": {},
   "outputs": [],
   "source": []
  },
  {
   "cell_type": "code",
   "execution_count": null,
   "metadata": {},
   "outputs": [],
   "source": []
  },
  {
   "cell_type": "markdown",
   "metadata": {},
   "source": [
    "Since we have low values like humidity_ratio and high values like light and CO2, we should normalize the data to simplfy the learning process."
   ]
  },
  {
   "cell_type": "code",
   "execution_count": 17,
   "metadata": {},
   "outputs": [],
   "source": [
    "def normalize_values(dataset):\n",
    "    scaler = MinMaxScaler()\n",
    "    columns = ['Temperature', 'Humidity', 'Light', 'CO2', 'HumidityRatio']\n",
    "    dataset[columns] = scaler.fit_transform(np.array(dataset[columns]))\n",
    "    return dataset"
   ]
  },
  {
   "cell_type": "code",
   "execution_count": 18,
   "metadata": {},
   "outputs": [],
   "source": [
    "dataset = normalize_values(dataset)\n",
    "dataset2 = normalize_values(dataset2)\n",
    "datatraining = normalize_values(datatraining)"
   ]
  },
  {
   "cell_type": "code",
   "execution_count": 19,
   "metadata": {},
   "outputs": [
    {
     "data": {
      "text/html": [
       "<div>\n",
       "<style scoped>\n",
       "    .dataframe tbody tr th:only-of-type {\n",
       "        vertical-align: middle;\n",
       "    }\n",
       "\n",
       "    .dataframe tbody tr th {\n",
       "        vertical-align: top;\n",
       "    }\n",
       "\n",
       "    .dataframe thead th {\n",
       "        text-align: right;\n",
       "    }\n",
       "</style>\n",
       "<table border=\"1\" class=\"dataframe\">\n",
       "  <thead>\n",
       "    <tr style=\"text-align: right;\">\n",
       "      <th></th>\n",
       "      <th>count</th>\n",
       "      <th>mean</th>\n",
       "      <th>std</th>\n",
       "      <th>min</th>\n",
       "      <th>25%</th>\n",
       "      <th>50%</th>\n",
       "      <th>75%</th>\n",
       "      <th>max</th>\n",
       "    </tr>\n",
       "  </thead>\n",
       "  <tbody>\n",
       "    <tr>\n",
       "      <th>Temperature</th>\n",
       "      <td>8143.0</td>\n",
       "      <td>0.387341</td>\n",
       "      <td>0.243281</td>\n",
       "      <td>0.0</td>\n",
       "      <td>0.167464</td>\n",
       "      <td>0.332536</td>\n",
       "      <td>0.571770</td>\n",
       "      <td>1.0</td>\n",
       "    </tr>\n",
       "    <tr>\n",
       "      <th>Humidity</th>\n",
       "      <td>8143.0</td>\n",
       "      <td>0.401676</td>\n",
       "      <td>0.247233</td>\n",
       "      <td>0.0</td>\n",
       "      <td>0.154431</td>\n",
       "      <td>0.423623</td>\n",
       "      <td>0.616307</td>\n",
       "      <td>1.0</td>\n",
       "    </tr>\n",
       "    <tr>\n",
       "      <th>Light</th>\n",
       "      <td>8143.0</td>\n",
       "      <td>0.077292</td>\n",
       "      <td>0.125947</td>\n",
       "      <td>0.0</td>\n",
       "      <td>0.000000</td>\n",
       "      <td>0.000000</td>\n",
       "      <td>0.165795</td>\n",
       "      <td>1.0</td>\n",
       "    </tr>\n",
       "    <tr>\n",
       "      <th>CO2</th>\n",
       "      <td>8143.0</td>\n",
       "      <td>0.119942</td>\n",
       "      <td>0.194536</td>\n",
       "      <td>0.0</td>\n",
       "      <td>0.016246</td>\n",
       "      <td>0.025220</td>\n",
       "      <td>0.139925</td>\n",
       "      <td>1.0</td>\n",
       "    </tr>\n",
       "    <tr>\n",
       "      <th>HumidityRatio</th>\n",
       "      <td>8143.0</td>\n",
       "      <td>0.312576</td>\n",
       "      <td>0.224186</td>\n",
       "      <td>0.0</td>\n",
       "      <td>0.106304</td>\n",
       "      <td>0.296338</td>\n",
       "      <td>0.441308</td>\n",
       "      <td>1.0</td>\n",
       "    </tr>\n",
       "  </tbody>\n",
       "</table>\n",
       "</div>"
      ],
      "text/plain": [
       "                count      mean       std  min       25%       50%       75%  \\\n",
       "Temperature    8143.0  0.387341  0.243281  0.0  0.167464  0.332536  0.571770   \n",
       "Humidity       8143.0  0.401676  0.247233  0.0  0.154431  0.423623  0.616307   \n",
       "Light          8143.0  0.077292  0.125947  0.0  0.000000  0.000000  0.165795   \n",
       "CO2            8143.0  0.119942  0.194536  0.0  0.016246  0.025220  0.139925   \n",
       "HumidityRatio  8143.0  0.312576  0.224186  0.0  0.106304  0.296338  0.441308   \n",
       "\n",
       "               max  \n",
       "Temperature    1.0  \n",
       "Humidity       1.0  \n",
       "Light          1.0  \n",
       "CO2            1.0  \n",
       "HumidityRatio  1.0  "
      ]
     },
     "execution_count": 19,
     "metadata": {},
     "output_type": "execute_result"
    }
   ],
   "source": [
    "datatraining.drop([\"date\", \"Occupancy\"], axis = 1).describe().T"
   ]
  },
  {
   "cell_type": "code",
   "execution_count": 20,
   "metadata": {},
   "outputs": [],
   "source": [
    "def box_plots(dataframe):\n",
    "    plt.figure(figsize = (10, 10))\n",
    "    plt.title(f\"Boxplot for features\", fontdict = {\"fontsize\": 18})\n",
    "    ax = sns.boxplot(data = dataframe.drop([\"date\", \"Occupancy\"], axis = 1), palette = \"Set2\", orient = \"h\")\n",
    "    plt.show()"
   ]
  },
  {
   "cell_type": "code",
   "execution_count": 21,
   "metadata": {},
   "outputs": [
    {
     "data": {
      "image/png": "[encoded data removed]",
      "text/plain": [
       "<Figure size 720x720 with 1 Axes>"
      ]
     },
     "metadata": {},
     "output_type": "display_data"
    }
   ],
   "source": [
    "box_plots(dataset)"
   ]
  },
  {
   "cell_type": "code",
   "execution_count": 22,
   "metadata": {},
   "outputs": [
    {
     "data": {
      "image/png": "[encoded data removed]",
      "text/plain": [
       "<Figure size 720x720 with 1 Axes>"
      ]
     },
     "metadata": {},
     "output_type": "display_data"
    }
   ],
   "source": [
    "box_plots(dataset2)"
   ]
  },
  {
   "cell_type": "code",
   "execution_count": 23,
   "metadata": {},
   "outputs": [
    {
     "data": {
      "image/png": "[encoded data removed]",
      "text/plain": [
       "<Figure size 720x720 with 1 Axes>"
      ]
     },
     "metadata": {},
     "output_type": "display_data"
    }
   ],
   "source": [
    "box_plots(datatraining)"
   ]
  },
  {
   "cell_type": "code",
   "execution_count": 24,
   "metadata": {},
   "outputs": [],
   "source": [
    "def show_correlation_matrix(dataframe):\n",
    "    plt.figure(figsize=(10, 8))\n",
    "    plt.title(\"Correlation table for features\", fontdict={\"fontsize\": 18})\n",
    "    ax = sns.heatmap(dataframe.corr(), annot=True, linewidths=0.2)\n",
    "    plt.show()\n"
   ]
  },
  {
   "cell_type": "code",
   "execution_count": 25,
   "metadata": {},
   "outputs": [
    {
     "data": {
      "image/png": "[encoded data removed]",
      "text/plain": [
       "<Figure size 720x576 with 2 Axes>"
      ]
     },
     "metadata": {},
     "output_type": "display_data"
    }
   ],
   "source": [
    "show_correlation_matrix(dataset)"
   ]
  },
  {
   "cell_type": "code",
   "execution_count": 26,
   "metadata": {},
   "outputs": [
    {
     "data": {
      "image/png": "[encoded data removed]",
      "text/plain": [
       "<Figure size 720x576 with 2 Axes>"
      ]
     },
     "metadata": {},
     "output_type": "display_data"
    }
   ],
   "source": [
    "show_correlation_matrix(dataset2)"
   ]
  },
  {
   "cell_type": "code",
   "execution_count": 28,
   "metadata": {},
   "outputs": [
    {
     "data": {
      "image/png": "[encoded data removed]",
      "text/plain": [
       "<Figure size 720x576 with 2 Axes>"
      ]
     },
     "metadata": {},
     "output_type": "display_data"
    }
   ],
   "source": [
    "show_correlation_matrix(datatraining)"
   ]
  },
  {
   "cell_type": "markdown",
   "metadata": {},
   "source": [
    "We can see the correlations between occupancy and the others. As I expected, light value is more correlated with occupancy than others."
   ]
  },
  {
   "cell_type": "code",
   "execution_count": 29,
   "metadata": {},
   "outputs": [],
   "source": [
    "def plot_counts(dataframe):\n",
    "    sns.set(style=\"darkgrid\")\n",
    "    plt.title(\"Occupancy Distribution\", fontdict={'fontsize':18})\n",
    "    ax = sns.countplot(x=\"Occupancy\", data=dataframe)\n",
    "    plt.show()"
   ]
  },
  {
   "cell_type": "code",
   "execution_count": 30,
   "metadata": {},
   "outputs": [
    {
     "data": {
      "image/png": "[encoded data removed]",
      "text/plain": [
       "<Figure size 432x288 with 1 Axes>"
      ]
     },
     "metadata": {},
     "output_type": "display_data"
    }
   ],
   "source": [
    "plot_counts(dataset)"
   ]
  },
  {
   "cell_type": "code",
   "execution_count": 31,
   "metadata": {},
   "outputs": [
    {
     "data": {
      "image/png": "[encoded data removed]",
      "text/plain": [
       "<Figure size 432x288 with 1 Axes>"
      ]
     },
     "metadata": {},
     "output_type": "display_data"
    }
   ],
   "source": [
    "plot_counts(dataset2)"
   ]
  },
  {
   "cell_type": "code",
   "execution_count": 32,
   "metadata": {},
   "outputs": [
    {
     "data": {
      "image/png": "[encoded data removed]",
      "text/plain": [
       "<Figure size 432x288 with 1 Axes>"
      ]
     },
     "metadata": {},
     "output_type": "display_data"
    }
   ],
   "source": [
    "plot_counts(datatraining)"
   ]
  },
  {
   "cell_type": "markdown",
   "metadata": {},
   "source": [
    "Our data is unbalanced, so we need to find another relations between features to strengthen our predictions. I have a question at this point, is there any relation between occupancy and the hour of the day? Let's look into it."
   ]
  },
  {
   "cell_type": "code",
   "execution_count": 33,
   "metadata": {},
   "outputs": [],
   "source": [
    "hours_1 = []\n",
    "hours_0 = []\n",
    "for date in datatraining[datatraining['Occupancy'] == 1]['date']:\n",
    "    hours_1.append(date.hour)\n",
    "for date in datatraining[datatraining['Occupancy'] == 0]['date']:\n",
    "    hours_0.append(date.hour)"
   ]
  },
  {
   "cell_type": "code",
   "execution_count": 43,
   "metadata": {},
   "outputs": [
    {
     "data": {
      "image/png": "[encoded data removed]",
      "text/plain": [
       "<Figure size 576x576 with 1 Axes>"
      ]
     },
     "metadata": {},
     "output_type": "display_data"
    }
   ],
   "source": [
    "plt.figure(figsize=(8, 8))\n",
    "ax = sns.histplot(hours_1, color=\"blue\", label = \"occupied\", kde = True)\n",
    "ax = sns.histplot(hours_0, color=\"green\", label = \"not occupied\", kde=True)\n",
    "plt.legend()\n",
    "plt.show()"
   ]
  },
  {
   "cell_type": "markdown",
   "metadata": {},
   "source": [
    "\n",
    "\n",
    "From above histogram, what can you say? Between 07:00 and 18:00 there are occupants in the environment or not. But the time come to non-working hours, then we can absolutely say that there is no occupant. With this information, I will create a new feature from date column as day period.\n",
    "\n",
    "    07:00 - 18:00 working hour (labeled as 1)\n",
    "    rest of the day non-working hour (labeled as 0)"
   ]
  },
  {
   "cell_type": "code",
   "execution_count": 45,
   "metadata": {},
   "outputs": [],
   "source": [
    "def make_period_of_day(dataframe):\n",
    "    dataframe[\"period_of_day\"] = [1 if (i.hour >= 7 and i.hour <= 17) else 0 for i in dataframe[\"date\"]]\n",
    "    return dataframe   "
   ]
  },
  {
   "cell_type": "code",
   "execution_count": 47,
   "metadata": {},
   "outputs": [],
   "source": [
    "dataset = make_period_of_day(dataset)\n",
    "dataset2 = make_period_of_day(dataset2)\n",
    "datatraining = make_period_of_day(datatraining)"
   ]
  },
  {
   "cell_type": "code",
   "execution_count": 48,
   "metadata": {},
   "outputs": [
    {
     "data": {
      "text/html": [
       "<div>\n",
       "<style scoped>\n",
       "    .dataframe tbody tr th:only-of-type {\n",
       "        vertical-align: middle;\n",
       "    }\n",
       "\n",
       "    .dataframe tbody tr th {\n",
       "        vertical-align: top;\n",
       "    }\n",
       "\n",
       "    .dataframe thead th {\n",
       "        text-align: right;\n",
       "    }\n",
       "</style>\n",
       "<table border=\"1\" class=\"dataframe\">\n",
       "  <thead>\n",
       "    <tr style=\"text-align: right;\">\n",
       "      <th></th>\n",
       "      <th>date</th>\n",
       "      <th>Temperature</th>\n",
       "      <th>Humidity</th>\n",
       "      <th>Light</th>\n",
       "      <th>CO2</th>\n",
       "      <th>HumidityRatio</th>\n",
       "      <th>Occupancy</th>\n",
       "      <th>period_of_day</th>\n",
       "    </tr>\n",
       "  </thead>\n",
       "  <tbody>\n",
       "    <tr>\n",
       "      <th>7367</th>\n",
       "      <td>2015-02-09 20:38:00</td>\n",
       "      <td>0.370813</td>\n",
       "      <td>0.789138</td>\n",
       "      <td>0.000000</td>\n",
       "      <td>0.263809</td>\n",
       "      <td>0.651672</td>\n",
       "      <td>0</td>\n",
       "      <td>0</td>\n",
       "    </tr>\n",
       "    <tr>\n",
       "      <th>4018</th>\n",
       "      <td>2015-02-07 12:49:00</td>\n",
       "      <td>0.980861</td>\n",
       "      <td>0.015868</td>\n",
       "      <td>0.189804</td>\n",
       "      <td>0.022900</td>\n",
       "      <td>0.081016</td>\n",
       "      <td>0</td>\n",
       "      <td>1</td>\n",
       "    </tr>\n",
       "    <tr>\n",
       "      <th>7615</th>\n",
       "      <td>2015-02-10 00:46:00</td>\n",
       "      <td>0.308612</td>\n",
       "      <td>0.726562</td>\n",
       "      <td>0.000000</td>\n",
       "      <td>0.040384</td>\n",
       "      <td>0.575232</td>\n",
       "      <td>0</td>\n",
       "      <td>0</td>\n",
       "    </tr>\n",
       "    <tr>\n",
       "      <th>3415</th>\n",
       "      <td>2015-02-07 02:45:59</td>\n",
       "      <td>0.212919</td>\n",
       "      <td>0.100793</td>\n",
       "      <td>0.000000</td>\n",
       "      <td>0.017794</td>\n",
       "      <td>0.012340</td>\n",
       "      <td>0</td>\n",
       "      <td>0</td>\n",
       "    </tr>\n",
       "    <tr>\n",
       "      <th>7194</th>\n",
       "      <td>2015-02-09 17:44:59</td>\n",
       "      <td>0.741627</td>\n",
       "      <td>0.963013</td>\n",
       "      <td>0.280017</td>\n",
       "      <td>0.921553</td>\n",
       "      <td>0.958363</td>\n",
       "      <td>1</td>\n",
       "      <td>1</td>\n",
       "    </tr>\n",
       "    <tr>\n",
       "      <th>7411</th>\n",
       "      <td>2015-02-09 21:22:00</td>\n",
       "      <td>0.358852</td>\n",
       "      <td>0.761873</td>\n",
       "      <td>0.000000</td>\n",
       "      <td>0.174687</td>\n",
       "      <td>0.623317</td>\n",
       "      <td>0</td>\n",
       "      <td>0</td>\n",
       "    </tr>\n",
       "    <tr>\n",
       "      <th>2206</th>\n",
       "      <td>2015-02-06 06:36:59</td>\n",
       "      <td>0.308612</td>\n",
       "      <td>0.087384</td>\n",
       "      <td>0.000000</td>\n",
       "      <td>0.012533</td>\n",
       "      <td>0.018726</td>\n",
       "      <td>0</td>\n",
       "      <td>0</td>\n",
       "    </tr>\n",
       "    <tr>\n",
       "      <th>7710</th>\n",
       "      <td>2015-02-10 02:21:00</td>\n",
       "      <td>0.308612</td>\n",
       "      <td>0.722092</td>\n",
       "      <td>0.000000</td>\n",
       "      <td>0.031100</td>\n",
       "      <td>0.571327</td>\n",
       "      <td>0</td>\n",
       "      <td>0</td>\n",
       "    </tr>\n",
       "    <tr>\n",
       "      <th>4884</th>\n",
       "      <td>2015-02-08 03:15:00</td>\n",
       "      <td>0.093301</td>\n",
       "      <td>0.646106</td>\n",
       "      <td>0.000000</td>\n",
       "      <td>0.015009</td>\n",
       "      <td>0.438916</td>\n",
       "      <td>0</td>\n",
       "      <td>0</td>\n",
       "    </tr>\n",
       "    <tr>\n",
       "      <th>7943</th>\n",
       "      <td>2015-02-10 06:14:00</td>\n",
       "      <td>0.263158</td>\n",
       "      <td>0.730584</td>\n",
       "      <td>0.000000</td>\n",
       "      <td>0.021198</td>\n",
       "      <td>0.563651</td>\n",
       "      <td>0</td>\n",
       "      <td>0</td>\n",
       "    </tr>\n",
       "  </tbody>\n",
       "</table>\n",
       "</div>"
      ],
      "text/plain": [
       "                    date  Temperature  Humidity     Light       CO2  \\\n",
       "7367 2015-02-09 20:38:00     0.370813  0.789138  0.000000  0.263809   \n",
       "4018 2015-02-07 12:49:00     0.980861  0.015868  0.189804  0.022900   \n",
       "7615 2015-02-10 00:46:00     0.308612  0.726562  0.000000  0.040384   \n",
       "3415 2015-02-07 02:45:59     0.212919  0.100793  0.000000  0.017794   \n",
       "7194 2015-02-09 17:44:59     0.741627  0.963013  0.280017  0.921553   \n",
       "7411 2015-02-09 21:22:00     0.358852  0.761873  0.000000  0.174687   \n",
       "2206 2015-02-06 06:36:59     0.308612  0.087384  0.000000  0.012533   \n",
       "7710 2015-02-10 02:21:00     0.308612  0.722092  0.000000  0.031100   \n",
       "4884 2015-02-08 03:15:00     0.093301  0.646106  0.000000  0.015009   \n",
       "7943 2015-02-10 06:14:00     0.263158  0.730584  0.000000  0.021198   \n",
       "\n",
       "      HumidityRatio  Occupancy  period_of_day  \n",
       "7367       0.651672          0              0  \n",
       "4018       0.081016          0              1  \n",
       "7615       0.575232          0              0  \n",
       "3415       0.012340          0              0  \n",
       "7194       0.958363          1              1  \n",
       "7411       0.623317          0              0  \n",
       "2206       0.018726          0              0  \n",
       "7710       0.571327          0              0  \n",
       "4884       0.438916          0              0  \n",
       "7943       0.563651          0              0  "
      ]
     },
     "execution_count": 48,
     "metadata": {},
     "output_type": "execute_result"
    }
   ],
   "source": [
    "datatraining.sample(10)"
   ]
  },
  {
   "cell_type": "markdown",
   "metadata": {},
   "source": [
    "### 3. Classification with Machine Learning algorithms"
   ]
  },
  {
   "cell_type": "code",
   "execution_count": 49,
   "metadata": {},
   "outputs": [],
   "source": [
    "def separate_attributes_and_labels(dataframe):\n",
    "    X = dataframe.drop(columns = [\"date\", \"Occupancy\"], axis = 1)\n",
    "    y = dataframe[\"Occupancy\"]\n",
    "    return X, y"
   ]
  },
  {
   "cell_type": "code",
   "execution_count": 51,
   "metadata": {},
   "outputs": [],
   "source": [
    "X_train, y_train = separate_attributes_and_labels(datatraining)\n",
    "X_val, y_val = separate_attributes_and_labels(dataset)\n",
    "X_test, y_test = separate_attributes_and_labels(dataset2)"
   ]
  },
  {
   "cell_type": "code",
   "execution_count": 52,
   "metadata": {},
   "outputs": [
    {
     "data": {
      "text/plain": [
       "((8143, 6), (8143,), (2665, 6), (2665,), (9752, 6), (9752,))"
      ]
     },
     "execution_count": 52,
     "metadata": {},
     "output_type": "execute_result"
    }
   ],
   "source": [
    "X_train.shape, y_train.shape, X_val.shape, y_val.shape, X_test.shape, y_test.shape"
   ]
  },
  {
   "cell_type": "markdown",
   "metadata": {},
   "source": [
    "#### 3.1. KNN (K-nearest neighbors).\n",
    "Let's try different hyperparameters on KNN model such as n_neighbors, weights and metrics to find best options."
   ]
  },
  {
   "cell_type": "code",
   "execution_count": 53,
   "metadata": {},
   "outputs": [],
   "source": [
    "# hyper-parameter tuning for KNN\n",
    "n_neighbors_list = [7, 15, 45, 135]\n",
    "weights_list = [\"uniform\", \"distance\"]\n",
    "metric_list = [\"euclidean\", \"manhattan\"]\n",
    "accuracies = {}"
   ]
  },
  {
   "cell_type": "code",
   "execution_count": 56,
   "metadata": {},
   "outputs": [],
   "source": [
    "for n in n_neighbors_list:\n",
    "    for weight in weights_list:\n",
    "        for metric in metric_list:\n",
    "            knn_model = KNeighborsClassifier(n_neighbors = n, weights = weight, metric = metric)\n",
    "            knn_model.fit(X_train, y_train)\n",
    "            accuracy = knn_model.score(X_val, y_val)\n",
    "            accuracies[str(n) + \"/\" + weight + \"/\" + metric] = accuracy"
   ]
  },
  {
   "cell_type": "code",
   "execution_count": 57,
   "metadata": {},
   "outputs": [
    {
     "data": {
      "text/plain": [
       "{'7/uniform/euclidean': 0.9587242026266416,\n",
       " '7/uniform/manhattan': 0.9696060037523452,\n",
       " '7/distance/euclidean': 0.9587242026266416,\n",
       " '7/distance/manhattan': 0.9696060037523452,\n",
       " '15/uniform/euclidean': 0.9538461538461539,\n",
       " '15/uniform/manhattan': 0.9643527204502814,\n",
       " '15/distance/euclidean': 0.9538461538461539,\n",
       " '15/distance/manhattan': 0.9643527204502814,\n",
       " '45/uniform/euclidean': 0.9478424015009381,\n",
       " '45/uniform/manhattan': 0.9621013133208255,\n",
       " '45/distance/euclidean': 0.94859287054409,\n",
       " '45/distance/manhattan': 0.9621013133208255,\n",
       " '135/uniform/euclidean': 0.9283302063789869,\n",
       " '135/uniform/manhattan': 0.9553470919324578,\n",
       " '135/distance/euclidean': 0.9283302063789869,\n",
       " '135/distance/manhattan': 0.9557223264540338}"
      ]
     },
     "execution_count": 57,
     "metadata": {},
     "output_type": "execute_result"
    }
   ],
   "source": [
    "accuracies"
   ]
  },
  {
   "cell_type": "code",
   "execution_count": 58,
   "metadata": {},
   "outputs": [],
   "source": [
    "plotdata = pd.DataFrame()\n",
    "plotdata[\"Parameters\"] = accuracies.keys()\n",
    "plotdata[\"Accuracy\"] = accuracies.values()"
   ]
  },
  {
   "cell_type": "code",
   "execution_count": 60,
   "metadata": {},
   "outputs": [
    {
     "data": {
      "application/vnd.plotly.v1+json": {
       "config": {
        "linkText": "Export to plot.ly",
        "plotlyServerURL": "https://plot.ly",
        "showLink": false
       },
       "data": [
        {
         "hovertemplate": "Parameters=%{x}<br>Accuracy=%{y}<extra></extra>",
         "legendgroup": "",
         "line": {
          "color": "#636efa",
          "dash": "solid"
         },
         "marker": {
          "symbol": "circle"
         },
         "mode": "lines",
         "name": "",
         "orientation": "v",
         "showlegend": false,
         "type": "scatter",
         "x": [
          "7/uniform/euclidean",
          "7/uniform/manhattan",
          "7/distance/euclidean",
          "7/distance/manhattan",
          "15/uniform/euclidean",
          "15/uniform/manhattan",
          "15/distance/euclidean",
          "15/distance/manhattan",
          "45/uniform/euclidean",
          "45/uniform/manhattan",
          "45/distance/euclidean",
          "45/distance/manhattan",
          "135/uniform/euclidean",
          "135/uniform/manhattan",
          "135/distance/euclidean",
          "135/distance/manhattan"
         ],
         "xaxis": "x",
         "y": [
          0.9587242026266416,
          0.9696060037523452,
          0.9587242026266416,
          0.9696060037523452,
          0.9538461538461539,
          0.9643527204502814,
          0.9538461538461539,
          0.9643527204502814,
          0.9478424015009381,
          0.9621013133208255,
          0.94859287054409,
          0.9621013133208255,
          0.9283302063789869,
          0.9553470919324578,
          0.9283302063789869,
          0.9557223264540338
         ],
         "yaxis": "y"
        }
       ],
       "layout": {
        "legend": {
         "tracegroupgap": 0
        },
        "margin": {
         "t": 60
        },
        "template": {
         "data": {
          "bar": [
           {
            "error_x": {
             "color": "#2a3f5f"
            },
            "error_y": {
             "color": "#2a3f5f"
            },
            "marker": {
             "line": {
              "color": "#E5ECF6",
              "width": 0.5
             },
             "pattern": {
              "fillmode": "overlay",
              "size": 10,
              "solidity": 0.2
             }
            },
            "type": "bar"
           }
          ],
          "barpolar": [
           {
            "marker": {
             "line": {
              "color": "#E5ECF6",
              "width": 0.5
             },
             "pattern": {
              "fillmode": "overlay",
              "size": 10,
              "solidity": 0.2
             }
            },
            "type": "barpolar"
           }
          ],
          "carpet": [
           {
            "aaxis": {
             "endlinecolor": "#2a3f5f",
             "gridcolor": "white",
             "linecolor": "white",
             "minorgridcolor": "white",
             "startlinecolor": "#2a3f5f"
            },
            "baxis": {
             "endlinecolor": "#2a3f5f",
             "gridcolor": "white",
             "linecolor": "white",
             "minorgridcolor": "white",
             "startlinecolor": "#2a3f5f"
            },
            "type": "carpet"
           }
          ],
          "choropleth": [
           {
            "colorbar": {
             "outlinewidth": 0,
             "ticks": ""
            },
            "type": "choropleth"
           }
          ],
          "contour": [
           {
            "colorbar": {
             "outlinewidth": 0,
             "ticks": ""
            },
            "colorscale": [
             [
              0,
              "#0d0887"
             ],
             [
              0.1111111111111111,
              "#46039f"
             ],
             [
              0.2222222222222222,
              "#7201a8"
             ],
             [
              0.3333333333333333,
              "#9c179e"
             ],
             [
              0.4444444444444444,
              "#bd3786"
             ],
             [
              0.5555555555555556,
              "#d8576b"
             ],
             [
              0.6666666666666666,
              "#ed7953"
             ],
             [
              0.7777777777777778,
              "#fb9f3a"
             ],
             [
              0.8888888888888888,
              "#fdca26"
             ],
             [
              1,
              "#f0f921"
             ]
            ],
            "type": "contour"
           }
          ],
          "contourcarpet": [
           {
            "colorbar": {
             "outlinewidth": 0,
             "ticks": ""
            },
            "type": "contourcarpet"
           }
          ],
          "heatmap": [
           {
            "colorbar": {
             "outlinewidth": 0,
             "ticks": ""
            },
            "colorscale": [
             [
              0,
              "#0d0887"
             ],
             [
              0.1111111111111111,
              "#46039f"
             ],
             [
              0.2222222222222222,
              "#7201a8"
             ],
             [
              0.3333333333333333,
              "#9c179e"
             ],
             [
              0.4444444444444444,
              "#bd3786"
             ],
             [
              0.5555555555555556,
              "#d8576b"
             ],
             [
              0.6666666666666666,
              "#ed7953"
             ],
             [
              0.7777777777777778,
              "#fb9f3a"
             ],
             [
              0.8888888888888888,
              "#fdca26"
             ],
             [
              1,
              "#f0f921"
             ]
            ],
            "type": "heatmap"
           }
          ],
          "heatmapgl": [
           {
            "colorbar": {
             "outlinewidth": 0,
             "ticks": ""
            },
            "colorscale": [
             [
              0,
              "#0d0887"
             ],
             [
              0.1111111111111111,
              "#46039f"
             ],
             [
              0.2222222222222222,
              "#7201a8"
             ],
             [
              0.3333333333333333,
              "#9c179e"
             ],
             [
              0.4444444444444444,
              "#bd3786"
             ],
             [
              0.5555555555555556,
              "#d8576b"
             ],
             [
              0.6666666666666666,
              "#ed7953"
             ],
             [
              0.7777777777777778,
              "#fb9f3a"
             ],
             [
              0.8888888888888888,
              "#fdca26"
             ],
             [
              1,
              "#f0f921"
             ]
            ],
            "type": "heatmapgl"
           }
          ],
          "histogram": [
           {
            "marker": {
             "pattern": {
              "fillmode": "overlay",
              "size": 10,
              "solidity": 0.2
             }
            },
            "type": "histogram"
           }
          ],
          "histogram2d": [
           {
            "colorbar": {
             "outlinewidth": 0,
             "ticks": ""
            },
            "colorscale": [
             [
              0,
              "#0d0887"
             ],
             [
              0.1111111111111111,
              "#46039f"
             ],
             [
              0.2222222222222222,
              "#7201a8"
             ],
             [
              0.3333333333333333,
              "#9c179e"
             ],
             [
              0.4444444444444444,
              "#bd3786"
             ],
             [
              0.5555555555555556,
              "#d8576b"
             ],
             [
              0.6666666666666666,
              "#ed7953"
             ],
             [
              0.7777777777777778,
              "#fb9f3a"
             ],
             [
              0.8888888888888888,
              "#fdca26"
             ],
             [
              1,
              "#f0f921"
             ]
            ],
            "type": "histogram2d"
           }
          ],
          "histogram2dcontour": [
           {
            "colorbar": {
             "outlinewidth": 0,
             "ticks": ""
            },
            "colorscale": [
             [
              0,
              "#0d0887"
             ],
             [
              0.1111111111111111,
              "#46039f"
             ],
             [
              0.2222222222222222,
              "#7201a8"
             ],
             [
              0.3333333333333333,
              "#9c179e"
             ],
             [
              0.4444444444444444,
              "#bd3786"
             ],
             [
              0.5555555555555556,
              "#d8576b"
             ],
             [
              0.6666666666666666,
              "#ed7953"
             ],
             [
              0.7777777777777778,
              "#fb9f3a"
             ],
             [
              0.8888888888888888,
              "#fdca26"
             ],
             [
              1,
              "#f0f921"
             ]
            ],
            "type": "histogram2dcontour"
           }
          ],
          "mesh3d": [
           {
            "colorbar": {
             "outlinewidth": 0,
             "ticks": ""
            },
            "type": "mesh3d"
           }
          ],
          "parcoords": [
           {
            "line": {
             "colorbar": {
              "outlinewidth": 0,
              "ticks": ""
             }
            },
            "type": "parcoords"
           }
          ],
          "pie": [
           {
            "automargin": true,
            "type": "pie"
           }
          ],
          "scatter": [
           {
            "marker": {
             "colorbar": {
              "outlinewidth": 0,
              "ticks": ""
             }
            },
            "type": "scatter"
           }
          ],
          "scatter3d": [
           {
            "line": {
             "colorbar": {
              "outlinewidth": 0,
              "ticks": ""
             }
            },
            "marker": {
             "colorbar": {
              "outlinewidth": 0,
              "ticks": ""
             }
            },
            "type": "scatter3d"
           }
          ],
          "scattercarpet": [
           {
            "marker": {
             "colorbar": {
              "outlinewidth": 0,
              "ticks": ""
             }
            },
            "type": "scattercarpet"
           }
          ],
          "scattergeo": [
           {
            "marker": {
             "colorbar": {
              "outlinewidth": 0,
              "ticks": ""
             }
            },
            "type": "scattergeo"
           }
          ],
          "scattergl": [
           {
            "marker": {
             "colorbar": {
              "outlinewidth": 0,
              "ticks": ""
             }
            },
            "type": "scattergl"
           }
          ],
          "scattermapbox": [
           {
            "marker": {
             "colorbar": {
              "outlinewidth": 0,
              "ticks": ""
             }
            },
            "type": "scattermapbox"
           }
          ],
          "scatterpolar": [
           {
            "marker": {
             "colorbar": {
              "outlinewidth": 0,
              "ticks": ""
             }
            },
            "type": "scatterpolar"
           }
          ],
          "scatterpolargl": [
           {
            "marker": {
             "colorbar": {
              "outlinewidth": 0,
              "ticks": ""
             }
            },
            "type": "scatterpolargl"
           }
          ],
          "scatterternary": [
           {
            "marker": {
             "colorbar": {
              "outlinewidth": 0,
              "ticks": ""
             }
            },
            "type": "scatterternary"
           }
          ],
          "surface": [
           {
            "colorbar": {
             "outlinewidth": 0,
             "ticks": ""
            },
            "colorscale": [
             [
              0,
              "#0d0887"
             ],
             [
              0.1111111111111111,
              "#46039f"
             ],
             [
              0.2222222222222222,
              "#7201a8"
             ],
             [
              0.3333333333333333,
              "#9c179e"
             ],
             [
              0.4444444444444444,
              "#bd3786"
             ],
             [
              0.5555555555555556,
              "#d8576b"
             ],
             [
              0.6666666666666666,
              "#ed7953"
             ],
             [
              0.7777777777777778,
              "#fb9f3a"
             ],
             [
              0.8888888888888888,
              "#fdca26"
             ],
             [
              1,
              "#f0f921"
             ]
            ],
            "type": "surface"
           }
          ],
          "table": [
           {
            "cells": {
             "fill": {
              "color": "#EBF0F8"
             },
             "line": {
              "color": "white"
             }
            },
            "header": {
             "fill": {
              "color": "#C8D4E3"
             },
             "line": {
              "color": "white"
             }
            },
            "type": "table"
           }
          ]
         },
         "layout": {
          "annotationdefaults": {
           "arrowcolor": "#2a3f5f",
           "arrowhead": 0,
           "arrowwidth": 1
          },
          "autotypenumbers": "strict",
          "coloraxis": {
           "colorbar": {
            "outlinewidth": 0,
            "ticks": ""
           }
          },
          "colorscale": {
           "diverging": [
            [
             0,
             "#8e0152"
            ],
            [
             0.1,
             "#c51b7d"
            ],
            [
             0.2,
             "#de77ae"
            ],
            [
             0.3,
             "#f1b6da"
            ],
            [
             0.4,
             "#fde0ef"
            ],
            [
             0.5,
             "#f7f7f7"
            ],
            [
             0.6,
             "#e6f5d0"
            ],
            [
             0.7,
             "#b8e186"
            ],
            [
             0.8,
             "#7fbc41"
            ],
            [
             0.9,
             "#4d9221"
            ],
            [
             1,
             "#276419"
            ]
           ],
           "sequential": [
            [
             0,
             "#0d0887"
            ],
            [
             0.1111111111111111,
             "#46039f"
            ],
            [
             0.2222222222222222,
             "#7201a8"
            ],
            [
             0.3333333333333333,
             "#9c179e"
            ],
            [
             0.4444444444444444,
             "#bd3786"
            ],
            [
             0.5555555555555556,
             "#d8576b"
            ],
            [
             0.6666666666666666,
             "#ed7953"
            ],
            [
             0.7777777777777778,
             "#fb9f3a"
            ],
            [
             0.8888888888888888,
             "#fdca26"
            ],
            [
             1,
             "#f0f921"
            ]
           ],
           "sequentialminus": [
            [
             0,
             "#0d0887"
            ],
            [
             0.1111111111111111,
             "#46039f"
            ],
            [
             0.2222222222222222,
             "#7201a8"
            ],
            [
             0.3333333333333333,
             "#9c179e"
            ],
            [
             0.4444444444444444,
             "#bd3786"
            ],
            [
             0.5555555555555556,
             "#d8576b"
            ],
            [
             0.6666666666666666,
             "#ed7953"
            ],
            [
             0.7777777777777778,
             "#fb9f3a"
            ],
            [
             0.8888888888888888,
             "#fdca26"
            ],
            [
             1,
             "#f0f921"
            ]
           ]
          },
          "colorway": [
           "#636efa",
           "#EF553B",
           "#00cc96",
           "#ab63fa",
           "#FFA15A",
           "#19d3f3",
           "#FF6692",
           "#B6E880",
           "#FF97FF",
           "#FECB52"
          ],
          "font": {
           "color": "#2a3f5f"
          },
          "geo": {
           "bgcolor": "white",
           "lakecolor": "white",
           "landcolor": "#E5ECF6",
           "showlakes": true,
           "showland": true,
           "subunitcolor": "white"
          },
          "hoverlabel": {
           "align": "left"
          },
          "hovermode": "closest",
          "mapbox": {
           "style": "light"
          },
          "paper_bgcolor": "white",
          "plot_bgcolor": "#E5ECF6",
          "polar": {
           "angularaxis": {
            "gridcolor": "white",
            "linecolor": "white",
            "ticks": ""
           },
           "bgcolor": "#E5ECF6",
           "radialaxis": {
            "gridcolor": "white",
            "linecolor": "white",
            "ticks": ""
           }
          },
          "scene": {
           "xaxis": {
            "backgroundcolor": "#E5ECF6",
            "gridcolor": "white",
            "gridwidth": 2,
            "linecolor": "white",
            "showbackground": true,
            "ticks": "",
            "zerolinecolor": "white"
           },
           "yaxis": {
            "backgroundcolor": "#E5ECF6",
            "gridcolor": "white",
            "gridwidth": 2,
            "linecolor": "white",
            "showbackground": true,
            "ticks": "",
            "zerolinecolor": "white"
           },
           "zaxis": {
            "backgroundcolor": "#E5ECF6",
            "gridcolor": "white",
            "gridwidth": 2,
            "linecolor": "white",
            "showbackground": true,
            "ticks": "",
            "zerolinecolor": "white"
           }
          },
          "shapedefaults": {
           "line": {
            "color": "#2a3f5f"
           }
          },
          "ternary": {
           "aaxis": {
            "gridcolor": "white",
            "linecolor": "white",
            "ticks": ""
           },
           "baxis": {
            "gridcolor": "white",
            "linecolor": "white",
            "ticks": ""
           },
           "bgcolor": "#E5ECF6",
           "caxis": {
            "gridcolor": "white",
            "linecolor": "white",
            "ticks": ""
           }
          },
          "title": {
           "x": 0.05
          },
          "xaxis": {
           "automargin": true,
           "gridcolor": "white",
           "linecolor": "white",
           "ticks": "",
           "title": {
            "standoff": 15
           },
           "zerolinecolor": "white",
           "zerolinewidth": 2
          },
          "yaxis": {
           "automargin": true,
           "gridcolor": "white",
           "linecolor": "white",
           "ticks": "",
           "title": {
            "standoff": 15
           },
           "zerolinecolor": "white",
           "zerolinewidth": 2
          }
         }
        },
        "title": {
         "text": "Accuracies for Different Hyper-parameters",
         "x": 0.5,
         "xanchor": "center",
         "yanchor": "top"
        },
        "xaxis": {
         "anchor": "y",
         "domain": [
          0,
          1
         ],
         "title": {
          "text": "Parameters"
         }
        },
        "yaxis": {
         "anchor": "x",
         "domain": [
          0,
          1
         ],
         "title": {
          "text": "Accuracy"
         }
        }
       }
      },
      "text/html": [
       "<div>                            <div id=\"53841e77-b695-4c1b-a92b-d80304363ad0\" class=\"plotly-graph-div\" style=\"height:525px; width:100%;\"></div>            <script type=\"text/javascript\">                require([\"plotly\"], function(Plotly) {                    window.PLOTLYENV=window.PLOTLYENV || {};                                    if (document.getElementById(\"53841e77-b695-4c1b-a92b-d80304363ad0\")) {                    Plotly.newPlot(                        \"53841e77-b695-4c1b-a92b-d80304363ad0\",                        [{\"hovertemplate\":\"Parameters=%{x}<br>Accuracy=%{y}<extra></extra>\",\"legendgroup\":\"\",\"line\":{\"color\":\"#636efa\",\"dash\":\"solid\"},\"marker\":{\"symbol\":\"circle\"},\"mode\":\"lines\",\"name\":\"\",\"orientation\":\"v\",\"showlegend\":false,\"x\":[\"7/uniform/euclidean\",\"7/uniform/manhattan\",\"7/distance/euclidean\",\"7/distance/manhattan\",\"15/uniform/euclidean\",\"15/uniform/manhattan\",\"15/distance/euclidean\",\"15/distance/manhattan\",\"45/uniform/euclidean\",\"45/uniform/manhattan\",\"45/distance/euclidean\",\"45/distance/manhattan\",\"135/uniform/euclidean\",\"135/uniform/manhattan\",\"135/distance/euclidean\",\"135/distance/manhattan\"],\"xaxis\":\"x\",\"y\":[0.9587242026266416,0.9696060037523452,0.9587242026266416,0.9696060037523452,0.9538461538461539,0.9643527204502814,0.9538461538461539,0.9643527204502814,0.9478424015009381,0.9621013133208255,0.94859287054409,0.9621013133208255,0.9283302063789869,0.9553470919324578,0.9283302063789869,0.9557223264540338],\"yaxis\":\"y\",\"type\":\"scatter\"}],                        {\"legend\":{\"tracegroupgap\":0},\"margin\":{\"t\":60},\"template\":{\"data\":{\"barpolar\":[{\"marker\":{\"line\":{\"color\":\"#E5ECF6\",\"width\":0.5},\"pattern\":{\"fillmode\":\"overlay\",\"size\":10,\"solidity\":0.2}},\"type\":\"barpolar\"}],\"bar\":[{\"error_x\":{\"color\":\"#2a3f5f\"},\"error_y\":{\"color\":\"#2a3f5f\"},\"marker\":{\"line\":{\"color\":\"#E5ECF6\",\"width\":0.5},\"pattern\":{\"fillmode\":\"overlay\",\"size\":10,\"solidity\":0.2}},\"type\":\"bar\"}],\"carpet\":[{\"aaxis\":{\"endlinecolor\":\"#2a3f5f\",\"gridcolor\":\"white\",\"linecolor\":\"white\",\"minorgridcolor\":\"white\",\"startlinecolor\":\"#2a3f5f\"},\"baxis\":{\"endlinecolor\":\"#2a3f5f\",\"gridcolor\":\"white\",\"linecolor\":\"white\",\"minorgridcolor\":\"white\",\"startlinecolor\":\"#2a3f5f\"},\"type\":\"carpet\"}],\"choropleth\":[{\"colorbar\":{\"outlinewidth\":0,\"ticks\":\"\"},\"type\":\"choropleth\"}],\"contourcarpet\":[{\"colorbar\":{\"outlinewidth\":0,\"ticks\":\"\"},\"type\":\"contourcarpet\"}],\"contour\":[{\"colorbar\":{\"outlinewidth\":0,\"ticks\":\"\"},\"colorscale\":[[0.0,\"#0d0887\"],[0.1111111111111111,\"#46039f\"],[0.2222222222222222,\"#7201a8\"],[0.3333333333333333,\"#9c179e\"],[0.4444444444444444,\"#bd3786\"],[0.5555555555555556,\"#d8576b\"],[0.6666666666666666,\"#ed7953\"],[0.7777777777777778,\"#fb9f3a\"],[0.8888888888888888,\"#fdca26\"],[1.0,\"#f0f921\"]],\"type\":\"contour\"}],\"heatmapgl\":[{\"colorbar\":{\"outlinewidth\":0,\"ticks\":\"\"},\"colorscale\":[[0.0,\"#0d0887\"],[0.1111111111111111,\"#46039f\"],[0.2222222222222222,\"#7201a8\"],[0.3333333333333333,\"#9c179e\"],[0.4444444444444444,\"#bd3786\"],[0.5555555555555556,\"#d8576b\"],[0.6666666666666666,\"#ed7953\"],[0.7777777777777778,\"#fb9f3a\"],[0.8888888888888888,\"#fdca26\"],[1.0,\"#f0f921\"]],\"type\":\"heatmapgl\"}],\"heatmap\":[{\"colorbar\":{\"outlinewidth\":0,\"ticks\":\"\"},\"colorscale\":[[0.0,\"#0d0887\"],[0.1111111111111111,\"#46039f\"],[0.2222222222222222,\"#7201a8\"],[0.3333333333333333,\"#9c179e\"],[0.4444444444444444,\"#bd3786\"],[0.5555555555555556,\"#d8576b\"],[0.6666666666666666,\"#ed7953\"],[0.7777777777777778,\"#fb9f3a\"],[0.8888888888888888,\"#fdca26\"],[1.0,\"#f0f921\"]],\"type\":\"heatmap\"}],\"histogram2dcontour\":[{\"colorbar\":{\"outlinewidth\":0,\"ticks\":\"\"},\"colorscale\":[[0.0,\"#0d0887\"],[0.1111111111111111,\"#46039f\"],[0.2222222222222222,\"#7201a8\"],[0.3333333333333333,\"#9c179e\"],[0.4444444444444444,\"#bd3786\"],[0.5555555555555556,\"#d8576b\"],[0.6666666666666666,\"#ed7953\"],[0.7777777777777778,\"#fb9f3a\"],[0.8888888888888888,\"#fdca26\"],[1.0,\"#f0f921\"]],\"type\":\"histogram2dcontour\"}],\"histogram2d\":[{\"colorbar\":{\"outlinewidth\":0,\"ticks\":\"\"},\"colorscale\":[[0.0,\"#0d0887\"],[0.1111111111111111,\"#46039f\"],[0.2222222222222222,\"#7201a8\"],[0.3333333333333333,\"#9c179e\"],[0.4444444444444444,\"#bd3786\"],[0.5555555555555556,\"#d8576b\"],[0.6666666666666666,\"#ed7953\"],[0.7777777777777778,\"#fb9f3a\"],[0.8888888888888888,\"#fdca26\"],[1.0,\"#f0f921\"]],\"type\":\"histogram2d\"}],\"histogram\":[{\"marker\":{\"pattern\":{\"fillmode\":\"overlay\",\"size\":10,\"solidity\":0.2}},\"type\":\"histogram\"}],\"mesh3d\":[{\"colorbar\":{\"outlinewidth\":0,\"ticks\":\"\"},\"type\":\"mesh3d\"}],\"parcoords\":[{\"line\":{\"colorbar\":{\"outlinewidth\":0,\"ticks\":\"\"}},\"type\":\"parcoords\"}],\"pie\":[{\"automargin\":true,\"type\":\"pie\"}],\"scatter3d\":[{\"line\":{\"colorbar\":{\"outlinewidth\":0,\"ticks\":\"\"}},\"marker\":{\"colorbar\":{\"outlinewidth\":0,\"ticks\":\"\"}},\"type\":\"scatter3d\"}],\"scattercarpet\":[{\"marker\":{\"colorbar\":{\"outlinewidth\":0,\"ticks\":\"\"}},\"type\":\"scattercarpet\"}],\"scattergeo\":[{\"marker\":{\"colorbar\":{\"outlinewidth\":0,\"ticks\":\"\"}},\"type\":\"scattergeo\"}],\"scattergl\":[{\"marker\":{\"colorbar\":{\"outlinewidth\":0,\"ticks\":\"\"}},\"type\":\"scattergl\"}],\"scattermapbox\":[{\"marker\":{\"colorbar\":{\"outlinewidth\":0,\"ticks\":\"\"}},\"type\":\"scattermapbox\"}],\"scatterpolargl\":[{\"marker\":{\"colorbar\":{\"outlinewidth\":0,\"ticks\":\"\"}},\"type\":\"scatterpolargl\"}],\"scatterpolar\":[{\"marker\":{\"colorbar\":{\"outlinewidth\":0,\"ticks\":\"\"}},\"type\":\"scatterpolar\"}],\"scatter\":[{\"marker\":{\"colorbar\":{\"outlinewidth\":0,\"ticks\":\"\"}},\"type\":\"scatter\"}],\"scatterternary\":[{\"marker\":{\"colorbar\":{\"outlinewidth\":0,\"ticks\":\"\"}},\"type\":\"scatterternary\"}],\"surface\":[{\"colorbar\":{\"outlinewidth\":0,\"ticks\":\"\"},\"colorscale\":[[0.0,\"#0d0887\"],[0.1111111111111111,\"#46039f\"],[0.2222222222222222,\"#7201a8\"],[0.3333333333333333,\"#9c179e\"],[0.4444444444444444,\"#bd3786\"],[0.5555555555555556,\"#d8576b\"],[0.6666666666666666,\"#ed7953\"],[0.7777777777777778,\"#fb9f3a\"],[0.8888888888888888,\"#fdca26\"],[1.0,\"#f0f921\"]],\"type\":\"surface\"}],\"table\":[{\"cells\":{\"fill\":{\"color\":\"#EBF0F8\"},\"line\":{\"color\":\"white\"}},\"header\":{\"fill\":{\"color\":\"#C8D4E3\"},\"line\":{\"color\":\"white\"}},\"type\":\"table\"}]},\"layout\":{\"annotationdefaults\":{\"arrowcolor\":\"#2a3f5f\",\"arrowhead\":0,\"arrowwidth\":1},\"autotypenumbers\":\"strict\",\"coloraxis\":{\"colorbar\":{\"outlinewidth\":0,\"ticks\":\"\"}},\"colorscale\":{\"diverging\":[[0,\"#8e0152\"],[0.1,\"#c51b7d\"],[0.2,\"#de77ae\"],[0.3,\"#f1b6da\"],[0.4,\"#fde0ef\"],[0.5,\"#f7f7f7\"],[0.6,\"#e6f5d0\"],[0.7,\"#b8e186\"],[0.8,\"#7fbc41\"],[0.9,\"#4d9221\"],[1,\"#276419\"]],\"sequential\":[[0.0,\"#0d0887\"],[0.1111111111111111,\"#46039f\"],[0.2222222222222222,\"#7201a8\"],[0.3333333333333333,\"#9c179e\"],[0.4444444444444444,\"#bd3786\"],[0.5555555555555556,\"#d8576b\"],[0.6666666666666666,\"#ed7953\"],[0.7777777777777778,\"#fb9f3a\"],[0.8888888888888888,\"#fdca26\"],[1.0,\"#f0f921\"]],\"sequentialminus\":[[0.0,\"#0d0887\"],[0.1111111111111111,\"#46039f\"],[0.2222222222222222,\"#7201a8\"],[0.3333333333333333,\"#9c179e\"],[0.4444444444444444,\"#bd3786\"],[0.5555555555555556,\"#d8576b\"],[0.6666666666666666,\"#ed7953\"],[0.7777777777777778,\"#fb9f3a\"],[0.8888888888888888,\"#fdca26\"],[1.0,\"#f0f921\"]]},\"colorway\":[\"#636efa\",\"#EF553B\",\"#00cc96\",\"#ab63fa\",\"#FFA15A\",\"#19d3f3\",\"#FF6692\",\"#B6E880\",\"#FF97FF\",\"#FECB52\"],\"font\":{\"color\":\"#2a3f5f\"},\"geo\":{\"bgcolor\":\"white\",\"lakecolor\":\"white\",\"landcolor\":\"#E5ECF6\",\"showlakes\":true,\"showland\":true,\"subunitcolor\":\"white\"},\"hoverlabel\":{\"align\":\"left\"},\"hovermode\":\"closest\",\"mapbox\":{\"style\":\"light\"},\"paper_bgcolor\":\"white\",\"plot_bgcolor\":\"#E5ECF6\",\"polar\":{\"angularaxis\":{\"gridcolor\":\"white\",\"linecolor\":\"white\",\"ticks\":\"\"},\"bgcolor\":\"#E5ECF6\",\"radialaxis\":{\"gridcolor\":\"white\",\"linecolor\":\"white\",\"ticks\":\"\"}},\"scene\":{\"xaxis\":{\"backgroundcolor\":\"#E5ECF6\",\"gridcolor\":\"white\",\"gridwidth\":2,\"linecolor\":\"white\",\"showbackground\":true,\"ticks\":\"\",\"zerolinecolor\":\"white\"},\"yaxis\":{\"backgroundcolor\":\"#E5ECF6\",\"gridcolor\":\"white\",\"gridwidth\":2,\"linecolor\":\"white\",\"showbackground\":true,\"ticks\":\"\",\"zerolinecolor\":\"white\"},\"zaxis\":{\"backgroundcolor\":\"#E5ECF6\",\"gridcolor\":\"white\",\"gridwidth\":2,\"linecolor\":\"white\",\"showbackground\":true,\"ticks\":\"\",\"zerolinecolor\":\"white\"}},\"shapedefaults\":{\"line\":{\"color\":\"#2a3f5f\"}},\"ternary\":{\"aaxis\":{\"gridcolor\":\"white\",\"linecolor\":\"white\",\"ticks\":\"\"},\"baxis\":{\"gridcolor\":\"white\",\"linecolor\":\"white\",\"ticks\":\"\"},\"bgcolor\":\"#E5ECF6\",\"caxis\":{\"gridcolor\":\"white\",\"linecolor\":\"white\",\"ticks\":\"\"}},\"title\":{\"x\":0.05},\"xaxis\":{\"automargin\":true,\"gridcolor\":\"white\",\"linecolor\":\"white\",\"ticks\":\"\",\"title\":{\"standoff\":15},\"zerolinecolor\":\"white\",\"zerolinewidth\":2},\"yaxis\":{\"automargin\":true,\"gridcolor\":\"white\",\"linecolor\":\"white\",\"ticks\":\"\",\"title\":{\"standoff\":15},\"zerolinecolor\":\"white\",\"zerolinewidth\":2}}},\"title\":{\"text\":\"Accuracies for Different Hyper-parameters\",\"x\":0.5,\"xanchor\":\"center\",\"yanchor\":\"top\"},\"xaxis\":{\"anchor\":\"y\",\"domain\":[0.0,1.0],\"title\":{\"text\":\"Parameters\"}},\"yaxis\":{\"anchor\":\"x\",\"domain\":[0.0,1.0],\"title\":{\"text\":\"Accuracy\"}}},                        {\"responsive\": true}                    ).then(function(){\n",
       "                            \n",
       "var gd = document.getElementById('53841e77-b695-4c1b-a92b-d80304363ad0');\n",
       "var x = new MutationObserver(function (mutations, observer) {{\n",
       "        var display = window.getComputedStyle(gd).display;\n",
       "        if (!display || display === 'none') {{\n",
       "            console.log([gd, 'removed!']);\n",
       "            Plotly.purge(gd);\n",
       "            observer.disconnect();\n",
       "        }}\n",
       "}});\n",
       "\n",
       "// Listen for the removal of the full notebook cells\n",
       "var notebookContainer = gd.closest('#notebook-container');\n",
       "if (notebookContainer) {{\n",
       "    x.observe(notebookContainer, {childList: true});\n",
       "}}\n",
       "\n",
       "// Listen for the clearing of the current output cell\n",
       "var outputEl = gd.closest('.output');\n",
       "if (outputEl) {{\n",
       "    x.observe(outputEl, {childList: true});\n",
       "}}\n",
       "\n",
       "                        })                };                });            </script>        </div>"
      ]
     },
     "metadata": {},
     "output_type": "display_data"
    }
   ],
   "source": [
    "fig = px.line(plotdata, x = \"Parameters\", y = \"Accuracy\")\n",
    "fig.update_layout(title = {\"text\": \"Accuracies for Different Hyper-parameters\",\n",
    "                    \"x\": 0.5, \"xanchor\": \"center\", \"yanchor\": \"top\"})\n",
    "iplot(fig)"
   ]
  },
  {
   "cell_type": "markdown",
   "metadata": {},
   "source": [
    "\n",
    "By looking over the accuracies graph:\n",
    "\n",
    "    7 is enough for k-value.\n",
    "    Manhattan distance performs better when k has low value. \n",
    "    Uniform weights are better.\n",
    "\n"
   ]
  },
  {
   "cell_type": "code",
   "execution_count": 61,
   "metadata": {},
   "outputs": [
    {
     "data": {
      "image/png": "[encoded data removed]",
      "text/plain": [
       "<Figure size 432x288 with 2 Axes>"
      ]
     },
     "metadata": {},
     "output_type": "display_data"
    }
   ],
   "source": [
    "knn_model = KNeighborsClassifier(n_neighbors=7)\n",
    "knn_model.fit(X_train, y_train)\n",
    "y_pred = knn_model.predict(X_val)\n",
    "plt.title(\"KNN Confusion matrix for Validation data\", fontdict={\"fontsize\": 18})\n",
    "ax = sns.heatmap(confusion_matrix(y_val, y_pred), annot=True, fmt=\"d\")"
   ]
  },
  {
   "cell_type": "markdown",
   "metadata": {},
   "source": [
    "### 3.2 Support Vector Machine"
   ]
  },
  {
   "cell_type": "code",
   "execution_count": 62,
   "metadata": {},
   "outputs": [
    {
     "name": "stdout",
     "output_type": "stream",
     "text": [
      "Accuracy for SVM on validation data: 97.86%\n"
     ]
    }
   ],
   "source": [
    "svm_model = SVC()\n",
    "svm_model.fit(X_train, y_train)\n",
    "print(\"Accuracy for SVM on validation data: {}%\".format(round((svm_model.score(X_val, y_val) * 100), 2)))"
   ]
  },
  {
   "cell_type": "code",
   "execution_count": 63,
   "metadata": {},
   "outputs": [
    {
     "data": {
      "image/png": "[encoded data removed]",
      "text/plain": [
       "<Figure size 432x288 with 2 Axes>"
      ]
     },
     "metadata": {},
     "output_type": "display_data"
    }
   ],
   "source": [
    "y_pred = svm_model.predict(X_val)\n",
    "plt.title(\"SVM Confusion matrix for Validation data\", fontdict={\"fontsize\": 18})\n",
    "ax = sns.heatmap(confusion_matrix(y_val, y_pred), annot=True, fmt=\"d\")"
   ]
  },
  {
   "cell_type": "markdown",
   "metadata": {},
   "source": [
    "### 4. Classification with Neural Networks\n",
    "\n",
    "Firsty, I would like to try different models like with or without regularization methods. I will create four different models:\n",
    "\n",
    "    Without regularization\n",
    "    With 0.2 dropout regularization\n",
    "    With L1(Lasso) regularization\n",
    "    With L2(Ridge) regularization\n",
    "\n",
    "After all models trained and evaluated with validation data, we will compare the training and validation losses."
   ]
  },
  {
   "cell_type": "code",
   "execution_count": 64,
   "metadata": {},
   "outputs": [],
   "source": [
    "# NN without regularization\n",
    "model1 = Sequential([\n",
    "    Dense(32, activation=\"relu\", input_dim = 6),\n",
    "    Dense(16, activation=\"relu\"),\n",
    "    Dense(1, activation=\"sigmoid\")\n",
    "])"
   ]
  },
  {
   "cell_type": "code",
   "execution_count": 65,
   "metadata": {},
   "outputs": [
    {
     "name": "stdout",
     "output_type": "stream",
     "text": [
      "Model: \"sequential\"\n",
      "_________________________________________________________________\n",
      "Layer (type)                 Output Shape              Param #   \n",
      "=================================================================\n",
      "dense (Dense)                (None, 32)                224       \n",
      "_________________________________________________________________\n",
      "dense_1 (Dense)              (None, 16)                528       \n",
      "_________________________________________________________________\n",
      "dense_2 (Dense)              (None, 1)                 17        \n",
      "=================================================================\n",
      "Total params: 769\n",
      "Trainable params: 769\n",
      "Non-trainable params: 0\n",
      "_________________________________________________________________\n"
     ]
    }
   ],
   "source": [
    "model1.summary()"
   ]
  },
  {
   "cell_type": "code",
   "execution_count": 66,
   "metadata": {},
   "outputs": [],
   "source": [
    "model1.compile(optimizer=\"rmsprop\", loss=\"binary_crossentropy\", metrics=[\"accuracy\"])"
   ]
  },
  {
   "cell_type": "code",
   "execution_count": 67,
   "metadata": {},
   "outputs": [
    {
     "name": "stdout",
     "output_type": "stream",
     "text": [
      "Train on 8143 samples, validate on 2665 samples\n",
      "Epoch 1/50\n",
      "8143/8143 [==============================] - 1s 123us/sample - loss: 0.4065 - accuracy: 0.9230 - val_loss: 0.1886 - val_accuracy: 0.9411\n",
      "Epoch 2/50\n",
      "8143/8143 [==============================] - 0s 44us/sample - loss: 0.1060 - accuracy: 0.9716 - val_loss: 0.1246 - val_accuracy: 0.9527\n",
      "Epoch 3/50\n",
      "8143/8143 [==============================] - 0s 42us/sample - loss: 0.0713 - accuracy: 0.9794 - val_loss: 0.1164 - val_accuracy: 0.9640\n",
      "Epoch 4/50\n",
      "8143/8143 [==============================] - 0s 40us/sample - loss: 0.0620 - accuracy: 0.9834 - val_loss: 0.1152 - val_accuracy: 0.9685\n",
      "Epoch 5/50\n",
      "8143/8143 [==============================] - 0s 43us/sample - loss: 0.0577 - accuracy: 0.9844 - val_loss: 0.1209 - val_accuracy: 0.9696\n",
      "Epoch 6/50\n",
      "8143/8143 [==============================] - 0s 40us/sample - loss: 0.0553 - accuracy: 0.9846 - val_loss: 0.1196 - val_accuracy: 0.9700\n",
      "Epoch 7/50\n",
      "8143/8143 [==============================] - 0s 44us/sample - loss: 0.0535 - accuracy: 0.9853 - val_loss: 0.1137 - val_accuracy: 0.9700\n",
      "Epoch 8/50\n",
      "8143/8143 [==============================] - 0s 41us/sample - loss: 0.0516 - accuracy: 0.9856 - val_loss: 0.1124 - val_accuracy: 0.9704\n",
      "Epoch 9/50\n",
      "8143/8143 [==============================] - 0s 40us/sample - loss: 0.0500 - accuracy: 0.9861 - val_loss: 0.1025 - val_accuracy: 0.9719\n",
      "Epoch 10/50\n",
      "8143/8143 [==============================] - 0s 42us/sample - loss: 0.0489 - accuracy: 0.9862 - val_loss: 0.0944 - val_accuracy: 0.9737\n",
      "Epoch 11/50\n",
      "8143/8143 [==============================] - 0s 50us/sample - loss: 0.0472 - accuracy: 0.9864 - val_loss: 0.1033 - val_accuracy: 0.9711\n",
      "Epoch 12/50\n",
      "8143/8143 [==============================] - 0s 42us/sample - loss: 0.0470 - accuracy: 0.9862 - val_loss: 0.1053 - val_accuracy: 0.9704\n",
      "Epoch 13/50\n",
      "8143/8143 [==============================] - 0s 42us/sample - loss: 0.0454 - accuracy: 0.9864 - val_loss: 0.1128 - val_accuracy: 0.9704\n",
      "Epoch 14/50\n",
      "8143/8143 [==============================] - 0s 42us/sample - loss: 0.0453 - accuracy: 0.9867 - val_loss: 0.1045 - val_accuracy: 0.9704\n",
      "Epoch 15/50\n",
      "8143/8143 [==============================] - 0s 42us/sample - loss: 0.0440 - accuracy: 0.9874 - val_loss: 0.0964 - val_accuracy: 0.9704\n",
      "Epoch 16/50\n",
      "8143/8143 [==============================] - 0s 45us/sample - loss: 0.0441 - accuracy: 0.9871 - val_loss: 0.0886 - val_accuracy: 0.9741\n",
      "Epoch 17/50\n",
      "8143/8143 [==============================] - 0s 48us/sample - loss: 0.0433 - accuracy: 0.9870 - val_loss: 0.0974 - val_accuracy: 0.9715\n",
      "Epoch 18/50\n",
      "8143/8143 [==============================] - 0s 43us/sample - loss: 0.0436 - accuracy: 0.9870 - val_loss: 0.0971 - val_accuracy: 0.9711\n",
      "Epoch 19/50\n",
      "8143/8143 [==============================] - 0s 43us/sample - loss: 0.0429 - accuracy: 0.9870 - val_loss: 0.1038 - val_accuracy: 0.9704\n",
      "Epoch 20/50\n",
      "8143/8143 [==============================] - 0s 46us/sample - loss: 0.0426 - accuracy: 0.9871 - val_loss: 0.0897 - val_accuracy: 0.9741\n",
      "Epoch 21/50\n",
      "8143/8143 [==============================] - 0s 39us/sample - loss: 0.0422 - accuracy: 0.9874 - val_loss: 0.0961 - val_accuracy: 0.9704\n",
      "Epoch 22/50\n",
      "8143/8143 [==============================] - 0s 38us/sample - loss: 0.0415 - accuracy: 0.9872 - val_loss: 0.0993 - val_accuracy: 0.9704\n",
      "Epoch 23/50\n",
      "8143/8143 [==============================] - 0s 40us/sample - loss: 0.0412 - accuracy: 0.9874 - val_loss: 0.0888 - val_accuracy: 0.9741\n",
      "Epoch 24/50\n",
      "8143/8143 [==============================] - 0s 39us/sample - loss: 0.0412 - accuracy: 0.9874 - val_loss: 0.1033 - val_accuracy: 0.9704\n",
      "Epoch 25/50\n",
      "8143/8143 [==============================] - 0s 38us/sample - loss: 0.0410 - accuracy: 0.9875 - val_loss: 0.0941 - val_accuracy: 0.9704\n",
      "Epoch 26/50\n",
      "8143/8143 [==============================] - 0s 39us/sample - loss: 0.0397 - accuracy: 0.9878 - val_loss: 0.1012 - val_accuracy: 0.9704\n",
      "Epoch 27/50\n",
      "8143/8143 [==============================] - 0s 39us/sample - loss: 0.0401 - accuracy: 0.9875 - val_loss: 0.1062 - val_accuracy: 0.9704\n",
      "Epoch 28/50\n",
      "8143/8143 [==============================] - 0s 44us/sample - loss: 0.0401 - accuracy: 0.9875 - val_loss: 0.0991 - val_accuracy: 0.9704\n",
      "Epoch 29/50\n",
      "8143/8143 [==============================] - 0s 38us/sample - loss: 0.0392 - accuracy: 0.9875 - val_loss: 0.0984 - val_accuracy: 0.9704\n",
      "Epoch 30/50\n",
      "8143/8143 [==============================] - 0s 37us/sample - loss: 0.0396 - accuracy: 0.9875 - val_loss: 0.1104 - val_accuracy: 0.9704\n",
      "Epoch 31/50\n",
      "8143/8143 [==============================] - 0s 39us/sample - loss: 0.0394 - accuracy: 0.9876 - val_loss: 0.1083 - val_accuracy: 0.9704\n",
      "Epoch 32/50\n",
      "8143/8143 [==============================] - 0s 44us/sample - loss: 0.0393 - accuracy: 0.9876 - val_loss: 0.1016 - val_accuracy: 0.9700\n",
      "Epoch 33/50\n",
      "8143/8143 [==============================] - 0s 36us/sample - loss: 0.0385 - accuracy: 0.9874 - val_loss: 0.0991 - val_accuracy: 0.9704\n",
      "Epoch 34/50\n",
      "8143/8143 [==============================] - 0s 37us/sample - loss: 0.0385 - accuracy: 0.9876 - val_loss: 0.1092 - val_accuracy: 0.9700\n",
      "Epoch 35/50\n",
      "8143/8143 [==============================] - 0s 41us/sample - loss: 0.0375 - accuracy: 0.9875 - val_loss: 0.1141 - val_accuracy: 0.9700\n",
      "Epoch 36/50\n",
      "8143/8143 [==============================] - 0s 39us/sample - loss: 0.0379 - accuracy: 0.9877 - val_loss: 0.1145 - val_accuracy: 0.9704\n",
      "Epoch 37/50\n",
      "8143/8143 [==============================] - 0s 38us/sample - loss: 0.0377 - accuracy: 0.9874 - val_loss: 0.1163 - val_accuracy: 0.9704\n",
      "Epoch 38/50\n",
      "8143/8143 [==============================] - 0s 38us/sample - loss: 0.0369 - accuracy: 0.9875 - val_loss: 0.1163 - val_accuracy: 0.9700\n",
      "Epoch 39/50\n",
      "8143/8143 [==============================] - 0s 37us/sample - loss: 0.0371 - accuracy: 0.9877 - val_loss: 0.1033 - val_accuracy: 0.9700\n",
      "Epoch 40/50\n",
      "8143/8143 [==============================] - 0s 38us/sample - loss: 0.0360 - accuracy: 0.9872 - val_loss: 0.1326 - val_accuracy: 0.9704\n",
      "Epoch 41/50\n",
      "8143/8143 [==============================] - 0s 38us/sample - loss: 0.0364 - accuracy: 0.9876 - val_loss: 0.1154 - val_accuracy: 0.9700\n",
      "Epoch 42/50\n",
      "8143/8143 [==============================] - 0s 38us/sample - loss: 0.0363 - accuracy: 0.9878 - val_loss: 0.1234 - val_accuracy: 0.9700\n",
      "Epoch 43/50\n",
      "8143/8143 [==============================] - 0s 37us/sample - loss: 0.0356 - accuracy: 0.9876 - val_loss: 0.1217 - val_accuracy: 0.9704\n",
      "Epoch 44/50\n",
      "8143/8143 [==============================] - 0s 37us/sample - loss: 0.0354 - accuracy: 0.9877 - val_loss: 0.1328 - val_accuracy: 0.9704\n",
      "Epoch 45/50\n",
      "8143/8143 [==============================] - 0s 38us/sample - loss: 0.0351 - accuracy: 0.9878 - val_loss: 0.1243 - val_accuracy: 0.9700\n",
      "Epoch 46/50\n",
      "8143/8143 [==============================] - 0s 37us/sample - loss: 0.0350 - accuracy: 0.9875 - val_loss: 0.1163 - val_accuracy: 0.9700\n",
      "Epoch 47/50\n",
      "8143/8143 [==============================] - 0s 38us/sample - loss: 0.0344 - accuracy: 0.9882 - val_loss: 0.1154 - val_accuracy: 0.9696\n",
      "Epoch 48/50\n",
      "8143/8143 [==============================] - 0s 39us/sample - loss: 0.0343 - accuracy: 0.9878 - val_loss: 0.1184 - val_accuracy: 0.9700\n",
      "Epoch 49/50\n",
      "8143/8143 [==============================] - 0s 38us/sample - loss: 0.0341 - accuracy: 0.9880 - val_loss: 0.1423 - val_accuracy: 0.9707\n",
      "Epoch 50/50\n",
      "8143/8143 [==============================] - 0s 37us/sample - loss: 0.0339 - accuracy: 0.9876 - val_loss: 0.1360 - val_accuracy: 0.9704\n"
     ]
    }
   ],
   "source": [
    "history1 = model1.fit(X_train, y_train, epochs=50, batch_size=32,\n",
    "                        validation_data = (X_val, y_val))"
   ]
  },
  {
   "cell_type": "code",
   "execution_count": 68,
   "metadata": {},
   "outputs": [],
   "source": [
    "# NN with 0.2 dropout ratio before the hidden layer\n",
    "model2 = Sequential([\n",
    "    Dense(32, activation=\"relu\", input_dim = 6),\n",
    "    Dropout(0.2),\n",
    "    Dense(16, activation=\"relu\"),\n",
    "    Dense(1, activation=\"sigmoid\")\n",
    "])"
   ]
  },
  {
   "cell_type": "code",
   "execution_count": 69,
   "metadata": {},
   "outputs": [
    {
     "name": "stdout",
     "output_type": "stream",
     "text": [
      "Model: \"sequential_1\"\n",
      "_________________________________________________________________\n",
      "Layer (type)                 Output Shape              Param #   \n",
      "=================================================================\n",
      "dense_3 (Dense)              (None, 32)                224       \n",
      "_________________________________________________________________\n",
      "dropout (Dropout)            (None, 32)                0         \n",
      "_________________________________________________________________\n",
      "dense_4 (Dense)              (None, 16)                528       \n",
      "_________________________________________________________________\n",
      "dense_5 (Dense)              (None, 1)                 17        \n",
      "=================================================================\n",
      "Total params: 769\n",
      "Trainable params: 769\n",
      "Non-trainable params: 0\n",
      "_________________________________________________________________\n"
     ]
    }
   ],
   "source": [
    "model2.summary()"
   ]
  },
  {
   "cell_type": "code",
   "execution_count": 70,
   "metadata": {},
   "outputs": [],
   "source": [
    "model2.compile(optimizer=\"rmsprop\", loss=\"binary_crossentropy\", metrics=[\"accuracy\"])"
   ]
  },
  {
   "cell_type": "code",
   "execution_count": 71,
   "metadata": {},
   "outputs": [
    {
     "name": "stdout",
     "output_type": "stream",
     "text": [
      "Train on 8143 samples, validate on 2665 samples\n",
      "Epoch 1/50\n",
      "8143/8143 [==============================] - 1s 110us/sample - loss: 0.3074 - accuracy: 0.9041 - val_loss: 0.1408 - val_accuracy: 0.9407\n",
      "Epoch 2/50\n",
      "8143/8143 [==============================] - 0s 44us/sample - loss: 0.1055 - accuracy: 0.9704 - val_loss: 0.1165 - val_accuracy: 0.9553\n",
      "Epoch 3/50\n",
      "8143/8143 [==============================] - 0s 43us/sample - loss: 0.0791 - accuracy: 0.9790 - val_loss: 0.1140 - val_accuracy: 0.9685\n",
      "Epoch 4/50\n",
      "8143/8143 [==============================] - 0s 43us/sample - loss: 0.0657 - accuracy: 0.9822 - val_loss: 0.1095 - val_accuracy: 0.9692\n",
      "Epoch 5/50\n",
      "8143/8143 [==============================] - 0s 44us/sample - loss: 0.0609 - accuracy: 0.9832 - val_loss: 0.1077 - val_accuracy: 0.9700\n",
      "Epoch 6/50\n",
      "8143/8143 [==============================] - 0s 44us/sample - loss: 0.0571 - accuracy: 0.9844 - val_loss: 0.0965 - val_accuracy: 0.9700\n",
      "Epoch 7/50\n",
      "8143/8143 [==============================] - 0s 43us/sample - loss: 0.0523 - accuracy: 0.9864 - val_loss: 0.0946 - val_accuracy: 0.9704\n",
      "Epoch 8/50\n",
      "8143/8143 [==============================] - 0s 42us/sample - loss: 0.0510 - accuracy: 0.9858 - val_loss: 0.0987 - val_accuracy: 0.9704\n",
      "Epoch 9/50\n",
      "8143/8143 [==============================] - 0s 43us/sample - loss: 0.0486 - accuracy: 0.9872 - val_loss: 0.1003 - val_accuracy: 0.9704\n",
      "Epoch 10/50\n",
      "8143/8143 [==============================] - 0s 43us/sample - loss: 0.0476 - accuracy: 0.9872 - val_loss: 0.0895 - val_accuracy: 0.9707\n",
      "Epoch 11/50\n",
      "8143/8143 [==============================] - 0s 44us/sample - loss: 0.0464 - accuracy: 0.9880 - val_loss: 0.0929 - val_accuracy: 0.9704\n",
      "Epoch 12/50\n",
      "8143/8143 [==============================] - 0s 42us/sample - loss: 0.0450 - accuracy: 0.9881 - val_loss: 0.1054 - val_accuracy: 0.9704\n",
      "Epoch 13/50\n",
      "8143/8143 [==============================] - 0s 44us/sample - loss: 0.0456 - accuracy: 0.9876 - val_loss: 0.0995 - val_accuracy: 0.9704\n",
      "Epoch 14/50\n",
      "8143/8143 [==============================] - 0s 54us/sample - loss: 0.0451 - accuracy: 0.9874 - val_loss: 0.0992 - val_accuracy: 0.9704\n",
      "Epoch 15/50\n",
      "8143/8143 [==============================] - 0s 42us/sample - loss: 0.0443 - accuracy: 0.9877 - val_loss: 0.1028 - val_accuracy: 0.9704\n",
      "Epoch 16/50\n",
      "8143/8143 [==============================] - 0s 43us/sample - loss: 0.0449 - accuracy: 0.9881 - val_loss: 0.0978 - val_accuracy: 0.9707\n",
      "Epoch 17/50\n",
      "8143/8143 [==============================] - 0s 43us/sample - loss: 0.0455 - accuracy: 0.9881 - val_loss: 0.0956 - val_accuracy: 0.9715\n",
      "Epoch 18/50\n",
      "8143/8143 [==============================] - 0s 43us/sample - loss: 0.0425 - accuracy: 0.9883 - val_loss: 0.1078 - val_accuracy: 0.9704\n",
      "Epoch 19/50\n",
      "8143/8143 [==============================] - 0s 45us/sample - loss: 0.0425 - accuracy: 0.9882 - val_loss: 0.1131 - val_accuracy: 0.9704\n",
      "Epoch 20/50\n",
      "8143/8143 [==============================] - 0s 46us/sample - loss: 0.0437 - accuracy: 0.9881 - val_loss: 0.1137 - val_accuracy: 0.9704\n",
      "Epoch 21/50\n",
      "8143/8143 [==============================] - 0s 42us/sample - loss: 0.0429 - accuracy: 0.9878 - val_loss: 0.1024 - val_accuracy: 0.9707\n",
      "Epoch 22/50\n",
      "8143/8143 [==============================] - 0s 44us/sample - loss: 0.0427 - accuracy: 0.9881 - val_loss: 0.1225 - val_accuracy: 0.9707\n",
      "Epoch 23/50\n",
      "8143/8143 [==============================] - 0s 43us/sample - loss: 0.0420 - accuracy: 0.9880 - val_loss: 0.1087 - val_accuracy: 0.9715\n",
      "Epoch 24/50\n",
      "8143/8143 [==============================] - 0s 43us/sample - loss: 0.0423 - accuracy: 0.9883 - val_loss: 0.1122 - val_accuracy: 0.9711\n",
      "Epoch 25/50\n",
      "8143/8143 [==============================] - 0s 44us/sample - loss: 0.0416 - accuracy: 0.9880 - val_loss: 0.1149 - val_accuracy: 0.9707\n",
      "Epoch 26/50\n",
      "8143/8143 [==============================] - 0s 43us/sample - loss: 0.0412 - accuracy: 0.9881 - val_loss: 0.1241 - val_accuracy: 0.9707\n",
      "Epoch 27/50\n",
      "8143/8143 [==============================] - 0s 43us/sample - loss: 0.0415 - accuracy: 0.9886 - val_loss: 0.1101 - val_accuracy: 0.9722\n",
      "Epoch 28/50\n",
      "8143/8143 [==============================] - 0s 43us/sample - loss: 0.0410 - accuracy: 0.9883 - val_loss: 0.1199 - val_accuracy: 0.9704\n",
      "Epoch 29/50\n",
      "8143/8143 [==============================] - 0s 44us/sample - loss: 0.0412 - accuracy: 0.9881 - val_loss: 0.1199 - val_accuracy: 0.9704\n",
      "Epoch 30/50\n",
      "8143/8143 [==============================] - 0s 44us/sample - loss: 0.0387 - accuracy: 0.9885 - val_loss: 0.1152 - val_accuracy: 0.9715\n",
      "Epoch 31/50\n",
      "8143/8143 [==============================] - 0s 50us/sample - loss: 0.0410 - accuracy: 0.9882 - val_loss: 0.1221 - val_accuracy: 0.9715\n",
      "Epoch 32/50\n",
      "8143/8143 [==============================] - 0s 49us/sample - loss: 0.0406 - accuracy: 0.9881 - val_loss: 0.1432 - val_accuracy: 0.9707\n",
      "Epoch 33/50\n",
      "8143/8143 [==============================] - 0s 44us/sample - loss: 0.0408 - accuracy: 0.9881 - val_loss: 0.1255 - val_accuracy: 0.9707\n",
      "Epoch 34/50\n",
      "8143/8143 [==============================] - 0s 45us/sample - loss: 0.0384 - accuracy: 0.9881 - val_loss: 0.1581 - val_accuracy: 0.9707\n",
      "Epoch 35/50\n",
      "8143/8143 [==============================] - 0s 42us/sample - loss: 0.0400 - accuracy: 0.9882 - val_loss: 0.1327 - val_accuracy: 0.9704\n",
      "Epoch 36/50\n",
      "8143/8143 [==============================] - 0s 46us/sample - loss: 0.0391 - accuracy: 0.9882 - val_loss: 0.1388 - val_accuracy: 0.9707\n",
      "Epoch 37/50\n",
      "8143/8143 [==============================] - 0s 47us/sample - loss: 0.0382 - accuracy: 0.9883 - val_loss: 0.1408 - val_accuracy: 0.9704\n",
      "Epoch 38/50\n",
      "8143/8143 [==============================] - 0s 43us/sample - loss: 0.0376 - accuracy: 0.9885 - val_loss: 0.1364 - val_accuracy: 0.9704\n",
      "Epoch 39/50\n",
      "8143/8143 [==============================] - 0s 43us/sample - loss: 0.0377 - accuracy: 0.9883 - val_loss: 0.1458 - val_accuracy: 0.9707\n",
      "Epoch 40/50\n",
      "8143/8143 [==============================] - 0s 46us/sample - loss: 0.0375 - accuracy: 0.9880 - val_loss: 0.1491 - val_accuracy: 0.9704\n",
      "Epoch 41/50\n",
      "8143/8143 [==============================] - 0s 50us/sample - loss: 0.0374 - accuracy: 0.9882 - val_loss: 0.1484 - val_accuracy: 0.9704\n",
      "Epoch 42/50\n",
      "8143/8143 [==============================] - 0s 50us/sample - loss: 0.0383 - accuracy: 0.9880 - val_loss: 0.1675 - val_accuracy: 0.9707\n",
      "Epoch 43/50\n",
      "8143/8143 [==============================] - 0s 43us/sample - loss: 0.0387 - accuracy: 0.9883 - val_loss: 0.1665 - val_accuracy: 0.9707\n",
      "Epoch 44/50\n",
      "8143/8143 [==============================] - 0s 45us/sample - loss: 0.0355 - accuracy: 0.9882 - val_loss: 0.1644 - val_accuracy: 0.9704\n",
      "Epoch 45/50\n",
      "8143/8143 [==============================] - 0s 43us/sample - loss: 0.0367 - accuracy: 0.9878 - val_loss: 0.1601 - val_accuracy: 0.9704\n",
      "Epoch 46/50\n",
      "8143/8143 [==============================] - 0s 43us/sample - loss: 0.0370 - accuracy: 0.9878 - val_loss: 0.1596 - val_accuracy: 0.9704\n",
      "Epoch 47/50\n",
      "8143/8143 [==============================] - 0s 44us/sample - loss: 0.0377 - accuracy: 0.9882 - val_loss: 0.1801 - val_accuracy: 0.9704\n",
      "Epoch 48/50\n",
      "8143/8143 [==============================] - 0s 44us/sample - loss: 0.0370 - accuracy: 0.9882 - val_loss: 0.1526 - val_accuracy: 0.9704\n",
      "Epoch 49/50\n",
      "8143/8143 [==============================] - 0s 44us/sample - loss: 0.0370 - accuracy: 0.9878 - val_loss: 0.1752 - val_accuracy: 0.9707\n",
      "Epoch 50/50\n",
      "8143/8143 [==============================] - 0s 43us/sample - loss: 0.0360 - accuracy: 0.9881 - val_loss: 0.1568 - val_accuracy: 0.9704\n"
     ]
    }
   ],
   "source": [
    "history2 = model2.fit(X_train, y_train, epochs=50, batch_size=32, validation_data=(X_val, y_val))"
   ]
  },
  {
   "cell_type": "code",
   "execution_count": 72,
   "metadata": {},
   "outputs": [],
   "source": [
    "# NN with L1(Lasso) regularization\n",
    "model3 = Sequential([\n",
    "    Dense(32, activation=\"relu\", input_dim = 6, kernel_regularizer=l1(l=0.01)),\n",
    "    Dense(16, activation=\"relu\", kernel_regularizer=l1(l=0.01)),\n",
    "    Dense(1, activation=\"sigmoid\")\n",
    "])"
   ]
  },
  {
   "cell_type": "code",
   "execution_count": 73,
   "metadata": {},
   "outputs": [
    {
     "name": "stdout",
     "output_type": "stream",
     "text": [
      "Model: \"sequential_2\"\n",
      "_________________________________________________________________\n",
      "Layer (type)                 Output Shape              Param #   \n",
      "=================================================================\n",
      "dense_6 (Dense)              (None, 32)                224       \n",
      "_________________________________________________________________\n",
      "dense_7 (Dense)              (None, 16)                528       \n",
      "_________________________________________________________________\n",
      "dense_8 (Dense)              (None, 1)                 17        \n",
      "=================================================================\n",
      "Total params: 769\n",
      "Trainable params: 769\n",
      "Non-trainable params: 0\n",
      "_________________________________________________________________\n"
     ]
    }
   ],
   "source": [
    "model3.summary()"
   ]
  },
  {
   "cell_type": "code",
   "execution_count": 74,
   "metadata": {},
   "outputs": [],
   "source": [
    "model3.compile(optimizer=\"rmsprop\", loss=\"binary_crossentropy\", metrics=[\"accuracy\"])"
   ]
  },
  {
   "cell_type": "code",
   "execution_count": 75,
   "metadata": {},
   "outputs": [
    {
     "name": "stdout",
     "output_type": "stream",
     "text": [
      "Train on 8143 samples, validate on 2665 samples\n",
      "Epoch 1/50\n",
      "8143/8143 [==============================] - 1s 138us/sample - loss: 1.1518 - accuracy: 0.7931 - val_loss: 0.6602 - val_accuracy: 0.8582\n",
      "Epoch 2/50\n",
      "8143/8143 [==============================] - 0s 43us/sample - loss: 0.4499 - accuracy: 0.9131 - val_loss: 0.3631 - val_accuracy: 0.9313\n",
      "Epoch 3/50\n",
      "8143/8143 [==============================] - 0s 44us/sample - loss: 0.3267 - accuracy: 0.9580 - val_loss: 0.3001 - val_accuracy: 0.9448\n",
      "Epoch 4/50\n",
      "8143/8143 [==============================] - 0s 44us/sample - loss: 0.2825 - accuracy: 0.9640 - val_loss: 0.2751 - val_accuracy: 0.9531\n",
      "Epoch 5/50\n",
      "8143/8143 [==============================] - 0s 43us/sample - loss: 0.2572 - accuracy: 0.9665 - val_loss: 0.2625 - val_accuracy: 0.9448\n",
      "Epoch 6/50\n",
      "8143/8143 [==============================] - 0s 41us/sample - loss: 0.2379 - accuracy: 0.9713 - val_loss: 0.2439 - val_accuracy: 0.9546\n",
      "Epoch 7/50\n",
      "8143/8143 [==============================] - 0s 47us/sample - loss: 0.2217 - accuracy: 0.9745 - val_loss: 0.2308 - val_accuracy: 0.9572\n",
      "Epoch 8/50\n",
      "8143/8143 [==============================] - 0s 47us/sample - loss: 0.2085 - accuracy: 0.9756 - val_loss: 0.2233 - val_accuracy: 0.9595\n",
      "Epoch 9/50\n",
      "8143/8143 [==============================] - 0s 43us/sample - loss: 0.1987 - accuracy: 0.9765 - val_loss: 0.2182 - val_accuracy: 0.9625\n",
      "Epoch 10/50\n",
      "8143/8143 [==============================] - 0s 43us/sample - loss: 0.1901 - accuracy: 0.9786 - val_loss: 0.2138 - val_accuracy: 0.9685\n",
      "Epoch 11/50\n",
      "8143/8143 [==============================] - 0s 54us/sample - loss: 0.1815 - accuracy: 0.9802 - val_loss: 0.2032 - val_accuracy: 0.9621\n",
      "Epoch 12/50\n",
      "8143/8143 [==============================] - 0s 45us/sample - loss: 0.1737 - accuracy: 0.9805 - val_loss: 0.1963 - val_accuracy: 0.9625\n",
      "Epoch 13/50\n",
      "8143/8143 [==============================] - 0s 46us/sample - loss: 0.1662 - accuracy: 0.9831 - val_loss: 0.1887 - val_accuracy: 0.9568\n",
      "Epoch 14/50\n",
      "8143/8143 [==============================] - 0s 52us/sample - loss: 0.1577 - accuracy: 0.9835 - val_loss: 0.1807 - val_accuracy: 0.9629\n",
      "Epoch 15/50\n",
      "8143/8143 [==============================] - 0s 51us/sample - loss: 0.1493 - accuracy: 0.9843 - val_loss: 0.1742 - val_accuracy: 0.9670\n",
      "Epoch 16/50\n",
      "8143/8143 [==============================] - 0s 50us/sample - loss: 0.1415 - accuracy: 0.9851 - val_loss: 0.1686 - val_accuracy: 0.9685\n",
      "Epoch 17/50\n",
      "8143/8143 [==============================] - 0s 50us/sample - loss: 0.1368 - accuracy: 0.9855 - val_loss: 0.1677 - val_accuracy: 0.9685\n",
      "Epoch 18/50\n",
      "8143/8143 [==============================] - 0s 45us/sample - loss: 0.1348 - accuracy: 0.9856 - val_loss: 0.1642 - val_accuracy: 0.9685\n",
      "Epoch 19/50\n",
      "8143/8143 [==============================] - 0s 45us/sample - loss: 0.1330 - accuracy: 0.9859 - val_loss: 0.1617 - val_accuracy: 0.9681\n",
      "Epoch 20/50\n",
      "8143/8143 [==============================] - 0s 42us/sample - loss: 0.1313 - accuracy: 0.9859 - val_loss: 0.1585 - val_accuracy: 0.9674\n",
      "Epoch 21/50\n",
      "8143/8143 [==============================] - 0s 42us/sample - loss: 0.1298 - accuracy: 0.9859 - val_loss: 0.1593 - val_accuracy: 0.9700\n",
      "Epoch 22/50\n",
      "8143/8143 [==============================] - 0s 42us/sample - loss: 0.1279 - accuracy: 0.9858 - val_loss: 0.1573 - val_accuracy: 0.9700\n",
      "Epoch 23/50\n",
      "8143/8143 [==============================] - 0s 42us/sample - loss: 0.1264 - accuracy: 0.9865 - val_loss: 0.1569 - val_accuracy: 0.9700\n",
      "Epoch 24/50\n",
      "8143/8143 [==============================] - 0s 43us/sample - loss: 0.1252 - accuracy: 0.9867 - val_loss: 0.1542 - val_accuracy: 0.9711\n",
      "Epoch 25/50\n",
      "8143/8143 [==============================] - 0s 45us/sample - loss: 0.1240 - accuracy: 0.9869 - val_loss: 0.1540 - val_accuracy: 0.9711\n",
      "Epoch 26/50\n",
      "8143/8143 [==============================] - 0s 41us/sample - loss: 0.1226 - accuracy: 0.9871 - val_loss: 0.1511 - val_accuracy: 0.9741\n",
      "Epoch 27/50\n",
      "8143/8143 [==============================] - 0s 46us/sample - loss: 0.1214 - accuracy: 0.9874 - val_loss: 0.1506 - val_accuracy: 0.9741\n",
      "Epoch 28/50\n",
      "8143/8143 [==============================] - 0s 44us/sample - loss: 0.1203 - accuracy: 0.9874 - val_loss: 0.1491 - val_accuracy: 0.9745\n",
      "Epoch 29/50\n",
      "8143/8143 [==============================] - 0s 54us/sample - loss: 0.1191 - accuracy: 0.9875 - val_loss: 0.1492 - val_accuracy: 0.9745\n",
      "Epoch 30/50\n",
      "8143/8143 [==============================] - 0s 41us/sample - loss: 0.1184 - accuracy: 0.9875 - val_loss: 0.1466 - val_accuracy: 0.9756\n",
      "Epoch 31/50\n",
      "8143/8143 [==============================] - 0s 42us/sample - loss: 0.1173 - accuracy: 0.9875 - val_loss: 0.1474 - val_accuracy: 0.9752\n",
      "Epoch 32/50\n",
      "8143/8143 [==============================] - 0s 42us/sample - loss: 0.1162 - accuracy: 0.9877 - val_loss: 0.1423 - val_accuracy: 0.9779\n",
      "Epoch 33/50\n",
      "8143/8143 [==============================] - 0s 41us/sample - loss: 0.1156 - accuracy: 0.9876 - val_loss: 0.1445 - val_accuracy: 0.9775\n",
      "Epoch 34/50\n",
      "8143/8143 [==============================] - 0s 42us/sample - loss: 0.1146 - accuracy: 0.9880 - val_loss: 0.1436 - val_accuracy: 0.9779\n",
      "Epoch 35/50\n",
      "8143/8143 [==============================] - 0s 42us/sample - loss: 0.1137 - accuracy: 0.9881 - val_loss: 0.1387 - val_accuracy: 0.9782\n",
      "Epoch 36/50\n",
      "8143/8143 [==============================] - 0s 42us/sample - loss: 0.1129 - accuracy: 0.9881 - val_loss: 0.1415 - val_accuracy: 0.9782\n",
      "Epoch 37/50\n",
      "8143/8143 [==============================] - 0s 41us/sample - loss: 0.1120 - accuracy: 0.9883 - val_loss: 0.1406 - val_accuracy: 0.9782\n",
      "Epoch 38/50\n",
      "8143/8143 [==============================] - 0s 42us/sample - loss: 0.1112 - accuracy: 0.9881 - val_loss: 0.1351 - val_accuracy: 0.9782\n",
      "Epoch 39/50\n",
      "8143/8143 [==============================] - 0s 41us/sample - loss: 0.1107 - accuracy: 0.9882 - val_loss: 0.1373 - val_accuracy: 0.9782\n",
      "Epoch 40/50\n",
      "8143/8143 [==============================] - 0s 42us/sample - loss: 0.1099 - accuracy: 0.9883 - val_loss: 0.1340 - val_accuracy: 0.9782\n",
      "Epoch 41/50\n",
      "8143/8143 [==============================] - 0s 42us/sample - loss: 0.1090 - accuracy: 0.9881 - val_loss: 0.1339 - val_accuracy: 0.9782\n",
      "Epoch 42/50\n",
      "8143/8143 [==============================] - 0s 40us/sample - loss: 0.1084 - accuracy: 0.9883 - val_loss: 0.1351 - val_accuracy: 0.9786\n",
      "Epoch 43/50\n",
      "8143/8143 [==============================] - 0s 43us/sample - loss: 0.1076 - accuracy: 0.9883 - val_loss: 0.1370 - val_accuracy: 0.9782\n",
      "Epoch 44/50\n",
      "8143/8143 [==============================] - 0s 43us/sample - loss: 0.1070 - accuracy: 0.9883 - val_loss: 0.1328 - val_accuracy: 0.9786\n",
      "Epoch 45/50\n",
      "8143/8143 [==============================] - 0s 41us/sample - loss: 0.1062 - accuracy: 0.9883 - val_loss: 0.1344 - val_accuracy: 0.9782\n",
      "Epoch 46/50\n",
      "8143/8143 [==============================] - 0s 41us/sample - loss: 0.1054 - accuracy: 0.9883 - val_loss: 0.1324 - val_accuracy: 0.9786\n",
      "Epoch 47/50\n",
      "8143/8143 [==============================] - 0s 45us/sample - loss: 0.1048 - accuracy: 0.9883 - val_loss: 0.1327 - val_accuracy: 0.9786\n",
      "Epoch 48/50\n",
      "8143/8143 [==============================] - 0s 42us/sample - loss: 0.1043 - accuracy: 0.9883 - val_loss: 0.1321 - val_accuracy: 0.9786\n",
      "Epoch 49/50\n",
      "8143/8143 [==============================] - 0s 41us/sample - loss: 0.1035 - accuracy: 0.9883 - val_loss: 0.1324 - val_accuracy: 0.9786\n",
      "Epoch 50/50\n",
      "8143/8143 [==============================] - 0s 43us/sample - loss: 0.1033 - accuracy: 0.9883 - val_loss: 0.1342 - val_accuracy: 0.9782\n"
     ]
    }
   ],
   "source": [
    "history3 = model3.fit(X_train, y_train, epochs=50, batch_size=32, validation_data=(X_val, y_val))"
   ]
  },
  {
   "cell_type": "code",
   "execution_count": 76,
   "metadata": {},
   "outputs": [],
   "source": [
    "# NN with L2(Rigde) Regularization\n",
    "model4 = Sequential([\n",
    "    Dense(32, activation=\"relu\", input_dim = 6, kernel_regularizer=l2(l = 0.01)),\n",
    "    Dense(16, activation=\"relu\", kernel_regularizer=l1(l = 0.01)),\n",
    "    Dense(1, activation=\"sigmoid\")\n",
    "])"
   ]
  },
  {
   "cell_type": "code",
   "execution_count": 77,
   "metadata": {},
   "outputs": [
    {
     "name": "stdout",
     "output_type": "stream",
     "text": [
      "Model: \"sequential_3\"\n",
      "_________________________________________________________________\n",
      "Layer (type)                 Output Shape              Param #   \n",
      "=================================================================\n",
      "dense_9 (Dense)              (None, 32)                224       \n",
      "_________________________________________________________________\n",
      "dense_10 (Dense)             (None, 16)                528       \n",
      "_________________________________________________________________\n",
      "dense_11 (Dense)             (None, 1)                 17        \n",
      "=================================================================\n",
      "Total params: 769\n",
      "Trainable params: 769\n",
      "Non-trainable params: 0\n",
      "_________________________________________________________________\n"
     ]
    }
   ],
   "source": [
    "model4.summary()"
   ]
  },
  {
   "cell_type": "code",
   "execution_count": 78,
   "metadata": {},
   "outputs": [],
   "source": [
    "model4.compile(optimizer=\"rmsprop\", loss=\"binary_crossentropy\", metrics=[\"accuracy\"])"
   ]
  },
  {
   "cell_type": "code",
   "execution_count": 79,
   "metadata": {},
   "outputs": [
    {
     "name": "stdout",
     "output_type": "stream",
     "text": [
      "Train on 8143 samples, validate on 2665 samples\n",
      "Epoch 1/50\n",
      "8143/8143 [==============================] - 1s 110us/sample - loss: 0.9868 - accuracy: 0.8276 - val_loss: 0.5268 - val_accuracy: 0.9351\n",
      "Epoch 2/50\n",
      "8143/8143 [==============================] - 0s 44us/sample - loss: 0.3920 - accuracy: 0.9655 - val_loss: 0.3394 - val_accuracy: 0.9445\n",
      "Epoch 3/50\n",
      "8143/8143 [==============================] - 0s 45us/sample - loss: 0.3075 - accuracy: 0.9678 - val_loss: 0.2898 - val_accuracy: 0.9497\n",
      "Epoch 4/50\n",
      "8143/8143 [==============================] - 0s 45us/sample - loss: 0.2706 - accuracy: 0.9689 - val_loss: 0.2628 - val_accuracy: 0.9493\n",
      "Epoch 5/50\n",
      "8143/8143 [==============================] - 0s 50us/sample - loss: 0.2453 - accuracy: 0.9715 - val_loss: 0.2446 - val_accuracy: 0.9486\n",
      "Epoch 6/50\n",
      "8143/8143 [==============================] - 0s 53us/sample - loss: 0.2263 - accuracy: 0.9729 - val_loss: 0.2304 - val_accuracy: 0.9490\n",
      "Epoch 7/50\n",
      "8143/8143 [==============================] - 0s 51us/sample - loss: 0.2114 - accuracy: 0.9738 - val_loss: 0.2172 - val_accuracy: 0.9572\n",
      "Epoch 8/50\n",
      "8143/8143 [==============================] - 0s 44us/sample - loss: 0.1971 - accuracy: 0.9753 - val_loss: 0.2042 - val_accuracy: 0.9580\n",
      "Epoch 9/50\n",
      "8143/8143 [==============================] - 0s 45us/sample - loss: 0.1825 - accuracy: 0.9776 - val_loss: 0.1948 - val_accuracy: 0.9587\n",
      "Epoch 10/50\n",
      "8143/8143 [==============================] - 0s 46us/sample - loss: 0.1721 - accuracy: 0.9791 - val_loss: 0.1895 - val_accuracy: 0.9621\n",
      "Epoch 11/50\n",
      "8143/8143 [==============================] - 0s 47us/sample - loss: 0.1665 - accuracy: 0.9806 - val_loss: 0.1869 - val_accuracy: 0.9520\n",
      "Epoch 12/50\n",
      "8143/8143 [==============================] - 0s 45us/sample - loss: 0.1623 - accuracy: 0.9795 - val_loss: 0.1816 - val_accuracy: 0.9621\n",
      "Epoch 13/50\n",
      "8143/8143 [==============================] - 0s 46us/sample - loss: 0.1589 - accuracy: 0.9816 - val_loss: 0.1813 - val_accuracy: 0.9670\n",
      "Epoch 14/50\n",
      "8143/8143 [==============================] - 0s 45us/sample - loss: 0.1561 - accuracy: 0.9826 - val_loss: 0.1765 - val_accuracy: 0.9629\n",
      "Epoch 15/50\n",
      "8143/8143 [==============================] - 0s 44us/sample - loss: 0.1535 - accuracy: 0.9831 - val_loss: 0.1775 - val_accuracy: 0.9685\n",
      "Epoch 16/50\n",
      "8143/8143 [==============================] - 0s 43us/sample - loss: 0.1512 - accuracy: 0.9833 - val_loss: 0.1732 - val_accuracy: 0.9670\n",
      "Epoch 17/50\n",
      "8143/8143 [==============================] - 0s 43us/sample - loss: 0.1488 - accuracy: 0.9850 - val_loss: 0.1706 - val_accuracy: 0.9689\n",
      "Epoch 18/50\n",
      "8143/8143 [==============================] - 0s 46us/sample - loss: 0.1466 - accuracy: 0.9851 - val_loss: 0.1700 - val_accuracy: 0.9681\n",
      "Epoch 19/50\n",
      "8143/8143 [==============================] - 0s 45us/sample - loss: 0.1448 - accuracy: 0.9848 - val_loss: 0.1676 - val_accuracy: 0.9681\n",
      "Epoch 20/50\n",
      "8143/8143 [==============================] - 0s 42us/sample - loss: 0.1429 - accuracy: 0.9853 - val_loss: 0.1641 - val_accuracy: 0.9685\n",
      "Epoch 21/50\n",
      "8143/8143 [==============================] - 0s 42us/sample - loss: 0.1411 - accuracy: 0.9858 - val_loss: 0.1628 - val_accuracy: 0.9685\n",
      "Epoch 22/50\n",
      "8143/8143 [==============================] - 0s 41us/sample - loss: 0.1393 - accuracy: 0.9855 - val_loss: 0.1650 - val_accuracy: 0.9685\n",
      "Epoch 23/50\n",
      "8143/8143 [==============================] - 0s 40us/sample - loss: 0.1377 - accuracy: 0.9858 - val_loss: 0.1611 - val_accuracy: 0.9685\n",
      "Epoch 24/50\n",
      "8143/8143 [==============================] - 0s 41us/sample - loss: 0.1357 - accuracy: 0.9861 - val_loss: 0.1590 - val_accuracy: 0.9685\n",
      "Epoch 25/50\n",
      "8143/8143 [==============================] - 0s 39us/sample - loss: 0.1343 - accuracy: 0.9856 - val_loss: 0.1617 - val_accuracy: 0.9685\n",
      "Epoch 26/50\n",
      "8143/8143 [==============================] - 0s 39us/sample - loss: 0.1329 - accuracy: 0.9859 - val_loss: 0.1575 - val_accuracy: 0.9685\n",
      "Epoch 27/50\n",
      "8143/8143 [==============================] - 0s 39us/sample - loss: 0.1312 - accuracy: 0.9859 - val_loss: 0.1556 - val_accuracy: 0.9685\n",
      "Epoch 28/50\n",
      "8143/8143 [==============================] - 0s 39us/sample - loss: 0.1299 - accuracy: 0.9858 - val_loss: 0.1538 - val_accuracy: 0.9685\n",
      "Epoch 29/50\n",
      "8143/8143 [==============================] - 0s 48us/sample - loss: 0.1282 - accuracy: 0.9858 - val_loss: 0.1490 - val_accuracy: 0.9704\n",
      "Epoch 30/50\n",
      "8143/8143 [==============================] - 0s 38us/sample - loss: 0.1273 - accuracy: 0.9859 - val_loss: 0.1479 - val_accuracy: 0.9704\n",
      "Epoch 31/50\n",
      "8143/8143 [==============================] - 0s 39us/sample - loss: 0.1262 - accuracy: 0.9858 - val_loss: 0.1544 - val_accuracy: 0.9700\n",
      "Epoch 32/50\n",
      "8143/8143 [==============================] - 0s 39us/sample - loss: 0.1247 - accuracy: 0.9855 - val_loss: 0.1507 - val_accuracy: 0.9692\n",
      "Epoch 33/50\n",
      "8143/8143 [==============================] - 0s 40us/sample - loss: 0.1235 - accuracy: 0.9859 - val_loss: 0.1476 - val_accuracy: 0.9685\n",
      "Epoch 34/50\n",
      "8143/8143 [==============================] - 0s 40us/sample - loss: 0.1223 - accuracy: 0.9858 - val_loss: 0.1519 - val_accuracy: 0.9700\n",
      "Epoch 35/50\n",
      "8143/8143 [==============================] - 0s 41us/sample - loss: 0.1212 - accuracy: 0.9861 - val_loss: 0.1529 - val_accuracy: 0.9700\n",
      "Epoch 36/50\n",
      "8143/8143 [==============================] - 0s 41us/sample - loss: 0.1200 - accuracy: 0.9860 - val_loss: 0.1492 - val_accuracy: 0.9700\n",
      "Epoch 37/50\n",
      "8143/8143 [==============================] - 0s 42us/sample - loss: 0.1191 - accuracy: 0.9860 - val_loss: 0.1443 - val_accuracy: 0.9700\n",
      "Epoch 38/50\n",
      "8143/8143 [==============================] - 0s 42us/sample - loss: 0.1177 - accuracy: 0.9858 - val_loss: 0.1447 - val_accuracy: 0.9700\n",
      "Epoch 39/50\n",
      "8143/8143 [==============================] - 0s 47us/sample - loss: 0.1170 - accuracy: 0.9858 - val_loss: 0.1466 - val_accuracy: 0.9700\n",
      "Epoch 40/50\n",
      "8143/8143 [==============================] - 0s 44us/sample - loss: 0.1156 - accuracy: 0.9860 - val_loss: 0.1473 - val_accuracy: 0.9704\n",
      "Epoch 41/50\n",
      "8143/8143 [==============================] - 0s 42us/sample - loss: 0.1146 - accuracy: 0.9860 - val_loss: 0.1390 - val_accuracy: 0.9719\n",
      "Epoch 42/50\n",
      "8143/8143 [==============================] - 0s 44us/sample - loss: 0.1137 - accuracy: 0.9860 - val_loss: 0.1426 - val_accuracy: 0.9700\n",
      "Epoch 43/50\n",
      "8143/8143 [==============================] - 0s 41us/sample - loss: 0.1125 - accuracy: 0.9862 - val_loss: 0.1395 - val_accuracy: 0.9704\n",
      "Epoch 44/50\n",
      "8143/8143 [==============================] - 0s 40us/sample - loss: 0.1114 - accuracy: 0.9856 - val_loss: 0.1414 - val_accuracy: 0.9700\n",
      "Epoch 45/50\n",
      "8143/8143 [==============================] - 0s 42us/sample - loss: 0.1105 - accuracy: 0.9859 - val_loss: 0.1447 - val_accuracy: 0.9704\n",
      "Epoch 46/50\n",
      "8143/8143 [==============================] - 0s 44us/sample - loss: 0.1096 - accuracy: 0.9859 - val_loss: 0.1412 - val_accuracy: 0.9704\n",
      "Epoch 47/50\n",
      "8143/8143 [==============================] - 0s 42us/sample - loss: 0.1080 - accuracy: 0.9858 - val_loss: 0.1399 - val_accuracy: 0.9704\n",
      "Epoch 48/50\n",
      "8143/8143 [==============================] - 0s 41us/sample - loss: 0.1075 - accuracy: 0.9856 - val_loss: 0.1327 - val_accuracy: 0.9741\n",
      "Epoch 49/50\n",
      "8143/8143 [==============================] - 0s 47us/sample - loss: 0.1067 - accuracy: 0.9860 - val_loss: 0.1395 - val_accuracy: 0.9704\n",
      "Epoch 50/50\n",
      "8143/8143 [==============================] - 0s 47us/sample - loss: 0.1060 - accuracy: 0.9859 - val_loss: 0.1352 - val_accuracy: 0.9707\n"
     ]
    }
   ],
   "source": [
    "history4 = model4.fit(X_train, y_train, epochs=50, batch_size=32, validation_data=(X_val, y_val))"
   ]
  },
  {
   "cell_type": "code",
   "execution_count": 80,
   "metadata": {},
   "outputs": [],
   "source": [
    "loss1 = history1.history[\"loss\"]\n",
    "val_loss1 = history1.history[\"val_loss\"]\n",
    "loss2 = history2.history[\"loss\"]\n",
    "val_loss2 = history2.history[\"val_loss\"]\n",
    "loss3 = history3.history[\"loss\"]\n",
    "val_loss3 = history3.history[\"val_loss\"]\n",
    "loss4 = history4.history[\"loss\"]\n",
    "val_loss4 = history4.history[\"val_loss\"]"
   ]
  },
  {
   "cell_type": "code",
   "execution_count": 81,
   "metadata": {},
   "outputs": [
    {
     "data": {
      "application/vnd.plotly.v1+json": {
       "config": {
        "linkText": "Export to plot.ly",
        "plotlyServerURL": "https://plot.ly",
        "showLink": false
       },
       "data": [
        {
         "line": {
          "color": "royalblue"
         },
         "name": "Training loss without Regularization",
         "type": "scatter",
         "x": [
          0,
          1,
          2,
          3,
          4,
          5,
          6,
          7,
          8,
          9,
          10,
          11,
          12,
          13,
          14,
          15,
          16,
          17,
          18,
          19,
          20,
          21,
          22,
          23,
          24,
          25,
          26,
          27,
          28,
          29,
          30,
          31,
          32,
          33,
          34,
          35,
          36,
          37,
          38,
          39,
          40,
          41,
          42,
          43,
          44,
          45,
          46,
          47,
          48,
          49
         ],
         "y": [
          0.40652362668886094,
          0.10600714943136452,
          0.07128774067934822,
          0.062018756991558587,
          0.057695472685488206,
          0.05530790224624243,
          0.05348973047758194,
          0.05158213260807175,
          0.049966778417693064,
          0.048872531953813414,
          0.04718693563627473,
          0.04702093067405585,
          0.045447360825886504,
          0.045309562054278024,
          0.04404062834336949,
          0.04413522251776552,
          0.043305021915417824,
          0.04362209844211112,
          0.042909411612262666,
          0.042550897545747465,
          0.04218459680670056,
          0.041499765281603575,
          0.041162664391192816,
          0.041223389980416726,
          0.040984411070053094,
          0.039741730185603716,
          0.040124969133068976,
          0.04008922655783648,
          0.03920959895506435,
          0.03962512917697807,
          0.03936883829793447,
          0.03929464350745641,
          0.0385381055190193,
          0.03854446915626895,
          0.037478980262541116,
          0.037897605824097944,
          0.037701259032632946,
          0.036865879064324036,
          0.03705193748692835,
          0.03603846483346819,
          0.03636009694945557,
          0.03632270930514831,
          0.035569919964801154,
          0.035438483270143886,
          0.03506027473164003,
          0.03501667657915796,
          0.03435082621743472,
          0.03428030910445493,
          0.03414160042639362,
          0.033918021546242606
         ]
        },
        {
         "line": {
          "color": "firebrick"
         },
         "name": "Validation loss without Regularization",
         "type": "scatter",
         "x": [
          0,
          1,
          2,
          3,
          4,
          5,
          6,
          7,
          8,
          9,
          10,
          11,
          12,
          13,
          14,
          15,
          16,
          17,
          18,
          19,
          20,
          21,
          22,
          23,
          24,
          25,
          26,
          27,
          28,
          29,
          30,
          31,
          32,
          33,
          34,
          35,
          36,
          37,
          38,
          39,
          40,
          41,
          42,
          43,
          44,
          45,
          46,
          47,
          48,
          49
         ],
         "y": [
          0.1886439384253063,
          0.12457410626001586,
          0.11642986371773374,
          0.11522098453248035,
          0.12086328852527048,
          0.11957979435365435,
          0.11372414750585859,
          0.11241188859656596,
          0.10251154798995109,
          0.09440070907449906,
          0.10325833597859563,
          0.10527265082033942,
          0.11282940689646019,
          0.10454481454702849,
          0.09639395691885125,
          0.0886226110888984,
          0.09736541568071845,
          0.0971246096481155,
          0.10383708908161023,
          0.08966017487324777,
          0.09607229791387241,
          0.09931465702705386,
          0.08879727614932621,
          0.10330238516226137,
          0.09413527780925506,
          0.10123834883242198,
          0.1061500446546003,
          0.0991328738074306,
          0.09835239156104157,
          0.11041278596743788,
          0.10825898163789978,
          0.10158936957104112,
          0.09908085632143776,
          0.10915301122735721,
          0.11407910058415328,
          0.1144994334518865,
          0.11626749865227413,
          0.11633681167780094,
          0.1033429030025813,
          0.13259199172714992,
          0.11540053889805005,
          0.12336685597998562,
          0.12172637172972418,
          0.13284280735765935,
          0.12428097326841513,
          0.11628557110209936,
          0.11535316362749315,
          0.11839471295279808,
          0.14232830806313687,
          0.13600664732287077
         ]
        },
        {
         "line": {
          "color": "royalblue",
          "dash": "dash"
         },
         "name": "Training loss with Dropout",
         "type": "scatter",
         "x": [
          0,
          1,
          2,
          3,
          4,
          5,
          6,
          7,
          8,
          9,
          10,
          11,
          12,
          13,
          14,
          15,
          16,
          17,
          18,
          19,
          20,
          21,
          22,
          23,
          24,
          25,
          26,
          27,
          28,
          29,
          30,
          31,
          32,
          33,
          34,
          35,
          36,
          37,
          38,
          39,
          40,
          41,
          42,
          43,
          44,
          45,
          46,
          47,
          48,
          49
         ],
         "y": [
          0.30743876857957325,
          0.10552514704676529,
          0.07914143389457569,
          0.0657146619492164,
          0.06087632019159236,
          0.05705593979638287,
          0.0522638471385602,
          0.050972752679442686,
          0.04857489876000774,
          0.04758747524156275,
          0.04643596303558322,
          0.04499030725516486,
          0.0455556326816491,
          0.04508473946708393,
          0.04434247600925938,
          0.04491862438982379,
          0.04553020924491693,
          0.04245511833116861,
          0.042526466936768786,
          0.04374075807659837,
          0.04285248021656826,
          0.04266753075116552,
          0.04199305471514588,
          0.042311091055373264,
          0.04161568503457096,
          0.04119757635947342,
          0.041492928925886324,
          0.04101156196653629,
          0.04123386950457971,
          0.03869145192719088,
          0.04104047515370084,
          0.04063604251497262,
          0.040779326194626236,
          0.03839060942618716,
          0.04002319386591089,
          0.03905981163178027,
          0.0382466617565985,
          0.03758571970043332,
          0.03774957762382127,
          0.037540716310596134,
          0.03739608680238645,
          0.03828262644201454,
          0.03869485029455855,
          0.03551806109316576,
          0.036710250598207955,
          0.03700153245376825,
          0.037681734806024526,
          0.03695451007800477,
          0.03696610194872001,
          0.03598403699091499
         ]
        },
        {
         "line": {
          "color": "firebrick",
          "dash": "dash"
         },
         "name": "Validation loss with Dropout",
         "type": "scatter",
         "x": [
          0,
          1,
          2,
          3,
          4,
          5,
          6,
          7,
          8,
          9,
          10,
          11,
          12,
          13,
          14,
          15,
          16,
          17,
          18,
          19,
          20,
          21,
          22,
          23,
          24,
          25,
          26,
          27,
          28,
          29,
          30,
          31,
          32,
          33,
          34,
          35,
          36,
          37,
          38,
          39,
          40,
          41,
          42,
          43,
          44,
          45,
          46,
          47,
          48,
          49
         ],
         "y": [
          0.14084350436674273,
          0.11649046132575168,
          0.11397008924224321,
          0.10945852143807061,
          0.10772435702296151,
          0.0965302521890592,
          0.09461000883955278,
          0.09865015734565456,
          0.10031671488166596,
          0.08949021922264337,
          0.09286710075217415,
          0.10537693093947025,
          0.09953079455938099,
          0.09918347342766591,
          0.10276549437563845,
          0.09779230828730155,
          0.09555925154761011,
          0.10776739371420196,
          0.1131029825066357,
          0.11374622542089925,
          0.10244350378866628,
          0.12247847177346315,
          0.10866032913960384,
          0.11222966913434321,
          0.11494012924912743,
          0.12407240857389062,
          0.11008990538532927,
          0.11986458797458566,
          0.11991955511829185,
          0.11522432096282503,
          0.1220703552142305,
          0.14323212465132978,
          0.12548059528120448,
          0.15813268964739371,
          0.13274329620472075,
          0.13876258814704898,
          0.14082318077886924,
          0.1363673017741312,
          0.14578545408970287,
          0.14907580110933227,
          0.14841491464017723,
          0.16753149639696227,
          0.16649222372726014,
          0.16435043843977962,
          0.16007608135808643,
          0.15963381154748654,
          0.18009897098399325,
          0.15261057090388458,
          0.17518683056067863,
          0.15677157099428
         ]
        },
        {
         "line": {
          "color": "royalblue",
          "dash": "dot"
         },
         "name": "Training loss with L1 Regularization",
         "type": "scatter",
         "x": [
          0,
          1,
          2,
          3,
          4,
          5,
          6,
          7,
          8,
          9,
          10,
          11,
          12,
          13,
          14,
          15,
          16,
          17,
          18,
          19,
          20,
          21,
          22,
          23,
          24,
          25,
          26,
          27,
          28,
          29,
          30,
          31,
          32,
          33,
          34,
          35,
          36,
          37,
          38,
          39,
          40,
          41,
          42,
          43,
          44,
          45,
          46,
          47,
          48,
          49
         ],
         "y": [
          1.1518415142142127,
          0.4499243080110935,
          0.3266674838443214,
          0.2825320359311671,
          0.25716454456212057,
          0.23791968998336008,
          0.2216575400393498,
          0.20850108445869184,
          0.1986543175249827,
          0.19007508932307124,
          0.18153699437033027,
          0.17369588987585458,
          0.16616555116407322,
          0.1576525754663907,
          0.14933705370885564,
          0.1415279140350758,
          0.13678986633254345,
          0.13481838317789493,
          0.13299781252780682,
          0.13132823078664269,
          0.12981654979022322,
          0.12785104516242626,
          0.12637536362294818,
          0.1252077420564771,
          0.12396973808860216,
          0.12262086579595578,
          0.12144271622971295,
          0.12025983716885844,
          0.11912308132931743,
          0.11836785194432575,
          0.11726394903230884,
          0.11622513363113365,
          0.11556919587195746,
          0.1146159603602541,
          0.11368196191368884,
          0.11288471206204687,
          0.11201338700370972,
          0.11117383431820294,
          0.11070178132758128,
          0.10988596705924553,
          0.10895862330556882,
          0.1084248556411341,
          0.10763012259067693,
          0.10702996976956328,
          0.10623800174732195,
          0.10538136549627958,
          0.10484287871433742,
          0.10433268800870098,
          0.10351587706897968,
          0.10334417399466879
         ]
        },
        {
         "line": {
          "color": "firebrick",
          "dash": "longdashdot"
         },
         "name": "Validation loss with L1 Regularization",
         "type": "scatter",
         "x": [
          0,
          1,
          2,
          3,
          4,
          5,
          6,
          7,
          8,
          9,
          10,
          11,
          12,
          13,
          14,
          15,
          16,
          17,
          18,
          19,
          20,
          21,
          22,
          23,
          24,
          25,
          26,
          27,
          28,
          29,
          30,
          31,
          32,
          33,
          34,
          35,
          36,
          37,
          38,
          39,
          40,
          41,
          42,
          43,
          44,
          45,
          46,
          47,
          48,
          49
         ],
         "y": [
          0.6602254834676102,
          0.36313026564206236,
          0.30010747458876635,
          0.2750899005674287,
          0.26248259472802254,
          0.2438646785872962,
          0.23081380398367404,
          0.22327069858225382,
          0.21819213331863982,
          0.21381503518593914,
          0.20324904708432884,
          0.19630021039697063,
          0.18873543194433987,
          0.18071469957564607,
          0.17424376960319604,
          0.16856537383000803,
          0.16771889720636282,
          0.16424193151616692,
          0.16166566095365592,
          0.15854971979729007,
          0.1593334909283869,
          0.1572753146849922,
          0.15691699088458497,
          0.1542374678752883,
          0.15404458616844485,
          0.1511456319723299,
          0.15062149882204762,
          0.1490999277240787,
          0.14918287908885536,
          0.14663131698323012,
          0.14741521866862814,
          0.14233860597433784,
          0.14452602860795624,
          0.1436428108090084,
          0.13868374751835336,
          0.1415431272385268,
          0.1405796941153104,
          0.135063631063778,
          0.137257681728304,
          0.1339785203784984,
          0.1339499678469733,
          0.13510280187760687,
          0.13695394026349678,
          0.1327877871845945,
          0.13435232769313493,
          0.13243331564468022,
          0.1327475343144186,
          0.13209217718014352,
          0.13236027233037,
          0.1342418911477191
         ]
        },
        {
         "line": {
          "color": "royalblue",
          "dash": "dot"
         },
         "name": "Training loss with L2 Regularization",
         "type": "scatter",
         "x": [
          0,
          1,
          2,
          3,
          4,
          5,
          6,
          7,
          8,
          9,
          10,
          11,
          12,
          13,
          14,
          15,
          16,
          17,
          18,
          19,
          20,
          21,
          22,
          23,
          24,
          25,
          26,
          27,
          28,
          29,
          30,
          31,
          32,
          33,
          34,
          35,
          36,
          37,
          38,
          39,
          40,
          41,
          42,
          43,
          44,
          45,
          46,
          47,
          48,
          49
         ],
         "y": [
          0.9867618070265943,
          0.3920127223373323,
          0.3074943617903072,
          0.2706052446656682,
          0.2452605873928248,
          0.2262555814764357,
          0.21137914942111077,
          0.19708723357937985,
          0.18250451843678242,
          0.17214721123775187,
          0.16649658847694007,
          0.16230103630633402,
          0.1589212583943636,
          0.15610459545998026,
          0.15353775365513958,
          0.15122133554177306,
          0.14884702814737205,
          0.14662813500574529,
          0.1448128024066064,
          0.14287171119314643,
          0.14113053503426495,
          0.1393104354542947,
          0.1376847256943501,
          0.13572768044826017,
          0.13428938738159066,
          0.1329206773165138,
          0.13121366259760547,
          0.12994104676862672,
          0.12821158428208534,
          0.12730655667018528,
          0.12619891659708116,
          0.1247467398295806,
          0.12345484332353641,
          0.12234271711430941,
          0.12123809876356169,
          0.11998330227034282,
          0.11912454072174211,
          0.11769213763594144,
          0.11697969749161817,
          0.11558302890737651,
          0.11462304814067092,
          0.11373877276458422,
          0.11252428555933626,
          0.11142151091207995,
          0.11046425571836038,
          0.10955932042393918,
          0.10796956105671716,
          0.10745935695778602,
          0.10665798402730713,
          0.10601215502703554
         ]
        },
        {
         "line": {
          "color": "firebrick",
          "dash": "longdashdot"
         },
         "name": "Validation loss with L2 Regularization",
         "type": "scatter",
         "x": [
          0,
          1,
          2,
          3,
          4,
          5,
          6,
          7,
          8,
          9,
          10,
          11,
          12,
          13,
          14,
          15,
          16,
          17,
          18,
          19,
          20,
          21,
          22,
          23,
          24,
          25,
          26,
          27,
          28,
          29,
          30,
          31,
          32,
          33,
          34,
          35,
          36,
          37,
          38,
          39,
          40,
          41,
          42,
          43,
          44,
          45,
          46,
          47,
          48,
          49
         ],
         "y": [
          0.5267994409989685,
          0.33938831289422894,
          0.28981061429064897,
          0.26280846983250267,
          0.24455611394337373,
          0.23043706954979315,
          0.2172169652346375,
          0.2042271542168916,
          0.1948093790246443,
          0.18954903893522204,
          0.18690991609953134,
          0.18157924316390148,
          0.18129899904663074,
          0.17652333316167793,
          0.17746065109688614,
          0.17316935444582693,
          0.17056480981339656,
          0.17004159945596226,
          0.16762900199272843,
          0.16411954162827577,
          0.16281920679011444,
          0.1649799981998458,
          0.1611404980380808,
          0.1590359297439484,
          0.16171599932951505,
          0.15750151623536676,
          0.1556322878705404,
          0.15376848160773235,
          0.14899851508424608,
          0.14792186799293164,
          0.15438692870551604,
          0.15073651356612092,
          0.14763278135327415,
          0.151880519670796,
          0.1529204435716427,
          0.1491770849582402,
          0.14432037892082172,
          0.1447159064056502,
          0.14659045591363318,
          0.14729024677574076,
          0.1389540930542445,
          0.1426387186820914,
          0.1395195463752657,
          0.14135958054024328,
          0.1446682960493927,
          0.14117305617898313,
          0.1398536120749325,
          0.13272281814974646,
          0.13949411021052785,
          0.13516974517792518
         ]
        }
       ],
       "layout": {
        "template": {
         "data": {
          "bar": [
           {
            "error_x": {
             "color": "#2a3f5f"
            },
            "error_y": {
             "color": "#2a3f5f"
            },
            "marker": {
             "line": {
              "color": "#E5ECF6",
              "width": 0.5
             },
             "pattern": {
              "fillmode": "overlay",
              "size": 10,
              "solidity": 0.2
             }
            },
            "type": "bar"
           }
          ],
          "barpolar": [
           {
            "marker": {
             "line": {
              "color": "#E5ECF6",
              "width": 0.5
             },
             "pattern": {
              "fillmode": "overlay",
              "size": 10,
              "solidity": 0.2
             }
            },
            "type": "barpolar"
           }
          ],
          "carpet": [
           {
            "aaxis": {
             "endlinecolor": "#2a3f5f",
             "gridcolor": "white",
             "linecolor": "white",
             "minorgridcolor": "white",
             "startlinecolor": "#2a3f5f"
            },
            "baxis": {
             "endlinecolor": "#2a3f5f",
             "gridcolor": "white",
             "linecolor": "white",
             "minorgridcolor": "white",
             "startlinecolor": "#2a3f5f"
            },
            "type": "carpet"
           }
          ],
          "choropleth": [
           {
            "colorbar": {
             "outlinewidth": 0,
             "ticks": ""
            },
            "type": "choropleth"
           }
          ],
          "contour": [
           {
            "colorbar": {
             "outlinewidth": 0,
             "ticks": ""
            },
            "colorscale": [
             [
              0,
              "#0d0887"
             ],
             [
              0.1111111111111111,
              "#46039f"
             ],
             [
              0.2222222222222222,
              "#7201a8"
             ],
             [
              0.3333333333333333,
              "#9c179e"
             ],
             [
              0.4444444444444444,
              "#bd3786"
             ],
             [
              0.5555555555555556,
              "#d8576b"
             ],
             [
              0.6666666666666666,
              "#ed7953"
             ],
             [
              0.7777777777777778,
              "#fb9f3a"
             ],
             [
              0.8888888888888888,
              "#fdca26"
             ],
             [
              1,
              "#f0f921"
             ]
            ],
            "type": "contour"
           }
          ],
          "contourcarpet": [
           {
            "colorbar": {
             "outlinewidth": 0,
             "ticks": ""
            },
            "type": "contourcarpet"
           }
          ],
          "heatmap": [
           {
            "colorbar": {
             "outlinewidth": 0,
             "ticks": ""
            },
            "colorscale": [
             [
              0,
              "#0d0887"
             ],
             [
              0.1111111111111111,
              "#46039f"
             ],
             [
              0.2222222222222222,
              "#7201a8"
             ],
             [
              0.3333333333333333,
              "#9c179e"
             ],
             [
              0.4444444444444444,
              "#bd3786"
             ],
             [
              0.5555555555555556,
              "#d8576b"
             ],
             [
              0.6666666666666666,
              "#ed7953"
             ],
             [
              0.7777777777777778,
              "#fb9f3a"
             ],
             [
              0.8888888888888888,
              "#fdca26"
             ],
             [
              1,
              "#f0f921"
             ]
            ],
            "type": "heatmap"
           }
          ],
          "heatmapgl": [
           {
            "colorbar": {
             "outlinewidth": 0,
             "ticks": ""
            },
            "colorscale": [
             [
              0,
              "#0d0887"
             ],
             [
              0.1111111111111111,
              "#46039f"
             ],
             [
              0.2222222222222222,
              "#7201a8"
             ],
             [
              0.3333333333333333,
              "#9c179e"
             ],
             [
              0.4444444444444444,
              "#bd3786"
             ],
             [
              0.5555555555555556,
              "#d8576b"
             ],
             [
              0.6666666666666666,
              "#ed7953"
             ],
             [
              0.7777777777777778,
              "#fb9f3a"
             ],
             [
              0.8888888888888888,
              "#fdca26"
             ],
             [
              1,
              "#f0f921"
             ]
            ],
            "type": "heatmapgl"
           }
          ],
          "histogram": [
           {
            "marker": {
             "pattern": {
              "fillmode": "overlay",
              "size": 10,
              "solidity": 0.2
             }
            },
            "type": "histogram"
           }
          ],
          "histogram2d": [
           {
            "colorbar": {
             "outlinewidth": 0,
             "ticks": ""
            },
            "colorscale": [
             [
              0,
              "#0d0887"
             ],
             [
              0.1111111111111111,
              "#46039f"
             ],
             [
              0.2222222222222222,
              "#7201a8"
             ],
             [
              0.3333333333333333,
              "#9c179e"
             ],
             [
              0.4444444444444444,
              "#bd3786"
             ],
             [
              0.5555555555555556,
              "#d8576b"
             ],
             [
              0.6666666666666666,
              "#ed7953"
             ],
             [
              0.7777777777777778,
              "#fb9f3a"
             ],
             [
              0.8888888888888888,
              "#fdca26"
             ],
             [
              1,
              "#f0f921"
             ]
            ],
            "type": "histogram2d"
           }
          ],
          "histogram2dcontour": [
           {
            "colorbar": {
             "outlinewidth": 0,
             "ticks": ""
            },
            "colorscale": [
             [
              0,
              "#0d0887"
             ],
             [
              0.1111111111111111,
              "#46039f"
             ],
             [
              0.2222222222222222,
              "#7201a8"
             ],
             [
              0.3333333333333333,
              "#9c179e"
             ],
             [
              0.4444444444444444,
              "#bd3786"
             ],
             [
              0.5555555555555556,
              "#d8576b"
             ],
             [
              0.6666666666666666,
              "#ed7953"
             ],
             [
              0.7777777777777778,
              "#fb9f3a"
             ],
             [
              0.8888888888888888,
              "#fdca26"
             ],
             [
              1,
              "#f0f921"
             ]
            ],
            "type": "histogram2dcontour"
           }
          ],
          "mesh3d": [
           {
            "colorbar": {
             "outlinewidth": 0,
             "ticks": ""
            },
            "type": "mesh3d"
           }
          ],
          "parcoords": [
           {
            "line": {
             "colorbar": {
              "outlinewidth": 0,
              "ticks": ""
             }
            },
            "type": "parcoords"
           }
          ],
          "pie": [
           {
            "automargin": true,
            "type": "pie"
           }
          ],
          "scatter": [
           {
            "marker": {
             "colorbar": {
              "outlinewidth": 0,
              "ticks": ""
             }
            },
            "type": "scatter"
           }
          ],
          "scatter3d": [
           {
            "line": {
             "colorbar": {
              "outlinewidth": 0,
              "ticks": ""
             }
            },
            "marker": {
             "colorbar": {
              "outlinewidth": 0,
              "ticks": ""
             }
            },
            "type": "scatter3d"
           }
          ],
          "scattercarpet": [
           {
            "marker": {
             "colorbar": {
              "outlinewidth": 0,
              "ticks": ""
             }
            },
            "type": "scattercarpet"
           }
          ],
          "scattergeo": [
           {
            "marker": {
             "colorbar": {
              "outlinewidth": 0,
              "ticks": ""
             }
            },
            "type": "scattergeo"
           }
          ],
          "scattergl": [
           {
            "marker": {
             "colorbar": {
              "outlinewidth": 0,
              "ticks": ""
             }
            },
            "type": "scattergl"
           }
          ],
          "scattermapbox": [
           {
            "marker": {
             "colorbar": {
              "outlinewidth": 0,
              "ticks": ""
             }
            },
            "type": "scattermapbox"
           }
          ],
          "scatterpolar": [
           {
            "marker": {
             "colorbar": {
              "outlinewidth": 0,
              "ticks": ""
             }
            },
            "type": "scatterpolar"
           }
          ],
          "scatterpolargl": [
           {
            "marker": {
             "colorbar": {
              "outlinewidth": 0,
              "ticks": ""
             }
            },
            "type": "scatterpolargl"
           }
          ],
          "scatterternary": [
           {
            "marker": {
             "colorbar": {
              "outlinewidth": 0,
              "ticks": ""
             }
            },
            "type": "scatterternary"
           }
          ],
          "surface": [
           {
            "colorbar": {
             "outlinewidth": 0,
             "ticks": ""
            },
            "colorscale": [
             [
              0,
              "#0d0887"
             ],
             [
              0.1111111111111111,
              "#46039f"
             ],
             [
              0.2222222222222222,
              "#7201a8"
             ],
             [
              0.3333333333333333,
              "#9c179e"
             ],
             [
              0.4444444444444444,
              "#bd3786"
             ],
             [
              0.5555555555555556,
              "#d8576b"
             ],
             [
              0.6666666666666666,
              "#ed7953"
             ],
             [
              0.7777777777777778,
              "#fb9f3a"
             ],
             [
              0.8888888888888888,
              "#fdca26"
             ],
             [
              1,
              "#f0f921"
             ]
            ],
            "type": "surface"
           }
          ],
          "table": [
           {
            "cells": {
             "fill": {
              "color": "#EBF0F8"
             },
             "line": {
              "color": "white"
             }
            },
            "header": {
             "fill": {
              "color": "#C8D4E3"
             },
             "line": {
              "color": "white"
             }
            },
            "type": "table"
           }
          ]
         },
         "layout": {
          "annotationdefaults": {
           "arrowcolor": "#2a3f5f",
           "arrowhead": 0,
           "arrowwidth": 1
          },
          "autotypenumbers": "strict",
          "coloraxis": {
           "colorbar": {
            "outlinewidth": 0,
            "ticks": ""
           }
          },
          "colorscale": {
           "diverging": [
            [
             0,
             "#8e0152"
            ],
            [
             0.1,
             "#c51b7d"
            ],
            [
             0.2,
             "#de77ae"
            ],
            [
             0.3,
             "#f1b6da"
            ],
            [
             0.4,
             "#fde0ef"
            ],
            [
             0.5,
             "#f7f7f7"
            ],
            [
             0.6,
             "#e6f5d0"
            ],
            [
             0.7,
             "#b8e186"
            ],
            [
             0.8,
             "#7fbc41"
            ],
            [
             0.9,
             "#4d9221"
            ],
            [
             1,
             "#276419"
            ]
           ],
           "sequential": [
            [
             0,
             "#0d0887"
            ],
            [
             0.1111111111111111,
             "#46039f"
            ],
            [
             0.2222222222222222,
             "#7201a8"
            ],
            [
             0.3333333333333333,
             "#9c179e"
            ],
            [
             0.4444444444444444,
             "#bd3786"
            ],
            [
             0.5555555555555556,
             "#d8576b"
            ],
            [
             0.6666666666666666,
             "#ed7953"
            ],
            [
             0.7777777777777778,
             "#fb9f3a"
            ],
            [
             0.8888888888888888,
             "#fdca26"
            ],
            [
             1,
             "#f0f921"
            ]
           ],
           "sequentialminus": [
            [
             0,
             "#0d0887"
            ],
            [
             0.1111111111111111,
             "#46039f"
            ],
            [
             0.2222222222222222,
             "#7201a8"
            ],
            [
             0.3333333333333333,
             "#9c179e"
            ],
            [
             0.4444444444444444,
             "#bd3786"
            ],
            [
             0.5555555555555556,
             "#d8576b"
            ],
            [
             0.6666666666666666,
             "#ed7953"
            ],
            [
             0.7777777777777778,
             "#fb9f3a"
            ],
            [
             0.8888888888888888,
             "#fdca26"
            ],
            [
             1,
             "#f0f921"
            ]
           ]
          },
          "colorway": [
           "#636efa",
           "#EF553B",
           "#00cc96",
           "#ab63fa",
           "#FFA15A",
           "#19d3f3",
           "#FF6692",
           "#B6E880",
           "#FF97FF",
           "#FECB52"
          ],
          "font": {
           "color": "#2a3f5f"
          },
          "geo": {
           "bgcolor": "white",
           "lakecolor": "white",
           "landcolor": "#E5ECF6",
           "showlakes": true,
           "showland": true,
           "subunitcolor": "white"
          },
          "hoverlabel": {
           "align": "left"
          },
          "hovermode": "closest",
          "mapbox": {
           "style": "light"
          },
          "paper_bgcolor": "white",
          "plot_bgcolor": "#E5ECF6",
          "polar": {
           "angularaxis": {
            "gridcolor": "white",
            "linecolor": "white",
            "ticks": ""
           },
           "bgcolor": "#E5ECF6",
           "radialaxis": {
            "gridcolor": "white",
            "linecolor": "white",
            "ticks": ""
           }
          },
          "scene": {
           "xaxis": {
            "backgroundcolor": "#E5ECF6",
            "gridcolor": "white",
            "gridwidth": 2,
            "linecolor": "white",
            "showbackground": true,
            "ticks": "",
            "zerolinecolor": "white"
           },
           "yaxis": {
            "backgroundcolor": "#E5ECF6",
            "gridcolor": "white",
            "gridwidth": 2,
            "linecolor": "white",
            "showbackground": true,
            "ticks": "",
            "zerolinecolor": "white"
           },
           "zaxis": {
            "backgroundcolor": "#E5ECF6",
            "gridcolor": "white",
            "gridwidth": 2,
            "linecolor": "white",
            "showbackground": true,
            "ticks": "",
            "zerolinecolor": "white"
           }
          },
          "shapedefaults": {
           "line": {
            "color": "#2a3f5f"
           }
          },
          "ternary": {
           "aaxis": {
            "gridcolor": "white",
            "linecolor": "white",
            "ticks": ""
           },
           "baxis": {
            "gridcolor": "white",
            "linecolor": "white",
            "ticks": ""
           },
           "bgcolor": "#E5ECF6",
           "caxis": {
            "gridcolor": "white",
            "linecolor": "white",
            "ticks": ""
           }
          },
          "title": {
           "x": 0.05
          },
          "xaxis": {
           "automargin": true,
           "gridcolor": "white",
           "linecolor": "white",
           "ticks": "",
           "title": {
            "standoff": 15
           },
           "zerolinecolor": "white",
           "zerolinewidth": 2
          },
          "yaxis": {
           "automargin": true,
           "gridcolor": "white",
           "linecolor": "white",
           "ticks": "",
           "title": {
            "standoff": 15
           },
           "zerolinecolor": "white",
           "zerolinewidth": 2
          }
         }
        },
        "title": {
         "text": "Training and validation Losses for Different Neural Networks",
         "x": 0.5,
         "xanchor": "center",
         "yanchor": "top"
        },
        "xaxis": {
         "title": {
          "text": "Epochs"
         }
        },
        "yaxis": {
         "title": {
          "text": "Loss"
         }
        }
       }
      },
      "text/html": [
       "<div>                            <div id=\"663bd9af-0283-4a91-a7fb-bbfb67b649f1\" class=\"plotly-graph-div\" style=\"height:525px; width:100%;\"></div>            <script type=\"text/javascript\">                require([\"plotly\"], function(Plotly) {                    window.PLOTLYENV=window.PLOTLYENV || {};                                    if (document.getElementById(\"663bd9af-0283-4a91-a7fb-bbfb67b649f1\")) {                    Plotly.newPlot(                        \"663bd9af-0283-4a91-a7fb-bbfb67b649f1\",                        [{\"line\":{\"color\":\"royalblue\"},\"name\":\"Training loss without Regularization\",\"x\":[0,1,2,3,4,5,6,7,8,9,10,11,12,13,14,15,16,17,18,19,20,21,22,23,24,25,26,27,28,29,30,31,32,33,34,35,36,37,38,39,40,41,42,43,44,45,46,47,48,49],\"y\":[0.40652362668886094,0.10600714943136452,0.07128774067934822,0.062018756991558587,0.057695472685488206,0.05530790224624243,0.05348973047758194,0.05158213260807175,0.049966778417693064,0.048872531953813414,0.04718693563627473,0.04702093067405585,0.045447360825886504,0.045309562054278024,0.04404062834336949,0.04413522251776552,0.043305021915417824,0.04362209844211112,0.042909411612262666,0.042550897545747465,0.04218459680670056,0.041499765281603575,0.041162664391192816,0.041223389980416726,0.040984411070053094,0.039741730185603716,0.040124969133068976,0.04008922655783648,0.03920959895506435,0.03962512917697807,0.03936883829793447,0.03929464350745641,0.0385381055190193,0.03854446915626895,0.037478980262541116,0.037897605824097944,0.037701259032632946,0.036865879064324036,0.03705193748692835,0.03603846483346819,0.03636009694945557,0.03632270930514831,0.035569919964801154,0.035438483270143886,0.03506027473164003,0.03501667657915796,0.03435082621743472,0.03428030910445493,0.03414160042639362,0.033918021546242606],\"type\":\"scatter\"},{\"line\":{\"color\":\"firebrick\"},\"name\":\"Validation loss without Regularization\",\"x\":[0,1,2,3,4,5,6,7,8,9,10,11,12,13,14,15,16,17,18,19,20,21,22,23,24,25,26,27,28,29,30,31,32,33,34,35,36,37,38,39,40,41,42,43,44,45,46,47,48,49],\"y\":[0.1886439384253063,0.12457410626001586,0.11642986371773374,0.11522098453248035,0.12086328852527048,0.11957979435365435,0.11372414750585859,0.11241188859656596,0.10251154798995109,0.09440070907449906,0.10325833597859563,0.10527265082033942,0.11282940689646019,0.10454481454702849,0.09639395691885125,0.0886226110888984,0.09736541568071845,0.0971246096481155,0.10383708908161023,0.08966017487324777,0.09607229791387241,0.09931465702705386,0.08879727614932621,0.10330238516226137,0.09413527780925506,0.10123834883242198,0.1061500446546003,0.0991328738074306,0.09835239156104157,0.11041278596743788,0.10825898163789978,0.10158936957104112,0.09908085632143776,0.10915301122735721,0.11407910058415328,0.1144994334518865,0.11626749865227413,0.11633681167780094,0.1033429030025813,0.13259199172714992,0.11540053889805005,0.12336685597998562,0.12172637172972418,0.13284280735765935,0.12428097326841513,0.11628557110209936,0.11535316362749315,0.11839471295279808,0.14232830806313687,0.13600664732287077],\"type\":\"scatter\"},{\"line\":{\"color\":\"royalblue\",\"dash\":\"dash\"},\"name\":\"Training loss with Dropout\",\"x\":[0,1,2,3,4,5,6,7,8,9,10,11,12,13,14,15,16,17,18,19,20,21,22,23,24,25,26,27,28,29,30,31,32,33,34,35,36,37,38,39,40,41,42,43,44,45,46,47,48,49],\"y\":[0.30743876857957325,0.10552514704676529,0.07914143389457569,0.0657146619492164,0.06087632019159236,0.05705593979638287,0.0522638471385602,0.050972752679442686,0.04857489876000774,0.04758747524156275,0.04643596303558322,0.04499030725516486,0.0455556326816491,0.04508473946708393,0.04434247600925938,0.04491862438982379,0.04553020924491693,0.04245511833116861,0.042526466936768786,0.04374075807659837,0.04285248021656826,0.04266753075116552,0.04199305471514588,0.042311091055373264,0.04161568503457096,0.04119757635947342,0.041492928925886324,0.04101156196653629,0.04123386950457971,0.03869145192719088,0.04104047515370084,0.04063604251497262,0.040779326194626236,0.03839060942618716,0.04002319386591089,0.03905981163178027,0.0382466617565985,0.03758571970043332,0.03774957762382127,0.037540716310596134,0.03739608680238645,0.03828262644201454,0.03869485029455855,0.03551806109316576,0.036710250598207955,0.03700153245376825,0.037681734806024526,0.03695451007800477,0.03696610194872001,0.03598403699091499],\"type\":\"scatter\"},{\"line\":{\"color\":\"firebrick\",\"dash\":\"dash\"},\"name\":\"Validation loss with Dropout\",\"x\":[0,1,2,3,4,5,6,7,8,9,10,11,12,13,14,15,16,17,18,19,20,21,22,23,24,25,26,27,28,29,30,31,32,33,34,35,36,37,38,39,40,41,42,43,44,45,46,47,48,49],\"y\":[0.14084350436674273,0.11649046132575168,0.11397008924224321,0.10945852143807061,0.10772435702296151,0.0965302521890592,0.09461000883955278,0.09865015734565456,0.10031671488166596,0.08949021922264337,0.09286710075217415,0.10537693093947025,0.09953079455938099,0.09918347342766591,0.10276549437563845,0.09779230828730155,0.09555925154761011,0.10776739371420196,0.1131029825066357,0.11374622542089925,0.10244350378866628,0.12247847177346315,0.10866032913960384,0.11222966913434321,0.11494012924912743,0.12407240857389062,0.11008990538532927,0.11986458797458566,0.11991955511829185,0.11522432096282503,0.1220703552142305,0.14323212465132978,0.12548059528120448,0.15813268964739371,0.13274329620472075,0.13876258814704898,0.14082318077886924,0.1363673017741312,0.14578545408970287,0.14907580110933227,0.14841491464017723,0.16753149639696227,0.16649222372726014,0.16435043843977962,0.16007608135808643,0.15963381154748654,0.18009897098399325,0.15261057090388458,0.17518683056067863,0.15677157099428],\"type\":\"scatter\"},{\"line\":{\"color\":\"royalblue\",\"dash\":\"dot\"},\"name\":\"Training loss with L1 Regularization\",\"x\":[0,1,2,3,4,5,6,7,8,9,10,11,12,13,14,15,16,17,18,19,20,21,22,23,24,25,26,27,28,29,30,31,32,33,34,35,36,37,38,39,40,41,42,43,44,45,46,47,48,49],\"y\":[1.1518415142142127,0.4499243080110935,0.3266674838443214,0.2825320359311671,0.25716454456212057,0.23791968998336008,0.2216575400393498,0.20850108445869184,0.1986543175249827,0.19007508932307124,0.18153699437033027,0.17369588987585458,0.16616555116407322,0.1576525754663907,0.14933705370885564,0.1415279140350758,0.13678986633254345,0.13481838317789493,0.13299781252780682,0.13132823078664269,0.12981654979022322,0.12785104516242626,0.12637536362294818,0.1252077420564771,0.12396973808860216,0.12262086579595578,0.12144271622971295,0.12025983716885844,0.11912308132931743,0.11836785194432575,0.11726394903230884,0.11622513363113365,0.11556919587195746,0.1146159603602541,0.11368196191368884,0.11288471206204687,0.11201338700370972,0.11117383431820294,0.11070178132758128,0.10988596705924553,0.10895862330556882,0.1084248556411341,0.10763012259067693,0.10702996976956328,0.10623800174732195,0.10538136549627958,0.10484287871433742,0.10433268800870098,0.10351587706897968,0.10334417399466879],\"type\":\"scatter\"},{\"line\":{\"color\":\"firebrick\",\"dash\":\"longdashdot\"},\"name\":\"Validation loss with L1 Regularization\",\"x\":[0,1,2,3,4,5,6,7,8,9,10,11,12,13,14,15,16,17,18,19,20,21,22,23,24,25,26,27,28,29,30,31,32,33,34,35,36,37,38,39,40,41,42,43,44,45,46,47,48,49],\"y\":[0.6602254834676102,0.36313026564206236,0.30010747458876635,0.2750899005674287,0.26248259472802254,0.2438646785872962,0.23081380398367404,0.22327069858225382,0.21819213331863982,0.21381503518593914,0.20324904708432884,0.19630021039697063,0.18873543194433987,0.18071469957564607,0.17424376960319604,0.16856537383000803,0.16771889720636282,0.16424193151616692,0.16166566095365592,0.15854971979729007,0.1593334909283869,0.1572753146849922,0.15691699088458497,0.1542374678752883,0.15404458616844485,0.1511456319723299,0.15062149882204762,0.1490999277240787,0.14918287908885536,0.14663131698323012,0.14741521866862814,0.14233860597433784,0.14452602860795624,0.1436428108090084,0.13868374751835336,0.1415431272385268,0.1405796941153104,0.135063631063778,0.137257681728304,0.1339785203784984,0.1339499678469733,0.13510280187760687,0.13695394026349678,0.1327877871845945,0.13435232769313493,0.13243331564468022,0.1327475343144186,0.13209217718014352,0.13236027233037,0.1342418911477191],\"type\":\"scatter\"},{\"line\":{\"color\":\"royalblue\",\"dash\":\"dot\"},\"name\":\"Training loss with L2 Regularization\",\"x\":[0,1,2,3,4,5,6,7,8,9,10,11,12,13,14,15,16,17,18,19,20,21,22,23,24,25,26,27,28,29,30,31,32,33,34,35,36,37,38,39,40,41,42,43,44,45,46,47,48,49],\"y\":[0.9867618070265943,0.3920127223373323,0.3074943617903072,0.2706052446656682,0.2452605873928248,0.2262555814764357,0.21137914942111077,0.19708723357937985,0.18250451843678242,0.17214721123775187,0.16649658847694007,0.16230103630633402,0.1589212583943636,0.15610459545998026,0.15353775365513958,0.15122133554177306,0.14884702814737205,0.14662813500574529,0.1448128024066064,0.14287171119314643,0.14113053503426495,0.1393104354542947,0.1376847256943501,0.13572768044826017,0.13428938738159066,0.1329206773165138,0.13121366259760547,0.12994104676862672,0.12821158428208534,0.12730655667018528,0.12619891659708116,0.1247467398295806,0.12345484332353641,0.12234271711430941,0.12123809876356169,0.11998330227034282,0.11912454072174211,0.11769213763594144,0.11697969749161817,0.11558302890737651,0.11462304814067092,0.11373877276458422,0.11252428555933626,0.11142151091207995,0.11046425571836038,0.10955932042393918,0.10796956105671716,0.10745935695778602,0.10665798402730713,0.10601215502703554],\"type\":\"scatter\"},{\"line\":{\"color\":\"firebrick\",\"dash\":\"longdashdot\"},\"name\":\"Validation loss with L2 Regularization\",\"x\":[0,1,2,3,4,5,6,7,8,9,10,11,12,13,14,15,16,17,18,19,20,21,22,23,24,25,26,27,28,29,30,31,32,33,34,35,36,37,38,39,40,41,42,43,44,45,46,47,48,49],\"y\":[0.5267994409989685,0.33938831289422894,0.28981061429064897,0.26280846983250267,0.24455611394337373,0.23043706954979315,0.2172169652346375,0.2042271542168916,0.1948093790246443,0.18954903893522204,0.18690991609953134,0.18157924316390148,0.18129899904663074,0.17652333316167793,0.17746065109688614,0.17316935444582693,0.17056480981339656,0.17004159945596226,0.16762900199272843,0.16411954162827577,0.16281920679011444,0.1649799981998458,0.1611404980380808,0.1590359297439484,0.16171599932951505,0.15750151623536676,0.1556322878705404,0.15376848160773235,0.14899851508424608,0.14792186799293164,0.15438692870551604,0.15073651356612092,0.14763278135327415,0.151880519670796,0.1529204435716427,0.1491770849582402,0.14432037892082172,0.1447159064056502,0.14659045591363318,0.14729024677574076,0.1389540930542445,0.1426387186820914,0.1395195463752657,0.14135958054024328,0.1446682960493927,0.14117305617898313,0.1398536120749325,0.13272281814974646,0.13949411021052785,0.13516974517792518],\"type\":\"scatter\"}],                        {\"template\":{\"data\":{\"barpolar\":[{\"marker\":{\"line\":{\"color\":\"#E5ECF6\",\"width\":0.5},\"pattern\":{\"fillmode\":\"overlay\",\"size\":10,\"solidity\":0.2}},\"type\":\"barpolar\"}],\"bar\":[{\"error_x\":{\"color\":\"#2a3f5f\"},\"error_y\":{\"color\":\"#2a3f5f\"},\"marker\":{\"line\":{\"color\":\"#E5ECF6\",\"width\":0.5},\"pattern\":{\"fillmode\":\"overlay\",\"size\":10,\"solidity\":0.2}},\"type\":\"bar\"}],\"carpet\":[{\"aaxis\":{\"endlinecolor\":\"#2a3f5f\",\"gridcolor\":\"white\",\"linecolor\":\"white\",\"minorgridcolor\":\"white\",\"startlinecolor\":\"#2a3f5f\"},\"baxis\":{\"endlinecolor\":\"#2a3f5f\",\"gridcolor\":\"white\",\"linecolor\":\"white\",\"minorgridcolor\":\"white\",\"startlinecolor\":\"#2a3f5f\"},\"type\":\"carpet\"}],\"choropleth\":[{\"colorbar\":{\"outlinewidth\":0,\"ticks\":\"\"},\"type\":\"choropleth\"}],\"contourcarpet\":[{\"colorbar\":{\"outlinewidth\":0,\"ticks\":\"\"},\"type\":\"contourcarpet\"}],\"contour\":[{\"colorbar\":{\"outlinewidth\":0,\"ticks\":\"\"},\"colorscale\":[[0.0,\"#0d0887\"],[0.1111111111111111,\"#46039f\"],[0.2222222222222222,\"#7201a8\"],[0.3333333333333333,\"#9c179e\"],[0.4444444444444444,\"#bd3786\"],[0.5555555555555556,\"#d8576b\"],[0.6666666666666666,\"#ed7953\"],[0.7777777777777778,\"#fb9f3a\"],[0.8888888888888888,\"#fdca26\"],[1.0,\"#f0f921\"]],\"type\":\"contour\"}],\"heatmapgl\":[{\"colorbar\":{\"outlinewidth\":0,\"ticks\":\"\"},\"colorscale\":[[0.0,\"#0d0887\"],[0.1111111111111111,\"#46039f\"],[0.2222222222222222,\"#7201a8\"],[0.3333333333333333,\"#9c179e\"],[0.4444444444444444,\"#bd3786\"],[0.5555555555555556,\"#d8576b\"],[0.6666666666666666,\"#ed7953\"],[0.7777777777777778,\"#fb9f3a\"],[0.8888888888888888,\"#fdca26\"],[1.0,\"#f0f921\"]],\"type\":\"heatmapgl\"}],\"heatmap\":[{\"colorbar\":{\"outlinewidth\":0,\"ticks\":\"\"},\"colorscale\":[[0.0,\"#0d0887\"],[0.1111111111111111,\"#46039f\"],[0.2222222222222222,\"#7201a8\"],[0.3333333333333333,\"#9c179e\"],[0.4444444444444444,\"#bd3786\"],[0.5555555555555556,\"#d8576b\"],[0.6666666666666666,\"#ed7953\"],[0.7777777777777778,\"#fb9f3a\"],[0.8888888888888888,\"#fdca26\"],[1.0,\"#f0f921\"]],\"type\":\"heatmap\"}],\"histogram2dcontour\":[{\"colorbar\":{\"outlinewidth\":0,\"ticks\":\"\"},\"colorscale\":[[0.0,\"#0d0887\"],[0.1111111111111111,\"#46039f\"],[0.2222222222222222,\"#7201a8\"],[0.3333333333333333,\"#9c179e\"],[0.4444444444444444,\"#bd3786\"],[0.5555555555555556,\"#d8576b\"],[0.6666666666666666,\"#ed7953\"],[0.7777777777777778,\"#fb9f3a\"],[0.8888888888888888,\"#fdca26\"],[1.0,\"#f0f921\"]],\"type\":\"histogram2dcontour\"}],\"histogram2d\":[{\"colorbar\":{\"outlinewidth\":0,\"ticks\":\"\"},\"colorscale\":[[0.0,\"#0d0887\"],[0.1111111111111111,\"#46039f\"],[0.2222222222222222,\"#7201a8\"],[0.3333333333333333,\"#9c179e\"],[0.4444444444444444,\"#bd3786\"],[0.5555555555555556,\"#d8576b\"],[0.6666666666666666,\"#ed7953\"],[0.7777777777777778,\"#fb9f3a\"],[0.8888888888888888,\"#fdca26\"],[1.0,\"#f0f921\"]],\"type\":\"histogram2d\"}],\"histogram\":[{\"marker\":{\"pattern\":{\"fillmode\":\"overlay\",\"size\":10,\"solidity\":0.2}},\"type\":\"histogram\"}],\"mesh3d\":[{\"colorbar\":{\"outlinewidth\":0,\"ticks\":\"\"},\"type\":\"mesh3d\"}],\"parcoords\":[{\"line\":{\"colorbar\":{\"outlinewidth\":0,\"ticks\":\"\"}},\"type\":\"parcoords\"}],\"pie\":[{\"automargin\":true,\"type\":\"pie\"}],\"scatter3d\":[{\"line\":{\"colorbar\":{\"outlinewidth\":0,\"ticks\":\"\"}},\"marker\":{\"colorbar\":{\"outlinewidth\":0,\"ticks\":\"\"}},\"type\":\"scatter3d\"}],\"scattercarpet\":[{\"marker\":{\"colorbar\":{\"outlinewidth\":0,\"ticks\":\"\"}},\"type\":\"scattercarpet\"}],\"scattergeo\":[{\"marker\":{\"colorbar\":{\"outlinewidth\":0,\"ticks\":\"\"}},\"type\":\"scattergeo\"}],\"scattergl\":[{\"marker\":{\"colorbar\":{\"outlinewidth\":0,\"ticks\":\"\"}},\"type\":\"scattergl\"}],\"scattermapbox\":[{\"marker\":{\"colorbar\":{\"outlinewidth\":0,\"ticks\":\"\"}},\"type\":\"scattermapbox\"}],\"scatterpolargl\":[{\"marker\":{\"colorbar\":{\"outlinewidth\":0,\"ticks\":\"\"}},\"type\":\"scatterpolargl\"}],\"scatterpolar\":[{\"marker\":{\"colorbar\":{\"outlinewidth\":0,\"ticks\":\"\"}},\"type\":\"scatterpolar\"}],\"scatter\":[{\"marker\":{\"colorbar\":{\"outlinewidth\":0,\"ticks\":\"\"}},\"type\":\"scatter\"}],\"scatterternary\":[{\"marker\":{\"colorbar\":{\"outlinewidth\":0,\"ticks\":\"\"}},\"type\":\"scatterternary\"}],\"surface\":[{\"colorbar\":{\"outlinewidth\":0,\"ticks\":\"\"},\"colorscale\":[[0.0,\"#0d0887\"],[0.1111111111111111,\"#46039f\"],[0.2222222222222222,\"#7201a8\"],[0.3333333333333333,\"#9c179e\"],[0.4444444444444444,\"#bd3786\"],[0.5555555555555556,\"#d8576b\"],[0.6666666666666666,\"#ed7953\"],[0.7777777777777778,\"#fb9f3a\"],[0.8888888888888888,\"#fdca26\"],[1.0,\"#f0f921\"]],\"type\":\"surface\"}],\"table\":[{\"cells\":{\"fill\":{\"color\":\"#EBF0F8\"},\"line\":{\"color\":\"white\"}},\"header\":{\"fill\":{\"color\":\"#C8D4E3\"},\"line\":{\"color\":\"white\"}},\"type\":\"table\"}]},\"layout\":{\"annotationdefaults\":{\"arrowcolor\":\"#2a3f5f\",\"arrowhead\":0,\"arrowwidth\":1},\"autotypenumbers\":\"strict\",\"coloraxis\":{\"colorbar\":{\"outlinewidth\":0,\"ticks\":\"\"}},\"colorscale\":{\"diverging\":[[0,\"#8e0152\"],[0.1,\"#c51b7d\"],[0.2,\"#de77ae\"],[0.3,\"#f1b6da\"],[0.4,\"#fde0ef\"],[0.5,\"#f7f7f7\"],[0.6,\"#e6f5d0\"],[0.7,\"#b8e186\"],[0.8,\"#7fbc41\"],[0.9,\"#4d9221\"],[1,\"#276419\"]],\"sequential\":[[0.0,\"#0d0887\"],[0.1111111111111111,\"#46039f\"],[0.2222222222222222,\"#7201a8\"],[0.3333333333333333,\"#9c179e\"],[0.4444444444444444,\"#bd3786\"],[0.5555555555555556,\"#d8576b\"],[0.6666666666666666,\"#ed7953\"],[0.7777777777777778,\"#fb9f3a\"],[0.8888888888888888,\"#fdca26\"],[1.0,\"#f0f921\"]],\"sequentialminus\":[[0.0,\"#0d0887\"],[0.1111111111111111,\"#46039f\"],[0.2222222222222222,\"#7201a8\"],[0.3333333333333333,\"#9c179e\"],[0.4444444444444444,\"#bd3786\"],[0.5555555555555556,\"#d8576b\"],[0.6666666666666666,\"#ed7953\"],[0.7777777777777778,\"#fb9f3a\"],[0.8888888888888888,\"#fdca26\"],[1.0,\"#f0f921\"]]},\"colorway\":[\"#636efa\",\"#EF553B\",\"#00cc96\",\"#ab63fa\",\"#FFA15A\",\"#19d3f3\",\"#FF6692\",\"#B6E880\",\"#FF97FF\",\"#FECB52\"],\"font\":{\"color\":\"#2a3f5f\"},\"geo\":{\"bgcolor\":\"white\",\"lakecolor\":\"white\",\"landcolor\":\"#E5ECF6\",\"showlakes\":true,\"showland\":true,\"subunitcolor\":\"white\"},\"hoverlabel\":{\"align\":\"left\"},\"hovermode\":\"closest\",\"mapbox\":{\"style\":\"light\"},\"paper_bgcolor\":\"white\",\"plot_bgcolor\":\"#E5ECF6\",\"polar\":{\"angularaxis\":{\"gridcolor\":\"white\",\"linecolor\":\"white\",\"ticks\":\"\"},\"bgcolor\":\"#E5ECF6\",\"radialaxis\":{\"gridcolor\":\"white\",\"linecolor\":\"white\",\"ticks\":\"\"}},\"scene\":{\"xaxis\":{\"backgroundcolor\":\"#E5ECF6\",\"gridcolor\":\"white\",\"gridwidth\":2,\"linecolor\":\"white\",\"showbackground\":true,\"ticks\":\"\",\"zerolinecolor\":\"white\"},\"yaxis\":{\"backgroundcolor\":\"#E5ECF6\",\"gridcolor\":\"white\",\"gridwidth\":2,\"linecolor\":\"white\",\"showbackground\":true,\"ticks\":\"\",\"zerolinecolor\":\"white\"},\"zaxis\":{\"backgroundcolor\":\"#E5ECF6\",\"gridcolor\":\"white\",\"gridwidth\":2,\"linecolor\":\"white\",\"showbackground\":true,\"ticks\":\"\",\"zerolinecolor\":\"white\"}},\"shapedefaults\":{\"line\":{\"color\":\"#2a3f5f\"}},\"ternary\":{\"aaxis\":{\"gridcolor\":\"white\",\"linecolor\":\"white\",\"ticks\":\"\"},\"baxis\":{\"gridcolor\":\"white\",\"linecolor\":\"white\",\"ticks\":\"\"},\"bgcolor\":\"#E5ECF6\",\"caxis\":{\"gridcolor\":\"white\",\"linecolor\":\"white\",\"ticks\":\"\"}},\"title\":{\"x\":0.05},\"xaxis\":{\"automargin\":true,\"gridcolor\":\"white\",\"linecolor\":\"white\",\"ticks\":\"\",\"title\":{\"standoff\":15},\"zerolinecolor\":\"white\",\"zerolinewidth\":2},\"yaxis\":{\"automargin\":true,\"gridcolor\":\"white\",\"linecolor\":\"white\",\"ticks\":\"\",\"title\":{\"standoff\":15},\"zerolinecolor\":\"white\",\"zerolinewidth\":2}}},\"title\":{\"text\":\"Training and validation Losses for Different Neural Networks\",\"x\":0.5,\"xanchor\":\"center\",\"yanchor\":\"top\"},\"xaxis\":{\"title\":{\"text\":\"Epochs\"}},\"yaxis\":{\"title\":{\"text\":\"Loss\"}}},                        {\"responsive\": true}                    ).then(function(){\n",
       "                            \n",
       "var gd = document.getElementById('663bd9af-0283-4a91-a7fb-bbfb67b649f1');\n",
       "var x = new MutationObserver(function (mutations, observer) {{\n",
       "        var display = window.getComputedStyle(gd).display;\n",
       "        if (!display || display === 'none') {{\n",
       "            console.log([gd, 'removed!']);\n",
       "            Plotly.purge(gd);\n",
       "            observer.disconnect();\n",
       "        }}\n",
       "}});\n",
       "\n",
       "// Listen for the removal of the full notebook cells\n",
       "var notebookContainer = gd.closest('#notebook-container');\n",
       "if (notebookContainer) {{\n",
       "    x.observe(notebookContainer, {childList: true});\n",
       "}}\n",
       "\n",
       "// Listen for the clearing of the current output cell\n",
       "var outputEl = gd.closest('.output');\n",
       "if (outputEl) {{\n",
       "    x.observe(outputEl, {childList: true});\n",
       "}}\n",
       "\n",
       "                        })                };                });            </script>        </div>"
      ]
     },
     "metadata": {},
     "output_type": "display_data"
    }
   ],
   "source": [
    "fig = go.Figure()\n",
    "fig.add_trace(go.Scatter(x = np.arange(len(loss1)), y = loss1, name = \"Training loss without Regularization\", line=dict(color = \"royalblue\")))\n",
    "fig.add_trace(go.Scatter(x = np.arange(len(val_loss1)), y = val_loss1, name = \"Validation loss without Regularization\", line=dict(color = \"firebrick\")))\n",
    "\n",
    "fig.add_trace(go.Scatter(x = np.arange(len(loss2)), y = loss2, name = \"Training loss with Dropout\", line=dict(color = \"royalblue\", dash = \"dash\")))\n",
    "fig.add_trace(go.Scatter(x = np.arange(len(val_loss2)), y = val_loss2, name = \"Validation loss with Dropout\", line=dict(color = \"firebrick\", dash = \"dash\")))\n",
    "\n",
    "fig.add_trace(go.Scatter(x = np.arange(len(loss3)), y = loss3, name = \"Training loss with L1 Regularization\", line=dict(color = \"royalblue\", dash = \"dot\")))\n",
    "fig.add_trace(go.Scatter(x = np.arange(len(val_loss3)), y = val_loss3, name = \"Validation loss with L1 Regularization\", line=dict(color = \"firebrick\", dash = \"longdashdot\")))\n",
    "\n",
    "fig.add_trace(go.Scatter(x = np.arange(len(loss4)), y = loss4, name = \"Training loss with L2 Regularization\", line=dict(color = \"royalblue\", dash = \"dot\")))\n",
    "fig.add_trace(go.Scatter(x = np.arange(len(val_loss4)), y = val_loss4, name = \"Validation loss with L2 Regularization\", line=dict(color = \"firebrick\", dash = \"longdashdot\")))\n",
    "\n",
    "fig.update_layout(xaxis_title = \"Epochs\", yaxis_title = \"Loss\",\n",
    "                    title = {\"text\": \"Training and validation Losses for Different Neural Networks\",\n",
    "                            \"x\": 0.5, \"xanchor\": \"center\", \"yanchor\": \"top\"})\n",
    "iplot(fig)"
   ]
  },
  {
   "cell_type": "markdown",
   "metadata": {},
   "source": [
    "    ! NN without regularization is unstabilized as expected.\n",
    "    ! Dropout and L2 regularization doing well.\n",
    "    ! L1 regularization is stable but it has biggest loss value.\n",
    "\n",
    "So our best option will be a dropout layer and L2 regularization on layers. Let's train it.\n",
    "\n",
    "P.S. You can click on the legend to close some of lines. It might be useful when examining the plot.\n"
   ]
  },
  {
   "cell_type": "code",
   "execution_count": 82,
   "metadata": {},
   "outputs": [],
   "source": [
    "model = Sequential([\n",
    "    Dense(32, activation=\"relu\", input_dim = 6, kernel_regularizer=l2(l = 0.01)),\n",
    "    Dropout(0.3),\n",
    "    Dense(32, activation=\"relu\", kernel_regularizer=l2(l=0.01)),\n",
    "    Dense(1, activation=\"sigmoid\")\n",
    "])"
   ]
  },
  {
   "cell_type": "code",
   "execution_count": 83,
   "metadata": {},
   "outputs": [
    {
     "name": "stdout",
     "output_type": "stream",
     "text": [
      "Model: \"sequential_4\"\n",
      "_________________________________________________________________\n",
      "Layer (type)                 Output Shape              Param #   \n",
      "=================================================================\n",
      "dense_12 (Dense)             (None, 32)                224       \n",
      "_________________________________________________________________\n",
      "dropout_1 (Dropout)          (None, 32)                0         \n",
      "_________________________________________________________________\n",
      "dense_13 (Dense)             (None, 32)                1056      \n",
      "_________________________________________________________________\n",
      "dense_14 (Dense)             (None, 1)                 33        \n",
      "=================================================================\n",
      "Total params: 1,313\n",
      "Trainable params: 1,313\n",
      "Non-trainable params: 0\n",
      "_________________________________________________________________\n"
     ]
    }
   ],
   "source": [
    "model.summary()"
   ]
  },
  {
   "cell_type": "code",
   "execution_count": 84,
   "metadata": {},
   "outputs": [],
   "source": [
    "model.compile(optimizer=\"rmsprop\", loss = \"binary_crossentropy\", metrics=[\"accuracy\"])"
   ]
  },
  {
   "cell_type": "code",
   "execution_count": 85,
   "metadata": {},
   "outputs": [
    {
     "name": "stdout",
     "output_type": "stream",
     "text": [
      "Train on 8143 samples, validate on 2665 samples\n",
      "Epoch 1/50\n",
      "8143/8143 [==============================] - 1s 112us/sample - loss: 0.5970 - accuracy: 0.8373 - val_loss: 0.3186 - val_accuracy: 0.9362\n",
      "Epoch 2/50\n",
      "8143/8143 [==============================] - 0s 40us/sample - loss: 0.2658 - accuracy: 0.9425 - val_loss: 0.2212 - val_accuracy: 0.9550\n",
      "Epoch 3/50\n",
      "8143/8143 [==============================] - 0s 47us/sample - loss: 0.2070 - accuracy: 0.9587 - val_loss: 0.1997 - val_accuracy: 0.9550\n",
      "Epoch 4/50\n",
      "8143/8143 [==============================] - 0s 44us/sample - loss: 0.1833 - accuracy: 0.9661 - val_loss: 0.1869 - val_accuracy: 0.9591\n",
      "Epoch 5/50\n",
      "8143/8143 [==============================] - 0s 43us/sample - loss: 0.1665 - accuracy: 0.9718 - val_loss: 0.1734 - val_accuracy: 0.9629\n",
      "Epoch 6/50\n",
      "8143/8143 [==============================] - 0s 44us/sample - loss: 0.1555 - accuracy: 0.9753 - val_loss: 0.1668 - val_accuracy: 0.9685\n",
      "Epoch 7/50\n",
      "8143/8143 [==============================] - 0s 46us/sample - loss: 0.1471 - accuracy: 0.9780 - val_loss: 0.1623 - val_accuracy: 0.9670\n",
      "Epoch 8/50\n",
      "8143/8143 [==============================] - 0s 43us/sample - loss: 0.1408 - accuracy: 0.9789 - val_loss: 0.1569 - val_accuracy: 0.9681\n",
      "Epoch 9/50\n",
      "8143/8143 [==============================] - 0s 43us/sample - loss: 0.1366 - accuracy: 0.9806 - val_loss: 0.1524 - val_accuracy: 0.9685\n",
      "Epoch 10/50\n",
      "8143/8143 [==============================] - 0s 45us/sample - loss: 0.1316 - accuracy: 0.9807 - val_loss: 0.1481 - val_accuracy: 0.9685\n",
      "Epoch 11/50\n",
      "8143/8143 [==============================] - 0s 43us/sample - loss: 0.1278 - accuracy: 0.9829 - val_loss: 0.1481 - val_accuracy: 0.9685\n",
      "Epoch 12/50\n",
      "8143/8143 [==============================] - 0s 44us/sample - loss: 0.1246 - accuracy: 0.9831 - val_loss: 0.1437 - val_accuracy: 0.9685\n",
      "Epoch 13/50\n",
      "8143/8143 [==============================] - 0s 44us/sample - loss: 0.1195 - accuracy: 0.9840 - val_loss: 0.1449 - val_accuracy: 0.9685\n",
      "Epoch 14/50\n",
      "8143/8143 [==============================] - 0s 43us/sample - loss: 0.1184 - accuracy: 0.9826 - val_loss: 0.1440 - val_accuracy: 0.9685\n",
      "Epoch 15/50\n",
      "8143/8143 [==============================] - 0s 46us/sample - loss: 0.1143 - accuracy: 0.9835 - val_loss: 0.1351 - val_accuracy: 0.9681\n",
      "Epoch 16/50\n",
      "8143/8143 [==============================] - 0s 42us/sample - loss: 0.1128 - accuracy: 0.9833 - val_loss: 0.1415 - val_accuracy: 0.9685\n",
      "Epoch 17/50\n",
      "8143/8143 [==============================] - 0s 43us/sample - loss: 0.1112 - accuracy: 0.9826 - val_loss: 0.1395 - val_accuracy: 0.9685\n",
      "Epoch 18/50\n",
      "8143/8143 [==============================] - 0s 43us/sample - loss: 0.1098 - accuracy: 0.9838 - val_loss: 0.1339 - val_accuracy: 0.9681\n",
      "Epoch 19/50\n",
      "8143/8143 [==============================] - 0s 42us/sample - loss: 0.1073 - accuracy: 0.9840 - val_loss: 0.1291 - val_accuracy: 0.9692\n",
      "Epoch 20/50\n",
      "8143/8143 [==============================] - 0s 46us/sample - loss: 0.1070 - accuracy: 0.9843 - val_loss: 0.1280 - val_accuracy: 0.9696\n",
      "Epoch 21/50\n",
      "8143/8143 [==============================] - 0s 52us/sample - loss: 0.1055 - accuracy: 0.9846 - val_loss: 0.1299 - val_accuracy: 0.9685\n",
      "Epoch 22/50\n",
      "8143/8143 [==============================] - 0s 59us/sample - loss: 0.1036 - accuracy: 0.9834 - val_loss: 0.1267 - val_accuracy: 0.9685\n",
      "Epoch 23/50\n",
      "8143/8143 [==============================] - 0s 52us/sample - loss: 0.1017 - accuracy: 0.9845 - val_loss: 0.1298 - val_accuracy: 0.9700\n",
      "Epoch 24/50\n",
      "8143/8143 [==============================] - 0s 45us/sample - loss: 0.1010 - accuracy: 0.9844 - val_loss: 0.1278 - val_accuracy: 0.9685\n",
      "Epoch 25/50\n",
      "8143/8143 [==============================] - 0s 46us/sample - loss: 0.0998 - accuracy: 0.9843 - val_loss: 0.1221 - val_accuracy: 0.9722\n",
      "Epoch 26/50\n",
      "8143/8143 [==============================] - 0s 46us/sample - loss: 0.0994 - accuracy: 0.9845 - val_loss: 0.1326 - val_accuracy: 0.9704\n",
      "Epoch 27/50\n",
      "8143/8143 [==============================] - 0s 47us/sample - loss: 0.0980 - accuracy: 0.9850 - val_loss: 0.1196 - val_accuracy: 0.9749\n",
      "Epoch 28/50\n",
      "8143/8143 [==============================] - 0s 47us/sample - loss: 0.0972 - accuracy: 0.9843 - val_loss: 0.1219 - val_accuracy: 0.9730\n",
      "Epoch 29/50\n",
      "8143/8143 [==============================] - 0s 46us/sample - loss: 0.0953 - accuracy: 0.9854 - val_loss: 0.1216 - val_accuracy: 0.9711\n",
      "Epoch 30/50\n",
      "8143/8143 [==============================] - 0s 46us/sample - loss: 0.0952 - accuracy: 0.9851 - val_loss: 0.1323 - val_accuracy: 0.9700\n",
      "Epoch 31/50\n",
      "8143/8143 [==============================] - 0s 47us/sample - loss: 0.0951 - accuracy: 0.9858 - val_loss: 0.1246 - val_accuracy: 0.9700\n",
      "Epoch 32/50\n",
      "8143/8143 [==============================] - 0s 50us/sample - loss: 0.0928 - accuracy: 0.9867 - val_loss: 0.1171 - val_accuracy: 0.9730\n",
      "Epoch 33/50\n",
      "8143/8143 [==============================] - 0s 46us/sample - loss: 0.0935 - accuracy: 0.9849 - val_loss: 0.1251 - val_accuracy: 0.9700\n",
      "Epoch 34/50\n",
      "8143/8143 [==============================] - 0s 42us/sample - loss: 0.0932 - accuracy: 0.9860 - val_loss: 0.1335 - val_accuracy: 0.9707\n",
      "Epoch 35/50\n",
      "8143/8143 [==============================] - 0s 45us/sample - loss: 0.0930 - accuracy: 0.9846 - val_loss: 0.1242 - val_accuracy: 0.9700\n",
      "Epoch 36/50\n",
      "8143/8143 [==============================] - 0s 44us/sample - loss: 0.0904 - accuracy: 0.9859 - val_loss: 0.1137 - val_accuracy: 0.9745\n",
      "Epoch 37/50\n",
      "8143/8143 [==============================] - 0s 46us/sample - loss: 0.0911 - accuracy: 0.9851 - val_loss: 0.1360 - val_accuracy: 0.9685\n",
      "Epoch 38/50\n",
      "8143/8143 [==============================] - 0s 47us/sample - loss: 0.0897 - accuracy: 0.9851 - val_loss: 0.1192 - val_accuracy: 0.9707\n",
      "Epoch 39/50\n",
      "8143/8143 [==============================] - 0s 46us/sample - loss: 0.0899 - accuracy: 0.9856 - val_loss: 0.1247 - val_accuracy: 0.9704\n",
      "Epoch 40/50\n",
      "8143/8143 [==============================] - 0s 45us/sample - loss: 0.0878 - accuracy: 0.9858 - val_loss: 0.1247 - val_accuracy: 0.9700\n",
      "Epoch 41/50\n",
      "8143/8143 [==============================] - 0s 42us/sample - loss: 0.0894 - accuracy: 0.9862 - val_loss: 0.1294 - val_accuracy: 0.9707\n",
      "Epoch 42/50\n",
      "8143/8143 [==============================] - 0s 43us/sample - loss: 0.0882 - accuracy: 0.9855 - val_loss: 0.1232 - val_accuracy: 0.9707\n",
      "Epoch 43/50\n",
      "8143/8143 [==============================] - 0s 42us/sample - loss: 0.0877 - accuracy: 0.9856 - val_loss: 0.1167 - val_accuracy: 0.9741\n",
      "Epoch 44/50\n",
      "8143/8143 [==============================] - 0s 41us/sample - loss: 0.0873 - accuracy: 0.9858 - val_loss: 0.1155 - val_accuracy: 0.9734\n",
      "Epoch 45/50\n",
      "8143/8143 [==============================] - 0s 43us/sample - loss: 0.0872 - accuracy: 0.9851 - val_loss: 0.1111 - val_accuracy: 0.9764\n",
      "Epoch 46/50\n",
      "8143/8143 [==============================] - 0s 41us/sample - loss: 0.0862 - accuracy: 0.9851 - val_loss: 0.1119 - val_accuracy: 0.9741\n",
      "Epoch 47/50\n",
      "8143/8143 [==============================] - 0s 42us/sample - loss: 0.0851 - accuracy: 0.9851 - val_loss: 0.1181 - val_accuracy: 0.9700\n",
      "Epoch 48/50\n",
      "8143/8143 [==============================] - 0s 43us/sample - loss: 0.0862 - accuracy: 0.9859 - val_loss: 0.1124 - val_accuracy: 0.9752\n",
      "Epoch 49/50\n",
      "8143/8143 [==============================] - 0s 42us/sample - loss: 0.0862 - accuracy: 0.9854 - val_loss: 0.1234 - val_accuracy: 0.9707\n",
      "Epoch 50/50\n",
      "8143/8143 [==============================] - 0s 42us/sample - loss: 0.0849 - accuracy: 0.9854 - val_loss: 0.1133 - val_accuracy: 0.9741\n"
     ]
    }
   ],
   "source": [
    "history = model.fit(X_train, y_train, epochs=50, batch_size=32, validation_data=(X_val, y_val))"
   ]
  },
  {
   "cell_type": "markdown",
   "metadata": {},
   "source": [
    "### 5. Comparing Performances of SVM and Neural Network\n",
    "Let's test our models with the test data. This data has nearly 10000 instances. I will evaluate them with accuracy metric first, after then we will look into confusion matrix."
   ]
  },
  {
   "cell_type": "code",
   "execution_count": 88,
   "metadata": {},
   "outputs": [
    {
     "name": "stdout",
     "output_type": "stream",
     "text": [
      "Accuracy for SVM on test data: 97.62%.\n",
      "9752/9752 [==============================] - 0s 17us/sample - loss: 0.0865 - accuracy: 0.9893\n",
      "Accuracy for Neural Network model on test data: 98.93%.\n"
     ]
    }
   ],
   "source": [
    "print(f\"Accuracy for SVM on test data: {round((svm_model.score(X_test, y_test) * 100), 2)}%.\")\n",
    "print(f\"Accuracy for Neural Network model on test data: {round((model.evaluate(X_test, y_test)[1] * 100), 2)}%.\")"
   ]
  },
  {
   "cell_type": "code",
   "execution_count": 89,
   "metadata": {},
   "outputs": [
    {
     "data": {
      "image/png": "[encoded data removed]",
      "text/plain": [
       "<Figure size 432x288 with 2 Axes>"
      ]
     },
     "metadata": {},
     "output_type": "display_data"
    }
   ],
   "source": [
    "y_pred = svm_model.predict(X_test)\n",
    "plt.title(\"SVM Confusion matrix for Test data\", fontdict={\"fontsize\": 18})\n",
    "ax = sns.heatmap(confusion_matrix(y_test, y_pred), annot=True, fmt=\"d\")"
   ]
  },
  {
   "cell_type": "code",
   "execution_count": 90,
   "metadata": {},
   "outputs": [
    {
     "data": {
      "image/png": "[encoded data removed]",
      "text/plain": [
       "<Figure size 432x288 with 2 Axes>"
      ]
     },
     "metadata": {},
     "output_type": "display_data"
    }
   ],
   "source": [
    "y_pred = model.predict(X_test)\n",
    "threshold = 0.6\n",
    "y_pred = [1 if i >= threshold else 0 for i in y_pred]\n",
    "plt.title(\"Neural Network Confusion matrix for Test data\", fontdict={\"fontsize\": 18})\n",
    "ax = sns.heatmap(confusion_matrix(y_test, y_pred), annot=True, fmt=\"d\")"
   ]
  },
  {
   "cell_type": "markdown",
   "metadata": {},
   "source": [
    "\n",
    "### 6. Conclusion\n",
    "\n",
    "Both of the models did great job when predicting occupancy. Our accuracy is nearly 98%. So what do you think, which method (ML or DL) is suitable for this dataset and problem?\n",
    "\n",
    "Before answer that, look at the confusion matrix which are created when evaluating models with the test data. SVM model looks like biased toward occupied class. But we don't have that problem with neural network. So we can say that, we could use neural network for more stable and accurate results without significant errors.\n"
   ]
  },
  {
   "cell_type": "markdown",
   "metadata": {},
   "source": []
  }
 ],
 "metadata": {
  "interpreter": {
   "hash": "2bcc7527439059701f0db003532ab7fabea2d6ccdbe10e82398b0fcc6d0f2e78"
  },
  "kernelspec": {
   "display_name": "Python 3.7.9 64-bit ('tf2': conda)",
   "language": "python",
   "name": "python3"
  },
  "language_info": {
   "codemirror_mode": {
    "name": "ipython",
    "version": 3
   },
   "file_extension": ".py",
   "mimetype": "text/x-python",
   "name": "python",
   "nbconvert_exporter": "python",
   "pygments_lexer": "ipython3",
   "version": "3.7.9"
  },
  "orig_nbformat": 4
 },
 "nbformat": 4,
 "nbformat_minor": 2
}
